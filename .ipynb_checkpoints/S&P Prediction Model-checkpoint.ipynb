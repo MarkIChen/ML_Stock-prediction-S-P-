{
 "cells": [
  {
   "cell_type": "code",
   "execution_count": 2,
   "metadata": {},
   "outputs": [],
   "source": [
    "import numpy as np\n",
    "import pandas as pd\n",
    "import matplotlib.pyplot as plt\n",
    "from sklearn import linear_model, metrics, model_selection"
   ]
  },
  {
   "cell_type": "code",
   "execution_count": 3,
   "metadata": {},
   "outputs": [],
   "source": [
    "data = pd.read_csv('S&P_stock_data.csv')\n",
    "test_data = pd.read_csv('test_data.csv')"
   ]
  },
  {
   "cell_type": "code",
   "execution_count": 4,
   "metadata": {},
   "outputs": [
    {
     "data": {
      "text/html": [
       "<div>\n",
       "<style scoped>\n",
       "    .dataframe tbody tr th:only-of-type {\n",
       "        vertical-align: middle;\n",
       "    }\n",
       "\n",
       "    .dataframe tbody tr th {\n",
       "        vertical-align: top;\n",
       "    }\n",
       "\n",
       "    .dataframe thead th {\n",
       "        text-align: right;\n",
       "    }\n",
       "</style>\n",
       "<table border=\"1\" class=\"dataframe\">\n",
       "  <thead>\n",
       "    <tr style=\"text-align: right;\">\n",
       "      <th></th>\n",
       "      <th>Date</th>\n",
       "      <th>Open Price</th>\n",
       "      <th>Close Price</th>\n",
       "      <th>High Price</th>\n",
       "      <th>Low Price</th>\n",
       "      <th>Volume</th>\n",
       "    </tr>\n",
       "  </thead>\n",
       "  <tbody>\n",
       "    <tr>\n",
       "      <th>0</th>\n",
       "      <td>02-Jan-2009</td>\n",
       "      <td>902.99</td>\n",
       "      <td>931.80</td>\n",
       "      <td>934.73</td>\n",
       "      <td>899.35</td>\n",
       "      <td>4048270080</td>\n",
       "    </tr>\n",
       "    <tr>\n",
       "      <th>1</th>\n",
       "      <td>05-Jan-2009</td>\n",
       "      <td>929.17</td>\n",
       "      <td>927.45</td>\n",
       "      <td>936.63</td>\n",
       "      <td>919.53</td>\n",
       "      <td>5413910016</td>\n",
       "    </tr>\n",
       "    <tr>\n",
       "      <th>2</th>\n",
       "      <td>06-Jan-2009</td>\n",
       "      <td>931.17</td>\n",
       "      <td>934.70</td>\n",
       "      <td>943.85</td>\n",
       "      <td>927.28</td>\n",
       "      <td>5392620032</td>\n",
       "    </tr>\n",
       "    <tr>\n",
       "      <th>3</th>\n",
       "      <td>07-Jan-2009</td>\n",
       "      <td>927.45</td>\n",
       "      <td>906.65</td>\n",
       "      <td>927.45</td>\n",
       "      <td>902.37</td>\n",
       "      <td>4704940032</td>\n",
       "    </tr>\n",
       "    <tr>\n",
       "      <th>4</th>\n",
       "      <td>08-Jan-2009</td>\n",
       "      <td>905.73</td>\n",
       "      <td>909.73</td>\n",
       "      <td>910.00</td>\n",
       "      <td>896.81</td>\n",
       "      <td>4991549952</td>\n",
       "    </tr>\n",
       "  </tbody>\n",
       "</table>\n",
       "</div>"
      ],
      "text/plain": [
       "          Date  Open Price  Close Price  High Price  Low Price      Volume\n",
       "0  02-Jan-2009      902.99       931.80      934.73     899.35  4048270080\n",
       "1  05-Jan-2009      929.17       927.45      936.63     919.53  5413910016\n",
       "2  06-Jan-2009      931.17       934.70      943.85     927.28  5392620032\n",
       "3  07-Jan-2009      927.45       906.65      927.45     902.37  4704940032\n",
       "4  08-Jan-2009      905.73       909.73      910.00     896.81  4991549952"
      ]
     },
     "execution_count": 4,
     "metadata": {},
     "output_type": "execute_result"
    }
   ],
   "source": [
    "data.head()"
   ]
  },
  {
   "cell_type": "markdown",
   "metadata": {},
   "source": [
    "# Linear Regression"
   ]
  },
  {
   "cell_type": "markdown",
   "metadata": {},
   "source": [
    "### This data might have some relationship with time\n",
    "- x: time \n",
    "- y: open price\n",
    "\n",
    "### Thus, we apply the data to linear regression model"
   ]
  },
  {
   "cell_type": "code",
   "execution_count": 5,
   "metadata": {},
   "outputs": [
    {
     "data": {
      "text/plain": [
       "LinearRegression(copy_X=True, fit_intercept=True, n_jobs=None, normalize=True)"
      ]
     },
     "execution_count": 5,
     "metadata": {},
     "output_type": "execute_result"
    }
   ],
   "source": [
    "reg = linear_model.LinearRegression(normalize= True)\n",
    "y = data['Open Price']\n",
    "x = np.arange(len(data))\n",
    "\n",
    "x = np.expand_dims(x, 1)\n",
    "x\n",
    "reg.fit(x,y)\n"
   ]
  },
  {
   "cell_type": "code",
   "execution_count": 6,
   "metadata": {},
   "outputs": [
    {
     "data": {
      "image/png": "[encoded data removed]",
      "text/plain": [
       "<Figure size 432x288 with 1 Axes>"
      ]
     },
     "metadata": {
      "needs_background": "light"
     },
     "output_type": "display_data"
    }
   ],
   "source": [
    "plt.scatter(x,y)\n",
    "price = reg.coef_ * x + reg.intercept_\n",
    "\n",
    "plt.plot(x, price, 'r')\n",
    "plt.show()"
   ]
  },
  {
   "cell_type": "code",
   "execution_count": 7,
   "metadata": {},
   "outputs": [
    {
     "data": {
      "text/plain": [
       "42379.067682961846"
      ]
     },
     "execution_count": 7,
     "metadata": {},
     "output_type": "execute_result"
    }
   ],
   "source": [
    "\n",
    "x_test = np.arange(len(data), len(data)+len(test_data))\n",
    "x_test = np.expand_dims(x_test, 1)\n",
    "\n",
    "y_pred = reg.predict(x_test)\n",
    "mse_train = metrics.mean_squared_error(test_data['Open Price'], y_pred)\n",
    "mse_train"
   ]
  },
  {
   "cell_type": "code",
   "execution_count": 8,
   "metadata": {},
   "outputs": [
    {
     "data": {
      "image/png": "[encoded data removed]",
      "text/plain": [
       "<Figure size 432x288 with 1 Axes>"
      ]
     },
     "metadata": {
      "needs_background": "light"
     },
     "output_type": "display_data"
    }
   ],
   "source": [
    "plt.scatter(x_test, test_data['Open Price'])\n",
    "price = reg.coef_ * x_test + reg.intercept_\n",
    "\n",
    "plt.plot(x_test, price, 'r')\n",
    "plt.show()"
   ]
  },
  {
   "cell_type": "markdown",
   "metadata": {},
   "source": [
    "### If we use this model there will be a massive error to the real issue."
   ]
  },
  {
   "cell_type": "markdown",
   "metadata": {},
   "source": [
    "# Logistic Regreesion"
   ]
  },
  {
   "cell_type": "markdown",
   "metadata": {},
   "source": [
    "### We need to transform the orginal data because to apply logistic regression model, we have to label each data. In my way, I will lable the price that is higher than yesterday's price as one. On the other hand, the price lower than the price in yesterday as -1.\n",
    "\n",
    "### Based on my suggestion, the price of the stock may somehow related to the \n",
    "### (Close Price - Open Price) and (High Price - Low Price)  yesterday, so we can use these two variables to predict the model tomorrow."
   ]
  },
  {
   "cell_type": "markdown",
   "metadata": {},
   "source": [
    "## Data Discription"
   ]
  },
  {
   "cell_type": "markdown",
   "metadata": {},
   "source": [
    "- first variable : yesterday Close price - yesterday Open price\n",
    "- second variable : yesterday High price - yesterday Low price\n",
    "- prediction: whether the stock will grow tommorow"
   ]
  },
  {
   "cell_type": "markdown",
   "metadata": {},
   "source": [
    "### I will not consider time because due to the above observation, the price will increase with time. If we consider time, the investors should invest in any time because  S&P will grow in most of the case.  Moreover, time is not a vital factor because every investor will only care about today whether the stock price will grow or not. If the investors want to predict future price, he should wait until the day because there is other variations during the period."
   ]
  },
  {
   "cell_type": "code",
   "execution_count": 98,
   "metadata": {},
   "outputs": [],
   "source": [
    "data = pd.read_csv('S&P_stock_data.csv')\n",
    "test_data = pd.read_csv('test_data.csv')"
   ]
  },
  {
   "cell_type": "code",
   "execution_count": 99,
   "metadata": {},
   "outputs": [],
   "source": [
    "def LogRegRule(inputdata):\n",
    "    for index, row in inputdata.iterrows():\n",
    "        if index !=0:\n",
    "            if int(inputdata.loc[index - 1, 'Close Price']) > int(row['Close Price'])  :\n",
    "                inputdata.loc[index, 'growth'] = -1\n",
    "            else :\n",
    "                inputdata.loc[index, 'growth'] = 1\n",
    "\n",
    "\n",
    "            inputdata.loc[index, 'var1'] = (inputdata.loc[index - 1, 'Close Price']) - (inputdata.loc[index - 1, 'Open Price'])\n",
    "            inputdata.loc[index, 'var2'] = (inputdata.loc[index - 1, 'High Price']- (inputdata.loc[index - 1, 'Low Price']))\n",
    "    return inputdata"
   ]
  },
  {
   "cell_type": "code",
   "execution_count": 100,
   "metadata": {},
   "outputs": [],
   "source": [
    "data_train_SVM = LogRegRule(data)\n",
    "data_test_SVM = LogRegRule(test_data)\n",
    "data_train_SVM = data_train_SVM.drop(0, axis=0)\n",
    "data_test_SVM = data_test_SVM.drop(0, axis =0)\n"
   ]
  },
  {
   "cell_type": "code",
   "execution_count": 101,
   "metadata": {},
   "outputs": [],
   "source": [
    "X_train = data_train_SVM[['var1', 'var2']]\n",
    "y_train = data_train_SVM['growth']\n",
    "X_test = data_test_SVM[['var1', 'var2']]\n",
    "y_test = data_test_SVM['growth']"
   ]
  },
  {
   "cell_type": "markdown",
   "metadata": {},
   "source": [
    "## Feature scaling"
   ]
  },
  {
   "cell_type": "code",
   "execution_count": 102,
   "metadata": {},
   "outputs": [
    {
     "data": {
      "text/plain": [
       "array([[ 2.08951546,  1.85947401],\n",
       "       [-0.17383835,  0.00992304],\n",
       "       [ 0.21537251, -0.04370179],\n",
       "       ...,\n",
       "       [-0.00777505, -1.03930253],\n",
       "       [ 0.06042952, -1.21737746],\n",
       "       [-1.1983896 ,  0.15258534]])"
      ]
     },
     "execution_count": 102,
     "metadata": {},
     "output_type": "execute_result"
    }
   ],
   "source": [
    "from sklearn.preprocessing import StandardScaler\n",
    "sc = StandardScaler()\n",
    "X_train = sc.fit_transform(X_train)\n",
    "X_test = sc.transform(X_test)\n",
    "X_train"
   ]
  },
  {
   "cell_type": "markdown",
   "metadata": {},
   "source": [
    "## Fit the data into logistic regression model"
   ]
  },
  {
   "cell_type": "code",
   "execution_count": 103,
   "metadata": {},
   "outputs": [
    {
     "name": "stderr",
     "output_type": "stream",
     "text": [
      "/anaconda3/lib/python3.7/site-packages/sklearn/linear_model/logistic.py:433: FutureWarning: Default solver will be changed to 'lbfgs' in 0.22. Specify a solver to silence this warning.\n",
      "  FutureWarning)\n"
     ]
    },
    {
     "data": {
      "text/plain": [
       "LogisticRegression(C=1.0, class_weight=None, dual=False, fit_intercept=True,\n",
       "          intercept_scaling=1, max_iter=100, multi_class='warn',\n",
       "          n_jobs=None, penalty='l2', random_state=0, solver='warn',\n",
       "          tol=0.0001, verbose=0, warm_start=False)"
      ]
     },
     "execution_count": 103,
     "metadata": {},
     "output_type": "execute_result"
    }
   ],
   "source": [
    "from sklearn.linear_model import LogisticRegression\n",
    "classifier = LogisticRegression(random_state = 0)\n",
    "classifier.fit(X_train, y_train)"
   ]
  },
  {
   "cell_type": "code",
   "execution_count": 104,
   "metadata": {},
   "outputs": [
    {
     "name": "stdout",
     "output_type": "stream",
     "text": [
      "0.5258964143426295\n"
     ]
    }
   ],
   "source": [
    "y_pred = classifier.predict(X_test)\n",
    "from sklearn.metrics import confusion_matrix\n",
    "accuracy = classifier.score(X_test,y_test)\n",
    "print(accuracy)"
   ]
  },
  {
   "cell_type": "markdown",
   "metadata": {},
   "source": [
    "## Visualization"
   ]
  },
  {
   "cell_type": "code",
   "execution_count": 105,
   "metadata": {},
   "outputs": [],
   "source": [
    "from matplotlib.colors import ListedColormap\n",
    "def plotLogRegression(X, y):\n",
    "    X_set, y_set = X, y\n",
    "    X1, X2 = np.meshgrid(np.arange(start = X_set[:, 0].min() - 1, stop = X_set[:, 0].max() + 1, step = 0.01),\n",
    "                         np.arange(start = X_set[:, 1].min() - 1, stop = X_set[:, 1].max() + 1, step = 0.01))\n",
    "    plt.contourf(X1, X2, classifier.predict(np.array([X1.ravel(), X2.ravel()]).T).reshape(X1.shape),\n",
    "                 alpha = 0.75, cmap = ListedColormap(['lightblue', 'lightgreen']))\n",
    "    plt.xlim(X1.min(), X1.max())\n",
    "    plt.ylim(X2.min(), X2.max())\n",
    "    for i, j in enumerate(np.unique(y_set)):\n",
    "        plt.scatter(X_set[y_set == j, 0], X_set[y_set == j, 1],\n",
    "                    c = ['red', 'blue', 'lightgreen'][i], label = j)\n",
    "    plt.title('Logistic Regression (Training set)')\n",
    "    plt.xlabel('close price - open price')\n",
    "    plt.ylabel('high price - low price')\n",
    "    plt.legend()\n",
    "    plt.show()"
   ]
  },
  {
   "cell_type": "code",
   "execution_count": 106,
   "metadata": {},
   "outputs": [
    {
     "data": {
      "image/png": "[encoded data removed]",
      "text/plain": [
       "<Figure size 432x288 with 1 Axes>"
      ]
     },
     "metadata": {
      "needs_background": "light"
     },
     "output_type": "display_data"
    },
    {
     "data": {
      "image/png": "[encoded data removed]",
      "text/plain": [
       "<Figure size 432x288 with 1 Axes>"
      ]
     },
     "metadata": {
      "needs_background": "light"
     },
     "output_type": "display_data"
    }
   ],
   "source": [
    "plotLogRegression(X_train, y_train)\n",
    "plotLogRegression(X_test, y_test)"
   ]
  },
  {
   "cell_type": "markdown",
   "metadata": {},
   "source": [
    "### 模型只有五成準確度，換句話說如果前一天漲幅很高，隔天就可能也會繼續漲"
   ]
  },
  {
   "cell_type": "markdown",
   "metadata": {},
   "source": [
    "### Modification"
   ]
  },
  {
   "cell_type": "markdown",
   "metadata": {},
   "source": [
    "### 必須漲超過一定幅度，才會算是有漲"
   ]
  },
  {
   "cell_type": "code",
   "execution_count": 205,
   "metadata": {},
   "outputs": [],
   "source": [
    "data = pd.read_csv('S&P_stock_data.csv')\n",
    "test_data = pd.read_csv('test_data.csv')"
   ]
  },
  {
   "cell_type": "code",
   "execution_count": 206,
   "metadata": {},
   "outputs": [],
   "source": [
    "def LogRegRule_mod(inputdata):\n",
    "    for index, row in inputdata.iterrows():\n",
    "        if index !=0:\n",
    "            if int(inputdata.loc[index - 1, 'Close Price']) > int(row['Close Price'] + 5)  :\n",
    "                inputdata.loc[index, 'growth'] = -1\n",
    "            else :\n",
    "                inputdata.loc[index, 'growth'] = 1\n",
    "\n",
    "\n",
    "            inputdata.loc[index, 'var1'] = (inputdata.loc[index - 1, 'Close Price']) - (inputdata.loc[index - 1, 'Open Price'])\n",
    "            inputdata.loc[index, 'var2'] = (inputdata.loc[index - 1, 'High Price']- (inputdata.loc[index - 1, 'Low Price']))\n",
    "    return inputdata"
   ]
  },
  {
   "cell_type": "code",
   "execution_count": 207,
   "metadata": {},
   "outputs": [],
   "source": [
    "data_train_SVM = LogRegRule(data)\n",
    "data_test_SVM = LogRegRule(test_data)\n",
    "data_train_SVM = data_train_SVM.drop(0, axis=0)\n",
    "data_test_SVM = data_test_SVM.drop(0, axis =0)\n"
   ]
  },
  {
   "cell_type": "code",
   "execution_count": 208,
   "metadata": {},
   "outputs": [],
   "source": [
    "X_train = data_train_SVM[['var1', 'var2']]\n",
    "y_train = data_train_SVM['growth']\n",
    "X_test = data_test_SVM[['var1', 'var2']]\n",
    "y_test = data_test_SVM['growth']"
   ]
  },
  {
   "cell_type": "markdown",
   "metadata": {},
   "source": [
    "## Feature scaling"
   ]
  },
  {
   "cell_type": "code",
   "execution_count": 209,
   "metadata": {},
   "outputs": [
    {
     "data": {
      "text/plain": [
       "array([[ 2.08951546,  1.85947401],\n",
       "       [-0.17383835,  0.00992304],\n",
       "       [ 0.21537251, -0.04370179],\n",
       "       ...,\n",
       "       [-0.00777505, -1.03930253],\n",
       "       [ 0.06042952, -1.21737746],\n",
       "       [-1.1983896 ,  0.15258534]])"
      ]
     },
     "execution_count": 209,
     "metadata": {},
     "output_type": "execute_result"
    }
   ],
   "source": [
    "from sklearn.preprocessing import StandardScaler\n",
    "sc = StandardScaler()\n",
    "X_train = sc.fit_transform(X_train)\n",
    "X_test = sc.transform(X_test)\n",
    "X_train"
   ]
  },
  {
   "cell_type": "markdown",
   "metadata": {},
   "source": [
    "## Fit the data into logistic regression model"
   ]
  },
  {
   "cell_type": "code",
   "execution_count": 210,
   "metadata": {},
   "outputs": [
    {
     "name": "stderr",
     "output_type": "stream",
     "text": [
      "/anaconda3/lib/python3.7/site-packages/sklearn/linear_model/logistic.py:433: FutureWarning: Default solver will be changed to 'lbfgs' in 0.22. Specify a solver to silence this warning.\n",
      "  FutureWarning)\n"
     ]
    },
    {
     "data": {
      "text/plain": [
       "LogisticRegression(C=1.0, class_weight=None, dual=False, fit_intercept=True,\n",
       "          intercept_scaling=1, max_iter=100, multi_class='warn',\n",
       "          n_jobs=None, penalty='l2', random_state=0, solver='warn',\n",
       "          tol=0.0001, verbose=0, warm_start=False)"
      ]
     },
     "execution_count": 210,
     "metadata": {},
     "output_type": "execute_result"
    }
   ],
   "source": [
    "from sklearn.linear_model import LogisticRegression\n",
    "classifier = LogisticRegression(random_state = 0)\n",
    "classifier.fit(X_train, y_train)"
   ]
  },
  {
   "cell_type": "code",
   "execution_count": 211,
   "metadata": {},
   "outputs": [
    {
     "name": "stdout",
     "output_type": "stream",
     "text": [
      "0.5258964143426295\n"
     ]
    }
   ],
   "source": [
    "y_pred = classifier.predict(X_test)\n",
    "from sklearn.metrics import confusion_matrix\n",
    "accuracy = classifier.score(X_test,y_test)\n",
    "print(accuracy)"
   ]
  },
  {
   "cell_type": "markdown",
   "metadata": {},
   "source": [
    "### Visulization"
   ]
  },
  {
   "cell_type": "code",
   "execution_count": 212,
   "metadata": {},
   "outputs": [
    {
     "data": {
      "image/png": "[encoded data removed]",
      "text/plain": [
       "<Figure size 432x288 with 1 Axes>"
      ]
     },
     "metadata": {
      "needs_background": "light"
     },
     "output_type": "display_data"
    },
    {
     "data": {
      "image/png": "[encoded data removed]",
      "text/plain": [
       "<Figure size 432x288 with 1 Axes>"
      ]
     },
     "metadata": {
      "needs_background": "light"
     },
     "output_type": "display_data"
    }
   ],
   "source": [
    "plotLogRegression(X_train, y_train)\n",
    "plotLogRegression(X_test, y_test)"
   ]
  },
  {
   "cell_type": "markdown",
   "metadata": {},
   "source": [
    "## Discussion "
   ]
  },
  {
   "cell_type": "markdown",
   "metadata": {},
   "source": [
    "### 正確率並沒有提升，可以由圖形發現此數據無法用線性方式分割，所以準確度很低，可知此種問題不適合用Logistic Regression來做。"
   ]
  },
  {
   "cell_type": "markdown",
   "metadata": {},
   "source": [
    "# SVM"
   ]
  },
  {
   "cell_type": "markdown",
   "metadata": {},
   "source": [
    "### We need to transform the orginal data because to apply logistic regression model, we have to label each data. In my way, I will lable the price that is higher than yesterday's price as one. On the other hand, the price lower than the price in yesterday as -1.\n",
    "\n",
    "### Based on my suggestion, the price of the stock may somehow related to the \n",
    "### (Close Price - Open Price) and (High Price - Low Price)  yesterday, so we can use these two variables to predict the model tomorrow."
   ]
  },
  {
   "cell_type": "code",
   "execution_count": 115,
   "metadata": {},
   "outputs": [],
   "source": [
    "data = pd.read_csv('S&P_stock_data.csv')\n",
    "test_data = pd.read_csv('test_data.csv')"
   ]
  },
  {
   "cell_type": "markdown",
   "metadata": {},
   "source": [
    "### We use the same data preprcess method"
   ]
  },
  {
   "cell_type": "code",
   "execution_count": 116,
   "metadata": {},
   "outputs": [],
   "source": [
    "data_train_SVM = LogRegRule(data)\n",
    "data_test_SVM = LogRegRule(test_data)\n",
    "data_train_SVM = data_train_SVM.drop(0, axis=0)\n",
    "data_test_SVM = data_test_SVM.drop(0, axis =0)\n"
   ]
  },
  {
   "cell_type": "markdown",
   "metadata": {},
   "source": [
    "### The first row may be wrong, so I discard it."
   ]
  },
  {
   "cell_type": "markdown",
   "metadata": {},
   "source": []
  },
  {
   "cell_type": "markdown",
   "metadata": {},
   "source": [
    "### Extract var1 and var2 as two variable that may influence stock price"
   ]
  },
  {
   "cell_type": "code",
   "execution_count": 117,
   "metadata": {},
   "outputs": [],
   "source": [
    "X_train = data_train_SVM[['var1', 'var2']]\n",
    "y_train = data_train_SVM['growth']\n",
    "X_test = data_test_SVM[['var1', 'var2']]\n",
    "y_test = data_test_SVM['growth']"
   ]
  },
  {
   "cell_type": "markdown",
   "metadata": {},
   "source": [
    "## Standardization"
   ]
  },
  {
   "cell_type": "code",
   "execution_count": 118,
   "metadata": {},
   "outputs": [],
   "source": [
    "from sklearn.preprocessing import StandardScaler\n",
    "\n",
    "scaler = StandardScaler()\n",
    "scaler.fit(X_train)\n",
    "\n",
    "X_train_std = scaler.transform(X_train)\n",
    "X_test_std = scaler.transform(X_test)"
   ]
  },
  {
   "cell_type": "code",
   "execution_count": 119,
   "metadata": {},
   "outputs": [],
   "source": [
    "from sklearn.svm import SVC"
   ]
  },
  {
   "cell_type": "code",
   "execution_count": 120,
   "metadata": {},
   "outputs": [
    {
     "name": "stdout",
     "output_type": "stream",
     "text": [
      "Penalty = 0.05, Accuracy = 52.99 %\n"
     ]
    }
   ],
   "source": [
    "from sklearn.metrics import accuracy_score\n",
    "\n",
    "# Custom kernel function\n",
    "def my_kernel(X, Y):\n",
    "    return np.dot(X, Y.T)\n",
    "  \n",
    "penalty = 0.05\n",
    "\n",
    "svm = SVC(C=penalty, kernel=\"linear\", probability=True)\n",
    "svm.fit(X_train_std, y_train.values)\n",
    "  \n",
    "acc_rate = accuracy_score(y_test.values, svm.predict(X_test_std)) * 100\n",
    "print(\"Penalty = %.2f, Accuracy = %.2f %%\" % (penalty, acc_rate))\n",
    " "
   ]
  },
  {
   "cell_type": "markdown",
   "metadata": {},
   "source": [
    "### Visualization"
   ]
  },
  {
   "cell_type": "code",
   "execution_count": 121,
   "metadata": {},
   "outputs": [],
   "source": [
    "from matplotlib.colors import ListedColormap\n",
    "\n",
    "def plot_decision_regions(X, y, classifier, test_idx=None, resolution=0.02):\n",
    "\n",
    "    # setup marker generator and color map\n",
    "    markers = ('s', 'x', 'o', '^', 'v')\n",
    "    colors = ('red', 'blue', 'lightgreen', 'gray', 'cyan')\n",
    "    cmap = ListedColormap(colors[:len(np.unique(y))])\n",
    "\n",
    "    # plot the decision surface\n",
    "    x1_min, x1_max = X[:, 0].min() - 1, X[:, 0].max() + 1\n",
    "    x2_min, x2_max = X[:, 1].min() - 1, X[:, 1].max() + 1\n",
    "    xx1, xx2 = np.meshgrid(np.arange(x1_min, x1_max, resolution),\n",
    "                           np.arange(x2_min, x2_max, resolution))\n",
    "    Z = classifier.predict(np.array([xx1.ravel(), xx2.ravel()]).T)\n",
    "    Z = Z.reshape(xx1.shape)\n",
    "    plt.contourf(xx1, xx2, Z, alpha=0.4, cmap=cmap)\n",
    "    plt.xlim(xx1.min(), xx1.max())\n",
    "    plt.ylim(xx2.min(), xx2.max())\n",
    "\n",
    "    for idx, cl in enumerate(np.unique(y)):\n",
    "        plt.scatter(x=X[y == cl, 0], \n",
    "                    y=X[y == cl, 1],\n",
    "                    alpha=0.6, \n",
    "                    c = ['red', 'blue', 'lightgreen'][idx],\n",
    "                    edgecolor='black',\n",
    "                    marker=markers[idx], \n",
    "                    label=cl)\n",
    "\n",
    "    # highlight test samples\n",
    "    if test_idx:\n",
    "        # plot all samples\n",
    "        if not versiontuple(np.__version__) >= versiontuple('1.9.0'):\n",
    "            X_test, y_test = X[list(test_idx), :], y[list(test_idx)]\n",
    "            warnings.warn('Please update to NumPy 1.9.0 or newer')\n",
    "        else:\n",
    "            X_test, y_test = X[test_idx, :], y[test_idx]\n",
    "\n",
    "        plt.scatter(X_test[:, 0],\n",
    "                    X_test[:, 1],\n",
    "                    c='',\n",
    "                    alpha=1.0,\n",
    "                    edgecolor='black',\n",
    "                    linewidths=1,\n",
    "                    marker='o',\n",
    "                    s=55, label='test set')"
   ]
  },
  {
   "cell_type": "code",
   "execution_count": 122,
   "metadata": {},
   "outputs": [],
   "source": [
    "def plot_train_test(location, x, y):\n",
    "  \n",
    "    plt.subplot(1,2,location)\n",
    "\n",
    "    plot_decision_regions(x, y, classifier=svm)\n",
    "    if location == 1:\n",
    "      plt.title(\"Training\")\n",
    "    elif location == 2:\n",
    "      plt.title(\"Testing\")\n",
    "    plt.xlabel('close price - open price')\n",
    "    plt.ylabel('high price - low price')\n",
    "    plt.legend(loc='upper left')\n",
    "    plt.tight_layout()\n",
    "    "
   ]
  },
  {
   "cell_type": "code",
   "execution_count": 123,
   "metadata": {},
   "outputs": [
    {
     "name": "stdout",
     "output_type": "stream",
     "text": [
      "Penalty = 0.05, Train accuracy = 56.89 %, Test accuracy = 52.99 %\n"
     ]
    }
   ],
   "source": [
    "penalty = 0.05\n",
    "\n",
    "svm = SVC(C=penalty, kernel=\"linear\")\n",
    "svm.fit(X_train_std, y_train.values)\n",
    "\n",
    "acc_train = accuracy_score(y_train.values, svm.predict(X_train_std)) * 100\n",
    "acc_test = accuracy_score(y_test.values, svm.predict(X_test_std)) * 100\n",
    "print(\"Penalty = %.2f, Train accuracy = %.2f %%, Test accuracy = %.2f %%\" % (penalty, acc_train, acc_test))"
   ]
  },
  {
   "cell_type": "code",
   "execution_count": 124,
   "metadata": {},
   "outputs": [
    {
     "data": {
      "image/png": "[encoded data removed]",
      "text/plain": [
       "<Figure size 720x360 with 2 Axes>"
      ]
     },
     "metadata": {
      "needs_background": "light"
     },
     "output_type": "display_data"
    },
    {
     "name": "stdout",
     "output_type": "stream",
     "text": [
      "C: 0.05, Train Acc: 56.89 %, Test Acc: 52.99 %\n",
      "Kernel function : linear\n"
     ]
    }
   ],
   "source": [
    "plt.figure(figsize=(10,5))\n",
    "\n",
    "plot_train_test(1, X_train_std, y_train.values)\n",
    "plot_train_test(2, X_test_std, y_test.values)\n",
    "\n",
    "plt.show()\n",
    "\n",
    "print(\"C: %.2f, Train Acc: %.2f %%, Test Acc: %.2f %%\" % (penalty, acc_train, acc_test))\n",
    "print(\"Kernel function : linear\")"
   ]
  },
  {
   "cell_type": "markdown",
   "metadata": {},
   "source": [
    "## Modification "
   ]
  },
  {
   "cell_type": "markdown",
   "metadata": {},
   "source": [
    "#### Apply data to the new rule"
   ]
  },
  {
   "cell_type": "markdown",
   "metadata": {},
   "source": [
    "### Change the variable to only high price and open price"
   ]
  },
  {
   "cell_type": "code",
   "execution_count": 136,
   "metadata": {},
   "outputs": [],
   "source": [
    "def newrule3(inputdata):\n",
    "    for index, row in inputdata.iterrows():\n",
    "        if index !=0:\n",
    "            if int(inputdata.loc[index - 1, 'Open Price']) > int(row['Open Price'])  :\n",
    "                inputdata.loc[index, 'growth'] = -1\n",
    "            else :\n",
    "                inputdata.loc[index, 'growth'] = 1\n",
    "\n",
    "\n",
    "            inputdata.loc[index, 'var1'] = inputdata.loc[index - 1, 'Open Price']\n",
    "            inputdata.loc[index, 'var2'] = inputdata.loc[index - 1, 'High Price']\n",
    "    return inputdata"
   ]
  },
  {
   "cell_type": "code",
   "execution_count": 142,
   "metadata": {},
   "outputs": [],
   "source": [
    "def trainWith(data, test_data, penalty = 0.05,  kernel=\"linear\"):\n",
    "\n",
    "    data_train_SVM = data.drop(0, axis=0)\n",
    "    data_test_SVM = test_data.drop(0, axis =0)\n",
    "\n",
    "    X_train = data_train_SVM[['var1', 'var2']]\n",
    "    y_train = data_train_SVM['growth']\n",
    "    X_test = data_test_SVM[['var1', 'var2']]\n",
    "    y_test = data_test_SVM['growth']\n",
    "\n",
    "    from sklearn.preprocessing import StandardScaler\n",
    "    scaler = StandardScaler()\n",
    "    scaler.fit(X_train)\n",
    "\n",
    "    X_train_std = scaler.transform(X_train)\n",
    "    X_test_std = scaler.transform(X_test)\n",
    "\n",
    "\n",
    "    svm = SVC(C=penalty, kernel = kernel)\n",
    "    svm.fit(X_train_std, y_train.values)\n",
    "\n",
    "    acc_train = accuracy_score(y_train.values, svm.predict(X_train_std)) * 100\n",
    "    acc_test = accuracy_score(y_test.values, svm.predict(X_test_std)) * 100\n",
    "    print(\"Penalty = %.2f, Train accuracy = %.2f %%, Test accuracy = %.2f %%\" % (penalty, acc_train, acc_test))\n",
    "\n",
    "    plt.figure(figsize=(10,5))\n",
    "\n",
    "    plot_train_test(1, X_train_std, y_train.values)\n",
    "    plot_train_test(2, X_test_std, y_test.values)\n",
    "\n",
    "    plt.show()\n",
    "\n",
    "    print(\"C: %.2f, Train Acc: %.2f %%, Test Acc: %.2f %%\" % (penalty, acc_train, acc_test))\n",
    "    print(\"Kernel function : \" + kernel)"
   ]
  },
  {
   "cell_type": "markdown",
   "metadata": {},
   "source": [
    "### Now, let's try with rule3"
   ]
  },
  {
   "cell_type": "code",
   "execution_count": 148,
   "metadata": {},
   "outputs": [
    {
     "name": "stdout",
     "output_type": "stream",
     "text": [
      "Penalty = 0.05, Train accuracy = 58.08 %, Test accuracy = 53.39 %\n"
     ]
    },
    {
     "data": {
      "image/png": "[encoded data removed]",
      "text/plain": [
       "<Figure size 720x360 with 2 Axes>"
      ]
     },
     "metadata": {
      "needs_background": "light"
     },
     "output_type": "display_data"
    },
    {
     "name": "stdout",
     "output_type": "stream",
     "text": [
      "C: 0.05, Train Acc: 58.08 %, Test Acc: 53.39 %\n",
      "Kernel function : linear\n"
     ]
    }
   ],
   "source": [
    "mod3_data = newrule3(data)\n",
    "mod3_test_data = newrule3(test_data)\n",
    "trainWith(mod3_data, mod3_test_data)"
   ]
  },
  {
   "cell_type": "markdown",
   "metadata": {},
   "source": [
    "### Or, we could try another function, such as 'poly', or 'sigmoid', but the accuracy will become lower."
   ]
  },
  {
   "cell_type": "code",
   "execution_count": 149,
   "metadata": {},
   "outputs": [
    {
     "name": "stdout",
     "output_type": "stream",
     "text": [
      "Penalty = 0.01, Train accuracy = 58.08 %, Test accuracy = 53.39 %\n"
     ]
    },
    {
     "data": {
      "image/png": "[encoded data removed]",
      "text/plain": [
       "<Figure size 720x360 with 2 Axes>"
      ]
     },
     "metadata": {
      "needs_background": "light"
     },
     "output_type": "display_data"
    },
    {
     "name": "stdout",
     "output_type": "stream",
     "text": [
      "C: 0.01, Train Acc: 58.08 %, Test Acc: 53.39 %\n",
      "Kernel function : poly\n"
     ]
    }
   ],
   "source": [
    "trainWith(mod2_data, mod2_test_data,penalty= 0.01, kernel= 'poly')"
   ]
  },
  {
   "cell_type": "code",
   "execution_count": 150,
   "metadata": {},
   "outputs": [
    {
     "name": "stdout",
     "output_type": "stream",
     "text": [
      "Penalty = 0.01, Train accuracy = 58.08 %, Test accuracy = 53.39 %\n"
     ]
    },
    {
     "data": {
      "image/png": "[encoded data removed]",
      "text/plain": [
       "<Figure size 720x360 with 2 Axes>"
      ]
     },
     "metadata": {
      "needs_background": "light"
     },
     "output_type": "display_data"
    },
    {
     "name": "stdout",
     "output_type": "stream",
     "text": [
      "C: 0.01, Train Acc: 58.08 %, Test Acc: 53.39 %\n",
      "Kernel function : sigmoid\n"
     ]
    }
   ],
   "source": [
    "trainWith(mod2_data, mod2_test_data,penalty= 0.01, kernel= 'sigmoid')"
   ]
  },
  {
   "cell_type": "markdown",
   "metadata": {},
   "source": [
    "### Why the accuracy is so low???\n",
    "### Because this data is much more difficult to analyze than other data. It is obvious that stock market price will not fluctuate just because of the stock price of yesterday. There are other factors that may influence the stock price. For example, the news of the stock, and the comprehensively market environment will change the result significantly. It is smart to avoid the data in 2008 when the depression was happened, but some other events like the recession in Europe around 2012 may influence the results. Hence, it is fair to say that using classification model to predict stock market is not quite a good idea. "
   ]
  },
  {
   "cell_type": "markdown",
   "metadata": {},
   "source": [
    "## Discussion"
   ]
  },
  {
   "cell_type": "markdown",
   "metadata": {},
   "source": [
    "### Although the accuracy will improve after we apply the modified rule, the problem is the model predict stock price tomorrow will drop every day. Hence, the value of the model will vanished because investors cannot buy the stock based on the model."
   ]
  },
  {
   "cell_type": "markdown",
   "metadata": {},
   "source": [
    "### When we change the funtion, the accuracy will not imrpove because the model consider that the price will fall in any case. No matter which function we choose, the accuracy will not imrpove. In this case, SVM is not suitable for this question. On the other hand, we should choose Logistic Regression because at least, it can predict whether the price will fall or grow. "
   ]
  },
  {
   "cell_type": "markdown",
   "metadata": {},
   "source": [
    "## The best way to analyze unreasonable data is NN."
   ]
  },
  {
   "cell_type": "markdown",
   "metadata": {},
   "source": [
    "# NN"
   ]
  },
  {
   "cell_type": "code",
   "execution_count": 186,
   "metadata": {},
   "outputs": [],
   "source": [
    "import tensorflow as tf #use Tensorflow 2.0"
   ]
  },
  {
   "cell_type": "markdown",
   "metadata": {},
   "source": [
    "### Prepare the data"
   ]
  },
  {
   "cell_type": "markdown",
   "metadata": {},
   "source": [
    "### Data discription:\n",
    "- variable: I use every column except time.\n",
    "- The model will predict whether the price tommorrow will grow tommorrow."
   ]
  },
  {
   "cell_type": "code",
   "execution_count": 156,
   "metadata": {},
   "outputs": [],
   "source": [
    "data = pd.read_csv('S&P_stock_data.csv')\n",
    "test_data = pd.read_csv('test_data.csv')"
   ]
  },
  {
   "cell_type": "code",
   "execution_count": 157,
   "metadata": {},
   "outputs": [],
   "source": [
    "def NNRule(inputdata):\n",
    "    for index, row in inputdata.iterrows():\n",
    "        if index !=0 and index != 1:\n",
    "            if int(inputdata.loc[index - 2, 'Open Price']) > int(inputdata.loc[index - 1, 'Open Price'])  :\n",
    "                inputdata.loc[index, 'growth'] = 0\n",
    "            else :\n",
    "                inputdata.loc[index, 'growth'] = 1\n",
    "    return inputdata"
   ]
  },
  {
   "cell_type": "code",
   "execution_count": 158,
   "metadata": {},
   "outputs": [
    {
     "data": {
      "text/html": [
       "<div>\n",
       "<style scoped>\n",
       "    .dataframe tbody tr th:only-of-type {\n",
       "        vertical-align: middle;\n",
       "    }\n",
       "\n",
       "    .dataframe tbody tr th {\n",
       "        vertical-align: top;\n",
       "    }\n",
       "\n",
       "    .dataframe thead th {\n",
       "        text-align: right;\n",
       "    }\n",
       "</style>\n",
       "<table border=\"1\" class=\"dataframe\">\n",
       "  <thead>\n",
       "    <tr style=\"text-align: right;\">\n",
       "      <th></th>\n",
       "      <th>Open Price</th>\n",
       "      <th>Close Price</th>\n",
       "      <th>High Price</th>\n",
       "      <th>Low Price</th>\n",
       "      <th>Volume</th>\n",
       "      <th>growth</th>\n",
       "    </tr>\n",
       "  </thead>\n",
       "  <tbody>\n",
       "    <tr>\n",
       "      <th>2</th>\n",
       "      <td>931.17</td>\n",
       "      <td>934.70</td>\n",
       "      <td>943.85</td>\n",
       "      <td>927.28</td>\n",
       "      <td>5392620032</td>\n",
       "      <td>1.0</td>\n",
       "    </tr>\n",
       "    <tr>\n",
       "      <th>3</th>\n",
       "      <td>927.45</td>\n",
       "      <td>906.65</td>\n",
       "      <td>927.45</td>\n",
       "      <td>902.37</td>\n",
       "      <td>4704940032</td>\n",
       "      <td>1.0</td>\n",
       "    </tr>\n",
       "    <tr>\n",
       "      <th>4</th>\n",
       "      <td>905.73</td>\n",
       "      <td>909.73</td>\n",
       "      <td>910.00</td>\n",
       "      <td>896.81</td>\n",
       "      <td>4991549952</td>\n",
       "      <td>0.0</td>\n",
       "    </tr>\n",
       "    <tr>\n",
       "      <th>5</th>\n",
       "      <td>909.91</td>\n",
       "      <td>890.35</td>\n",
       "      <td>911.93</td>\n",
       "      <td>888.31</td>\n",
       "      <td>4716499968</td>\n",
       "      <td>0.0</td>\n",
       "    </tr>\n",
       "    <tr>\n",
       "      <th>6</th>\n",
       "      <td>890.40</td>\n",
       "      <td>870.26</td>\n",
       "      <td>890.40</td>\n",
       "      <td>864.32</td>\n",
       "      <td>4725049856</td>\n",
       "      <td>1.0</td>\n",
       "    </tr>\n",
       "  </tbody>\n",
       "</table>\n",
       "</div>"
      ],
      "text/plain": [
       "   Open Price  Close Price  High Price  Low Price      Volume  growth\n",
       "2      931.17       934.70      943.85     927.28  5392620032     1.0\n",
       "3      927.45       906.65      927.45     902.37  4704940032     1.0\n",
       "4      905.73       909.73      910.00     896.81  4991549952     0.0\n",
       "5      909.91       890.35      911.93     888.31  4716499968     0.0\n",
       "6      890.40       870.26      890.40     864.32  4725049856     1.0"
      ]
     },
     "execution_count": 158,
     "metadata": {},
     "output_type": "execute_result"
    }
   ],
   "source": [
    "data = NNRule(data)\n",
    "test_data = NNRule(test_data)\n",
    "data.drop([0,1], axis= 0 , inplace= True)\n",
    "test_data.drop([0,1], axis= 0 , inplace= True)\n",
    "data.drop(labels='Date', axis=1, inplace = True)\n",
    "test_data.drop(labels='Date', axis=1, inplace = True)\n",
    "\n",
    "X_train = data.loc[:, data.columns != 'growth']\n",
    "y_train = data['growth']\n",
    "X_test = test_data.loc[:, data.columns != 'growth']\n",
    "y_test = test_data['growth']\n",
    "\n",
    "data.head()"
   ]
  },
  {
   "cell_type": "markdown",
   "metadata": {},
   "source": [
    "## Feature Scaling"
   ]
  },
  {
   "cell_type": "code",
   "execution_count": 161,
   "metadata": {},
   "outputs": [
    {
     "data": {
      "text/plain": [
       "array([[-1.49623224, -1.49034885, -1.48858209, -1.48538806,  1.81088461],\n",
       "       [-1.50389803, -1.5481559 , -1.5224099 , -1.53668897,  1.30174877],\n",
       "       [-1.54865636, -1.54180846, -1.55840351, -1.54813951,  1.51394541],\n",
       "       ...,\n",
       "       [ 2.12014594,  2.12200434,  2.10832441,  2.12979136, -1.34791513],\n",
       "       [ 2.12643106,  2.0932966 ,  2.11752392,  2.11109155, -1.19518907],\n",
       "       [ 2.11526209,  2.13904763,  2.12530019,  2.12911174, -0.81457419]])"
      ]
     },
     "execution_count": 161,
     "metadata": {},
     "output_type": "execute_result"
    }
   ],
   "source": [
    "from sklearn.preprocessing import StandardScaler\n",
    "sc = StandardScaler()\n",
    "\n",
    "X_train = sc.fit_transform(X_train)\n",
    "X_test = sc.transform(X_test)\n",
    "X_train"
   ]
  },
  {
   "cell_type": "markdown",
   "metadata": {},
   "source": [
    "### Import Keras"
   ]
  },
  {
   "cell_type": "code",
   "execution_count": 162,
   "metadata": {},
   "outputs": [],
   "source": [
    "from tensorflow.keras.models import Sequential\n",
    "from tensorflow.keras.layers import Dense"
   ]
  },
  {
   "cell_type": "markdown",
   "metadata": {},
   "source": [
    "### Initialising the ANN"
   ]
  },
  {
   "cell_type": "code",
   "execution_count": 163,
   "metadata": {},
   "outputs": [],
   "source": [
    "classifier = Sequential()"
   ]
  },
  {
   "cell_type": "markdown",
   "metadata": {},
   "source": [
    "### Adding the input layer and the first hidden layer"
   ]
  },
  {
   "cell_type": "code",
   "execution_count": 164,
   "metadata": {},
   "outputs": [],
   "source": [
    "hidden_units = 10    # how many neurons in the hidden layer\n",
    "activation = 'relu'  # activation function for hidden layer\n",
    "l2 = 0.001           # regularization - how much we penalize large parameter values\n",
    "learning_rate = 0.1  # how big our steps are in gradient descent\n",
    "epochs = 100         # how many epochs to train for\n",
    "batch_size = 32      # how many samples to use for each gradient descent update"
   ]
  },
  {
   "cell_type": "code",
   "execution_count": 165,
   "metadata": {},
   "outputs": [],
   "source": [
    "classifier.add(Dense(activation = activation, input_dim =5, units = hidden_units ))\n",
    "\n",
    "classifier.add(Dense(input_dim = hidden_units, units =1, activation = 'sigmoid'))\n",
    "\n",
    "classifier.compile(loss='binary_crossentropy',\n",
    "              # Adam is a kind of gradient descent\n",
    "              optimizer= 'adam',\n",
    "              metrics=['accuracy'])"
   ]
  },
  {
   "cell_type": "code",
   "execution_count": 166,
   "metadata": {},
   "outputs": [
    {
     "name": "stdout",
     "output_type": "stream",
     "text": [
      "Epoch 1/100\n",
      "2263/2263 [==============================] - 0s 87us/sample - loss: 0.7550 - accuracy: 0.4335\n",
      "Epoch 2/100\n",
      "2263/2263 [==============================] - 0s 33us/sample - loss: 0.6950 - accuracy: 0.5241\n",
      "Epoch 3/100\n",
      "2263/2263 [==============================] - 0s 34us/sample - loss: 0.6895 - accuracy: 0.5471\n",
      "Epoch 4/100\n",
      "2263/2263 [==============================] - 0s 31us/sample - loss: 0.6869 - accuracy: 0.5678\n",
      "Epoch 5/100\n",
      "2263/2263 [==============================] - 0s 32us/sample - loss: 0.6849 - accuracy: 0.5705\n",
      "Epoch 6/100\n",
      "2263/2263 [==============================] - 0s 31us/sample - loss: 0.6829 - accuracy: 0.5762\n",
      "Epoch 7/100\n",
      "2263/2263 [==============================] - 0s 31us/sample - loss: 0.6820 - accuracy: 0.5802\n",
      "Epoch 8/100\n",
      "2263/2263 [==============================] - 0s 31us/sample - loss: 0.6810 - accuracy: 0.5793\n",
      "Epoch 9/100\n",
      "2263/2263 [==============================] - 0s 31us/sample - loss: 0.6807 - accuracy: 0.5802\n",
      "Epoch 10/100\n",
      "2263/2263 [==============================] - 0s 32us/sample - loss: 0.6800 - accuracy: 0.5815\n",
      "Epoch 11/100\n",
      "2263/2263 [==============================] - 0s 31us/sample - loss: 0.6796 - accuracy: 0.5798\n",
      "Epoch 12/100\n",
      "2263/2263 [==============================] - 0s 32us/sample - loss: 0.6792 - accuracy: 0.5798\n",
      "Epoch 13/100\n",
      "2263/2263 [==============================] - 0s 31us/sample - loss: 0.6790 - accuracy: 0.5798\n",
      "Epoch 14/100\n",
      "2263/2263 [==============================] - 0s 31us/sample - loss: 0.6786 - accuracy: 0.5806\n",
      "Epoch 15/100\n",
      "2263/2263 [==============================] - 0s 31us/sample - loss: 0.6783 - accuracy: 0.5798\n",
      "Epoch 16/100\n",
      "2263/2263 [==============================] - 0s 31us/sample - loss: 0.6782 - accuracy: 0.5789\n",
      "Epoch 17/100\n",
      "2263/2263 [==============================] - 0s 31us/sample - loss: 0.6779 - accuracy: 0.5798\n",
      "Epoch 18/100\n",
      "2263/2263 [==============================] - 0s 31us/sample - loss: 0.6775 - accuracy: 0.5802\n",
      "Epoch 19/100\n",
      "2263/2263 [==============================] - 0s 31us/sample - loss: 0.6775 - accuracy: 0.5784\n",
      "Epoch 20/100\n",
      "2263/2263 [==============================] - 0s 30us/sample - loss: 0.6772 - accuracy: 0.5806\n",
      "Epoch 21/100\n",
      "2263/2263 [==============================] - 0s 30us/sample - loss: 0.6770 - accuracy: 0.5806\n",
      "Epoch 22/100\n",
      "2263/2263 [==============================] - 0s 32us/sample - loss: 0.6770 - accuracy: 0.5811\n",
      "Epoch 23/100\n",
      "2263/2263 [==============================] - 0s 31us/sample - loss: 0.6769 - accuracy: 0.5802\n",
      "Epoch 24/100\n",
      "2263/2263 [==============================] - 0s 31us/sample - loss: 0.6767 - accuracy: 0.5824\n",
      "Epoch 25/100\n",
      "2263/2263 [==============================] - 0s 31us/sample - loss: 0.6768 - accuracy: 0.5806\n",
      "Epoch 26/100\n",
      "2263/2263 [==============================] - 0s 31us/sample - loss: 0.6768 - accuracy: 0.5811\n",
      "Epoch 27/100\n",
      "2263/2263 [==============================] - 0s 31us/sample - loss: 0.6765 - accuracy: 0.5824\n",
      "Epoch 28/100\n",
      "2263/2263 [==============================] - 0s 30us/sample - loss: 0.6767 - accuracy: 0.5820\n",
      "Epoch 29/100\n",
      "2263/2263 [==============================] - 0s 30us/sample - loss: 0.6764 - accuracy: 0.5806\n",
      "Epoch 30/100\n",
      "2263/2263 [==============================] - 0s 32us/sample - loss: 0.6764 - accuracy: 0.5829\n",
      "Epoch 31/100\n",
      "2263/2263 [==============================] - 0s 32us/sample - loss: 0.6761 - accuracy: 0.5820\n",
      "Epoch 32/100\n",
      "2263/2263 [==============================] - 0s 32us/sample - loss: 0.6762 - accuracy: 0.5811\n",
      "Epoch 33/100\n",
      "2263/2263 [==============================] - 0s 32us/sample - loss: 0.6758 - accuracy: 0.5833\n",
      "Epoch 34/100\n",
      "2263/2263 [==============================] - 0s 31us/sample - loss: 0.6761 - accuracy: 0.5806\n",
      "Epoch 35/100\n",
      "2263/2263 [==============================] - 0s 31us/sample - loss: 0.6760 - accuracy: 0.5829\n",
      "Epoch 36/100\n",
      "2263/2263 [==============================] - 0s 32us/sample - loss: 0.6764 - accuracy: 0.5824\n",
      "Epoch 37/100\n",
      "2263/2263 [==============================] - 0s 31us/sample - loss: 0.6758 - accuracy: 0.5802\n",
      "Epoch 38/100\n",
      "2263/2263 [==============================] - 0s 31us/sample - loss: 0.6763 - accuracy: 0.5855\n",
      "Epoch 39/100\n",
      "2263/2263 [==============================] - 0s 31us/sample - loss: 0.6758 - accuracy: 0.5833\n",
      "Epoch 40/100\n",
      "2263/2263 [==============================] - 0s 31us/sample - loss: 0.6758 - accuracy: 0.5829\n",
      "Epoch 41/100\n",
      "2263/2263 [==============================] - 0s 31us/sample - loss: 0.6756 - accuracy: 0.5833\n",
      "Epoch 42/100\n",
      "2263/2263 [==============================] - 0s 31us/sample - loss: 0.6753 - accuracy: 0.5829\n",
      "Epoch 43/100\n",
      "2263/2263 [==============================] - 0s 31us/sample - loss: 0.6758 - accuracy: 0.5824\n",
      "Epoch 44/100\n",
      "2263/2263 [==============================] - 0s 31us/sample - loss: 0.6762 - accuracy: 0.5837\n",
      "Epoch 45/100\n",
      "2263/2263 [==============================] - 0s 31us/sample - loss: 0.6752 - accuracy: 0.5842\n",
      "Epoch 46/100\n",
      "2263/2263 [==============================] - 0s 32us/sample - loss: 0.6753 - accuracy: 0.5829\n",
      "Epoch 47/100\n",
      "2263/2263 [==============================] - 0s 30us/sample - loss: 0.6751 - accuracy: 0.5837\n",
      "Epoch 48/100\n",
      "2263/2263 [==============================] - 0s 31us/sample - loss: 0.6750 - accuracy: 0.5842\n",
      "Epoch 49/100\n",
      "2263/2263 [==============================] - 0s 32us/sample - loss: 0.6748 - accuracy: 0.5855\n",
      "Epoch 50/100\n",
      "2263/2263 [==============================] - 0s 31us/sample - loss: 0.6752 - accuracy: 0.5864\n",
      "Epoch 51/100\n",
      "2263/2263 [==============================] - 0s 31us/sample - loss: 0.6755 - accuracy: 0.5820\n",
      "Epoch 52/100\n",
      "2263/2263 [==============================] - 0s 31us/sample - loss: 0.6748 - accuracy: 0.5837\n",
      "Epoch 53/100\n",
      "2263/2263 [==============================] - 0s 31us/sample - loss: 0.6748 - accuracy: 0.5837\n",
      "Epoch 54/100\n",
      "2263/2263 [==============================] - 0s 32us/sample - loss: 0.6754 - accuracy: 0.5829\n",
      "Epoch 55/100\n",
      "2263/2263 [==============================] - 0s 35us/sample - loss: 0.6749 - accuracy: 0.5837\n",
      "Epoch 56/100\n",
      "2263/2263 [==============================] - 0s 31us/sample - loss: 0.6746 - accuracy: 0.5859\n",
      "Epoch 57/100\n",
      "2263/2263 [==============================] - 0s 30us/sample - loss: 0.6747 - accuracy: 0.5859\n",
      "Epoch 58/100\n",
      "2263/2263 [==============================] - 0s 31us/sample - loss: 0.6748 - accuracy: 0.5842\n",
      "Epoch 59/100\n",
      "2263/2263 [==============================] - 0s 30us/sample - loss: 0.6750 - accuracy: 0.5846\n",
      "Epoch 60/100\n",
      "2263/2263 [==============================] - 0s 30us/sample - loss: 0.6748 - accuracy: 0.5846\n",
      "Epoch 61/100\n",
      "2263/2263 [==============================] - 0s 30us/sample - loss: 0.6747 - accuracy: 0.5846\n",
      "Epoch 62/100\n",
      "2263/2263 [==============================] - 0s 30us/sample - loss: 0.6751 - accuracy: 0.5833\n",
      "Epoch 63/100\n",
      "2263/2263 [==============================] - 0s 30us/sample - loss: 0.6746 - accuracy: 0.5851\n",
      "Epoch 64/100\n",
      "2263/2263 [==============================] - 0s 31us/sample - loss: 0.6747 - accuracy: 0.5820\n",
      "Epoch 65/100\n",
      "2263/2263 [==============================] - 0s 31us/sample - loss: 0.6744 - accuracy: 0.5842\n",
      "Epoch 66/100\n",
      "2263/2263 [==============================] - 0s 30us/sample - loss: 0.6745 - accuracy: 0.5842\n",
      "Epoch 67/100\n",
      "2263/2263 [==============================] - 0s 30us/sample - loss: 0.6740 - accuracy: 0.5851\n",
      "Epoch 68/100\n",
      "2263/2263 [==============================] - 0s 30us/sample - loss: 0.6744 - accuracy: 0.5855\n",
      "Epoch 69/100\n",
      "2263/2263 [==============================] - 0s 31us/sample - loss: 0.6745 - accuracy: 0.5864\n",
      "Epoch 70/100\n",
      "2263/2263 [==============================] - 0s 30us/sample - loss: 0.6742 - accuracy: 0.5842\n",
      "Epoch 71/100\n",
      "2263/2263 [==============================] - 0s 30us/sample - loss: 0.6744 - accuracy: 0.5842\n",
      "Epoch 72/100\n",
      "2263/2263 [==============================] - 0s 30us/sample - loss: 0.6744 - accuracy: 0.5824\n",
      "Epoch 73/100\n",
      "2263/2263 [==============================] - 0s 30us/sample - loss: 0.6746 - accuracy: 0.5859\n",
      "Epoch 74/100\n",
      "2263/2263 [==============================] - 0s 31us/sample - loss: 0.6743 - accuracy: 0.5855\n",
      "Epoch 75/100\n",
      "2263/2263 [==============================] - 0s 30us/sample - loss: 0.6741 - accuracy: 0.5842\n",
      "Epoch 76/100\n",
      "2263/2263 [==============================] - 0s 30us/sample - loss: 0.6739 - accuracy: 0.5837\n",
      "Epoch 77/100\n",
      "2263/2263 [==============================] - 0s 30us/sample - loss: 0.6740 - accuracy: 0.5855\n",
      "Epoch 78/100\n",
      "2263/2263 [==============================] - 0s 30us/sample - loss: 0.6743 - accuracy: 0.5864\n",
      "Epoch 79/100\n",
      "2263/2263 [==============================] - 0s 29us/sample - loss: 0.6740 - accuracy: 0.5851\n",
      "Epoch 80/100\n",
      "2263/2263 [==============================] - 0s 30us/sample - loss: 0.6743 - accuracy: 0.5846\n",
      "Epoch 81/100\n",
      "2263/2263 [==============================] - 0s 30us/sample - loss: 0.6740 - accuracy: 0.5851\n",
      "Epoch 82/100\n",
      "2263/2263 [==============================] - 0s 30us/sample - loss: 0.6741 - accuracy: 0.5859\n",
      "Epoch 83/100\n",
      "2263/2263 [==============================] - 0s 30us/sample - loss: 0.6740 - accuracy: 0.5846\n",
      "Epoch 84/100\n",
      "2263/2263 [==============================] - 0s 30us/sample - loss: 0.6737 - accuracy: 0.5873\n",
      "Epoch 85/100\n",
      "2263/2263 [==============================] - 0s 29us/sample - loss: 0.6742 - accuracy: 0.5833\n",
      "Epoch 86/100\n",
      "2263/2263 [==============================] - 0s 30us/sample - loss: 0.6739 - accuracy: 0.5877\n",
      "Epoch 87/100\n",
      "2263/2263 [==============================] - 0s 30us/sample - loss: 0.6745 - accuracy: 0.5846\n",
      "Epoch 88/100\n",
      "2263/2263 [==============================] - 0s 30us/sample - loss: 0.6743 - accuracy: 0.5842\n",
      "Epoch 89/100\n",
      "2263/2263 [==============================] - 0s 30us/sample - loss: 0.6736 - accuracy: 0.5833\n",
      "Epoch 90/100\n",
      "2263/2263 [==============================] - 0s 30us/sample - loss: 0.6737 - accuracy: 0.5855\n",
      "Epoch 91/100\n",
      "2263/2263 [==============================] - 0s 30us/sample - loss: 0.6738 - accuracy: 0.5842\n",
      "Epoch 92/100\n",
      "2263/2263 [==============================] - 0s 31us/sample - loss: 0.6737 - accuracy: 0.5864\n",
      "Epoch 93/100\n",
      "2263/2263 [==============================] - 0s 30us/sample - loss: 0.6737 - accuracy: 0.5868\n",
      "Epoch 94/100\n",
      "2263/2263 [==============================] - 0s 30us/sample - loss: 0.6736 - accuracy: 0.5886\n",
      "Epoch 95/100\n",
      "2263/2263 [==============================] - 0s 30us/sample - loss: 0.6742 - accuracy: 0.5846\n",
      "Epoch 96/100\n",
      "2263/2263 [==============================] - 0s 31us/sample - loss: 0.6740 - accuracy: 0.5851\n",
      "Epoch 97/100\n",
      "2263/2263 [==============================] - 0s 31us/sample - loss: 0.6737 - accuracy: 0.5829\n",
      "Epoch 98/100\n",
      "2263/2263 [==============================] - 0s 30us/sample - loss: 0.6741 - accuracy: 0.5837\n",
      "Epoch 99/100\n",
      "2263/2263 [==============================] - 0s 31us/sample - loss: 0.6739 - accuracy: 0.5877\n",
      "Epoch 100/100\n",
      "2263/2263 [==============================] - 0s 30us/sample - loss: 0.6740 - accuracy: 0.5868\n",
      "2263/2263 [==============================] - 0s 36us/sample - loss: 0.6732 - accuracy: 0.5873\n",
      "250/250 [==============================] - 0s 22us/sample - loss: 0.7452 - accuracy: 0.5320\n",
      "classifier accuracy: 0.58727354\n",
      "Testing accuracy: 0.532\n"
     ]
    }
   ],
   "source": [
    "history = classifier.fit(X_train, y_train, batch_size=batch_size, epochs=epochs)\n",
    "\n",
    "# evaluate accuracy\n",
    "train_acc = classifier.evaluate(X_train, y_train, batch_size=32)[1]\n",
    "test_acc = classifier.evaluate(X_test, y_test, batch_size=32)[1]\n",
    "print('classifier accuracy: %s' % train_acc)\n",
    "print('Testing accuracy: %s' % test_acc)\n",
    "\n"
   ]
  },
  {
   "cell_type": "code",
   "execution_count": 167,
   "metadata": {},
   "outputs": [
    {
     "data": {
      "image/png": "[encoded data removed]",
      "text/plain": [
       "<Figure size 432x288 with 1 Axes>"
      ]
     },
     "metadata": {
      "needs_background": "light"
     },
     "output_type": "display_data"
    }
   ],
   "source": [
    "losses = history.history['loss']\n",
    "plt.plot(range(len(losses)), losses, 'r')\n",
    "plt.show()"
   ]
  },
  {
   "cell_type": "code",
   "execution_count": 168,
   "metadata": {},
   "outputs": [
    {
     "name": "stdout",
     "output_type": "stream",
     "text": [
      "250/250 [==============================] - 0s 26us/sample - loss: 0.7452 - accuracy: 0.5320\n",
      "2263/2263 [==============================] - 0s 17us/sample - loss: 0.6732 - accuracy: 0.5873\n",
      "test accuracy: 0.532\n",
      "training data accuracy0.58727354\n"
     ]
    }
   ],
   "source": [
    "test_acc = classifier.evaluate(X_test, y_test, batch_size=32)[1]\n",
    "train_acc = classifier.evaluate(X_train, y_train, batch_size=32)[1]\n",
    "print(\"test accuracy: \" + str(test_acc))\n",
    "print(\"training data accuracy\"+str(train_acc))"
   ]
  },
  {
   "cell_type": "markdown",
   "metadata": {},
   "source": [
    "### The accuracy of the NN is close to the result of Logistic Regression. "
   ]
  },
  {
   "cell_type": "markdown",
   "metadata": {},
   "source": [
    "### Now we try to alter the cooefficient. Increase epoch, and hiden layer."
   ]
  },
  {
   "cell_type": "code",
   "execution_count": 169,
   "metadata": {},
   "outputs": [],
   "source": [
    "hidden_units = 20\n",
    "epochs= 400\n",
    "classifier = Sequential()\n",
    "\n",
    "classifier.add(Dense(activation = activation, input_dim =5, units = hidden_units ))\n",
    "\n",
    "classifier.add(Dense(input_dim = hidden_units, units =hidden_units, activation = 'relu'))\n",
    "\n",
    "classifier.add(Dense(input_dim = hidden_units, units =hidden_units, activation = 'relu'))\n",
    "\n",
    "classifier.add(Dense(input_dim = hidden_units, units =hidden_units, activation = 'relu'))\n",
    "\n",
    "classifier.add(Dense(input_dim = hidden_units, units =1, activation = 'sigmoid'))\n",
    "\n",
    "classifier.compile(loss='binary_crossentropy',\n",
    "              # Adam is a kind of gradient descent\n",
    "              optimizer= 'adam',\n",
    "              metrics=['accuracy'])\n"
   ]
  },
  {
   "cell_type": "code",
   "execution_count": 170,
   "metadata": {},
   "outputs": [
    {
     "name": "stdout",
     "output_type": "stream",
     "text": [
      "Epoch 1/400\n",
      "2263/2263 [==============================] - 0s 117us/sample - loss: 0.6823 - accuracy: 0.5811\n",
      "Epoch 2/400\n",
      "2263/2263 [==============================] - 0s 42us/sample - loss: 0.6791 - accuracy: 0.5811\n",
      "Epoch 3/400\n",
      "2263/2263 [==============================] - 0s 37us/sample - loss: 0.6780 - accuracy: 0.5811\n",
      "Epoch 4/400\n",
      "2263/2263 [==============================] - 0s 36us/sample - loss: 0.6775 - accuracy: 0.5824\n",
      "Epoch 5/400\n",
      "2263/2263 [==============================] - 0s 38us/sample - loss: 0.6772 - accuracy: 0.5811\n",
      "Epoch 6/400\n",
      "2263/2263 [==============================] - 0s 36us/sample - loss: 0.6762 - accuracy: 0.5802\n",
      "Epoch 7/400\n",
      "2263/2263 [==============================] - 0s 36us/sample - loss: 0.6763 - accuracy: 0.5815\n",
      "Epoch 8/400\n",
      "2263/2263 [==============================] - 0s 37us/sample - loss: 0.6770 - accuracy: 0.5815\n",
      "Epoch 9/400\n",
      "2263/2263 [==============================] - 0s 37us/sample - loss: 0.6761 - accuracy: 0.5815\n",
      "Epoch 10/400\n",
      "2263/2263 [==============================] - 0s 37us/sample - loss: 0.6759 - accuracy: 0.5842\n",
      "Epoch 11/400\n",
      "2263/2263 [==============================] - 0s 37us/sample - loss: 0.6756 - accuracy: 0.5833\n",
      "Epoch 12/400\n",
      "2263/2263 [==============================] - 0s 38us/sample - loss: 0.6760 - accuracy: 0.5829\n",
      "Epoch 13/400\n",
      "2263/2263 [==============================] - 0s 39us/sample - loss: 0.6752 - accuracy: 0.5842\n",
      "Epoch 14/400\n",
      "2263/2263 [==============================] - 0s 36us/sample - loss: 0.6751 - accuracy: 0.5833\n",
      "Epoch 15/400\n",
      "2263/2263 [==============================] - 0s 37us/sample - loss: 0.6754 - accuracy: 0.5820\n",
      "Epoch 16/400\n",
      "2263/2263 [==============================] - 0s 37us/sample - loss: 0.6751 - accuracy: 0.5873\n",
      "Epoch 17/400\n",
      "2263/2263 [==============================] - 0s 39us/sample - loss: 0.6751 - accuracy: 0.5873\n",
      "Epoch 18/400\n",
      "2263/2263 [==============================] - 0s 38us/sample - loss: 0.6745 - accuracy: 0.5837\n",
      "Epoch 19/400\n",
      "2263/2263 [==============================] - 0s 38us/sample - loss: 0.6754 - accuracy: 0.5829\n",
      "Epoch 20/400\n",
      "2263/2263 [==============================] - 0s 37us/sample - loss: 0.6744 - accuracy: 0.5864\n",
      "Epoch 21/400\n",
      "2263/2263 [==============================] - 0s 37us/sample - loss: 0.6746 - accuracy: 0.5798\n",
      "Epoch 22/400\n",
      "2263/2263 [==============================] - 0s 37us/sample - loss: 0.6739 - accuracy: 0.5859\n",
      "Epoch 23/400\n",
      "2263/2263 [==============================] - 0s 37us/sample - loss: 0.6742 - accuracy: 0.5855\n",
      "Epoch 24/400\n",
      "2263/2263 [==============================] - 0s 38us/sample - loss: 0.6745 - accuracy: 0.5868\n",
      "Epoch 25/400\n",
      "2263/2263 [==============================] - 0s 38us/sample - loss: 0.6742 - accuracy: 0.5899\n",
      "Epoch 26/400\n",
      "2263/2263 [==============================] - 0s 37us/sample - loss: 0.6739 - accuracy: 0.5886\n",
      "Epoch 27/400\n",
      "2263/2263 [==============================] - 0s 39us/sample - loss: 0.6740 - accuracy: 0.5864\n",
      "Epoch 28/400\n",
      "2263/2263 [==============================] - 0s 38us/sample - loss: 0.6735 - accuracy: 0.5846\n",
      "Epoch 29/400\n",
      "2263/2263 [==============================] - 0s 38us/sample - loss: 0.6737 - accuracy: 0.5882\n",
      "Epoch 30/400\n",
      "2263/2263 [==============================] - 0s 38us/sample - loss: 0.6724 - accuracy: 0.5859\n",
      "Epoch 31/400\n",
      "2263/2263 [==============================] - 0s 37us/sample - loss: 0.6740 - accuracy: 0.5882\n",
      "Epoch 32/400\n",
      "2263/2263 [==============================] - 0s 38us/sample - loss: 0.6729 - accuracy: 0.5886\n",
      "Epoch 33/400\n",
      "2263/2263 [==============================] - 0s 41us/sample - loss: 0.6742 - accuracy: 0.5882\n",
      "Epoch 34/400\n",
      "2263/2263 [==============================] - 0s 40us/sample - loss: 0.6741 - accuracy: 0.5868\n",
      "Epoch 35/400\n",
      "2263/2263 [==============================] - 0s 38us/sample - loss: 0.6730 - accuracy: 0.5895\n",
      "Epoch 36/400\n",
      "2263/2263 [==============================] - 0s 37us/sample - loss: 0.6737 - accuracy: 0.5882\n",
      "Epoch 37/400\n",
      "2263/2263 [==============================] - 0s 41us/sample - loss: 0.6735 - accuracy: 0.5859\n",
      "Epoch 38/400\n",
      "2263/2263 [==============================] - 0s 44us/sample - loss: 0.6734 - accuracy: 0.5864\n",
      "Epoch 39/400\n",
      "2263/2263 [==============================] - 0s 37us/sample - loss: 0.6726 - accuracy: 0.5886\n",
      "Epoch 40/400\n",
      "2263/2263 [==============================] - 0s 37us/sample - loss: 0.6730 - accuracy: 0.5895\n",
      "Epoch 41/400\n",
      "2263/2263 [==============================] - 0s 37us/sample - loss: 0.6726 - accuracy: 0.5895\n",
      "Epoch 42/400\n",
      "2263/2263 [==============================] - 0s 38us/sample - loss: 0.6734 - accuracy: 0.5939\n",
      "Epoch 43/400\n",
      "2263/2263 [==============================] - 0s 37us/sample - loss: 0.6727 - accuracy: 0.5886\n",
      "Epoch 44/400\n",
      "2263/2263 [==============================] - 0s 39us/sample - loss: 0.6729 - accuracy: 0.5890\n",
      "Epoch 45/400\n",
      "2263/2263 [==============================] - 0s 37us/sample - loss: 0.6727 - accuracy: 0.5873\n",
      "Epoch 46/400\n",
      "2263/2263 [==============================] - 0s 38us/sample - loss: 0.6722 - accuracy: 0.5886\n",
      "Epoch 47/400\n",
      "2263/2263 [==============================] - 0s 38us/sample - loss: 0.6721 - accuracy: 0.5882\n",
      "Epoch 48/400\n",
      "2263/2263 [==============================] - 0s 38us/sample - loss: 0.6724 - accuracy: 0.5859\n",
      "Epoch 49/400\n",
      "2263/2263 [==============================] - 0s 37us/sample - loss: 0.6722 - accuracy: 0.5913\n",
      "Epoch 50/400\n",
      "2263/2263 [==============================] - 0s 37us/sample - loss: 0.6733 - accuracy: 0.5855\n",
      "Epoch 51/400\n",
      "2263/2263 [==============================] - 0s 39us/sample - loss: 0.6729 - accuracy: 0.5886\n",
      "Epoch 52/400\n",
      "2263/2263 [==============================] - 0s 38us/sample - loss: 0.6723 - accuracy: 0.5895\n",
      "Epoch 53/400\n",
      "2263/2263 [==============================] - 0s 38us/sample - loss: 0.6718 - accuracy: 0.5926\n",
      "Epoch 54/400\n",
      "2263/2263 [==============================] - 0s 39us/sample - loss: 0.6712 - accuracy: 0.5917\n",
      "Epoch 55/400\n",
      "2263/2263 [==============================] - 0s 36us/sample - loss: 0.6717 - accuracy: 0.5943\n",
      "Epoch 56/400\n",
      "2263/2263 [==============================] - 0s 38us/sample - loss: 0.6715 - accuracy: 0.5904\n",
      "Epoch 57/400\n",
      "2263/2263 [==============================] - 0s 37us/sample - loss: 0.6716 - accuracy: 0.5966\n",
      "Epoch 58/400\n",
      "2263/2263 [==============================] - 0s 36us/sample - loss: 0.6715 - accuracy: 0.5913\n",
      "Epoch 59/400\n",
      "2263/2263 [==============================] - 0s 37us/sample - loss: 0.6714 - accuracy: 0.5913\n",
      "Epoch 60/400\n",
      "2263/2263 [==============================] - 0s 37us/sample - loss: 0.6718 - accuracy: 0.5913\n",
      "Epoch 61/400\n",
      "2263/2263 [==============================] - 0s 37us/sample - loss: 0.6710 - accuracy: 0.5983\n",
      "Epoch 62/400\n",
      "2263/2263 [==============================] - 0s 37us/sample - loss: 0.6719 - accuracy: 0.5913\n",
      "Epoch 63/400\n",
      "2263/2263 [==============================] - 0s 37us/sample - loss: 0.6711 - accuracy: 0.5926\n",
      "Epoch 64/400\n",
      "2263/2263 [==============================] - 0s 36us/sample - loss: 0.6707 - accuracy: 0.5908\n",
      "Epoch 65/400\n",
      "2263/2263 [==============================] - 0s 37us/sample - loss: 0.6716 - accuracy: 0.5882\n",
      "Epoch 66/400\n",
      "2263/2263 [==============================] - 0s 37us/sample - loss: 0.6709 - accuracy: 0.5904\n",
      "Epoch 67/400\n",
      "2263/2263 [==============================] - 0s 37us/sample - loss: 0.6717 - accuracy: 0.5921\n",
      "Epoch 68/400\n",
      "2263/2263 [==============================] - 0s 37us/sample - loss: 0.6704 - accuracy: 0.5921\n",
      "Epoch 69/400\n",
      "2263/2263 [==============================] - 0s 37us/sample - loss: 0.6710 - accuracy: 0.5921\n",
      "Epoch 70/400\n",
      "2263/2263 [==============================] - 0s 37us/sample - loss: 0.6702 - accuracy: 0.5895\n",
      "Epoch 71/400\n",
      "2263/2263 [==============================] - 0s 37us/sample - loss: 0.6701 - accuracy: 0.5952\n",
      "Epoch 72/400\n",
      "2263/2263 [==============================] - 0s 37us/sample - loss: 0.6708 - accuracy: 0.5961\n",
      "Epoch 73/400\n",
      "2263/2263 [==============================] - 0s 37us/sample - loss: 0.6698 - accuracy: 0.5895\n",
      "Epoch 74/400\n",
      "2263/2263 [==============================] - 0s 37us/sample - loss: 0.6710 - accuracy: 0.5921\n",
      "Epoch 75/400\n",
      "2263/2263 [==============================] - 0s 36us/sample - loss: 0.6700 - accuracy: 0.5930\n",
      "Epoch 76/400\n",
      "2263/2263 [==============================] - 0s 37us/sample - loss: 0.6695 - accuracy: 0.5948\n",
      "Epoch 77/400\n",
      "2263/2263 [==============================] - 0s 37us/sample - loss: 0.6686 - accuracy: 0.5983\n",
      "Epoch 78/400\n",
      "2263/2263 [==============================] - 0s 36us/sample - loss: 0.6696 - accuracy: 0.5939\n",
      "Epoch 79/400\n",
      "2263/2263 [==============================] - 0s 36us/sample - loss: 0.6692 - accuracy: 0.5868\n",
      "Epoch 80/400\n",
      "2263/2263 [==============================] - 0s 36us/sample - loss: 0.6697 - accuracy: 0.5913\n",
      "Epoch 81/400\n",
      "2263/2263 [==============================] - 0s 36us/sample - loss: 0.6691 - accuracy: 0.5930\n",
      "Epoch 82/400\n",
      "2263/2263 [==============================] - 0s 36us/sample - loss: 0.6691 - accuracy: 0.5917\n",
      "Epoch 83/400\n",
      "2263/2263 [==============================] - 0s 36us/sample - loss: 0.6700 - accuracy: 0.5935\n",
      "Epoch 84/400\n",
      "2263/2263 [==============================] - 0s 36us/sample - loss: 0.6689 - accuracy: 0.5943\n",
      "Epoch 85/400\n",
      "2263/2263 [==============================] - 0s 36us/sample - loss: 0.6689 - accuracy: 0.5895\n",
      "Epoch 86/400\n",
      "2263/2263 [==============================] - 0s 36us/sample - loss: 0.6692 - accuracy: 0.5930\n",
      "Epoch 87/400\n",
      "2263/2263 [==============================] - 0s 36us/sample - loss: 0.6685 - accuracy: 0.5935\n",
      "Epoch 88/400\n",
      "2263/2263 [==============================] - 0s 36us/sample - loss: 0.6683 - accuracy: 0.5926\n",
      "Epoch 89/400\n",
      "2263/2263 [==============================] - 0s 36us/sample - loss: 0.6684 - accuracy: 0.5952\n",
      "Epoch 90/400\n",
      "2263/2263 [==============================] - 0s 36us/sample - loss: 0.6679 - accuracy: 0.5935\n",
      "Epoch 91/400\n",
      "2263/2263 [==============================] - 0s 36us/sample - loss: 0.6687 - accuracy: 0.5921\n",
      "Epoch 92/400\n",
      "2263/2263 [==============================] - 0s 36us/sample - loss: 0.6681 - accuracy: 0.5992\n",
      "Epoch 93/400\n",
      "2263/2263 [==============================] - 0s 37us/sample - loss: 0.6694 - accuracy: 0.5890\n",
      "Epoch 94/400\n",
      "2263/2263 [==============================] - 0s 36us/sample - loss: 0.6669 - accuracy: 0.5952\n",
      "Epoch 95/400\n",
      "2263/2263 [==============================] - 0s 36us/sample - loss: 0.6673 - accuracy: 0.5921\n",
      "Epoch 96/400\n",
      "2263/2263 [==============================] - 0s 36us/sample - loss: 0.6685 - accuracy: 0.5908\n",
      "Epoch 97/400\n",
      "2263/2263 [==============================] - 0s 37us/sample - loss: 0.6682 - accuracy: 0.5966\n",
      "Epoch 98/400\n",
      "2263/2263 [==============================] - 0s 37us/sample - loss: 0.6677 - accuracy: 0.5935\n",
      "Epoch 99/400\n",
      "2263/2263 [==============================] - 0s 37us/sample - loss: 0.6669 - accuracy: 0.5974\n",
      "Epoch 100/400\n",
      "2263/2263 [==============================] - 0s 36us/sample - loss: 0.6666 - accuracy: 0.5952\n",
      "Epoch 101/400\n",
      "2263/2263 [==============================] - 0s 39us/sample - loss: 0.6664 - accuracy: 0.5930\n",
      "Epoch 102/400\n",
      "2263/2263 [==============================] - 0s 36us/sample - loss: 0.6674 - accuracy: 0.5917\n",
      "Epoch 103/400\n",
      "2263/2263 [==============================] - 0s 36us/sample - loss: 0.6672 - accuracy: 0.5961\n",
      "Epoch 104/400\n",
      "2263/2263 [==============================] - 0s 37us/sample - loss: 0.6669 - accuracy: 0.5979\n",
      "Epoch 105/400\n",
      "2263/2263 [==============================] - 0s 37us/sample - loss: 0.6658 - accuracy: 0.5952\n",
      "Epoch 106/400\n",
      "2263/2263 [==============================] - 0s 37us/sample - loss: 0.6662 - accuracy: 0.6014\n",
      "Epoch 107/400\n",
      "2263/2263 [==============================] - 0s 37us/sample - loss: 0.6660 - accuracy: 0.5952\n",
      "Epoch 108/400\n",
      "2263/2263 [==============================] - 0s 37us/sample - loss: 0.6668 - accuracy: 0.5935\n",
      "Epoch 109/400\n",
      "2263/2263 [==============================] - 0s 37us/sample - loss: 0.6666 - accuracy: 0.5908\n",
      "Epoch 110/400\n",
      "2263/2263 [==============================] - 0s 37us/sample - loss: 0.6649 - accuracy: 0.5957\n",
      "Epoch 111/400\n",
      "2263/2263 [==============================] - 0s 37us/sample - loss: 0.6662 - accuracy: 0.5948\n",
      "Epoch 112/400\n",
      "2263/2263 [==============================] - 0s 37us/sample - loss: 0.6651 - accuracy: 0.5952\n",
      "Epoch 113/400\n",
      "2263/2263 [==============================] - 0s 37us/sample - loss: 0.6654 - accuracy: 0.5935\n",
      "Epoch 114/400\n",
      "2263/2263 [==============================] - 0s 37us/sample - loss: 0.6656 - accuracy: 0.5957\n",
      "Epoch 115/400\n",
      "2263/2263 [==============================] - 0s 37us/sample - loss: 0.6657 - accuracy: 0.5957\n",
      "Epoch 116/400\n",
      "2263/2263 [==============================] - 0s 37us/sample - loss: 0.6648 - accuracy: 0.5943\n",
      "Epoch 117/400\n",
      "2263/2263 [==============================] - 0s 37us/sample - loss: 0.6651 - accuracy: 0.5952\n",
      "Epoch 118/400\n",
      "2263/2263 [==============================] - 0s 37us/sample - loss: 0.6656 - accuracy: 0.5939\n",
      "Epoch 119/400\n",
      "2263/2263 [==============================] - 0s 37us/sample - loss: 0.6652 - accuracy: 0.5948\n",
      "Epoch 120/400\n",
      "2263/2263 [==============================] - 0s 36us/sample - loss: 0.6645 - accuracy: 0.5966\n",
      "Epoch 121/400\n",
      "2263/2263 [==============================] - 0s 37us/sample - loss: 0.6665 - accuracy: 0.6005\n",
      "Epoch 122/400\n",
      "2263/2263 [==============================] - 0s 37us/sample - loss: 0.6649 - accuracy: 0.5974\n",
      "Epoch 123/400\n",
      "2263/2263 [==============================] - 0s 37us/sample - loss: 0.6651 - accuracy: 0.5988\n",
      "Epoch 124/400\n",
      "2263/2263 [==============================] - 0s 36us/sample - loss: 0.6652 - accuracy: 0.5961\n",
      "Epoch 125/400\n",
      "2263/2263 [==============================] - 0s 37us/sample - loss: 0.6651 - accuracy: 0.5988\n",
      "Epoch 126/400\n",
      "2263/2263 [==============================] - 0s 37us/sample - loss: 0.6643 - accuracy: 0.6001\n",
      "Epoch 127/400\n",
      "2263/2263 [==============================] - 0s 37us/sample - loss: 0.6637 - accuracy: 0.5943\n",
      "Epoch 128/400\n",
      "2263/2263 [==============================] - 0s 37us/sample - loss: 0.6646 - accuracy: 0.5952\n",
      "Epoch 129/400\n",
      "2263/2263 [==============================] - 0s 37us/sample - loss: 0.6657 - accuracy: 0.6010\n",
      "Epoch 130/400\n",
      "2263/2263 [==============================] - 0s 37us/sample - loss: 0.6634 - accuracy: 0.6001\n",
      "Epoch 131/400\n",
      "2263/2263 [==============================] - 0s 37us/sample - loss: 0.6633 - accuracy: 0.5926\n",
      "Epoch 132/400\n",
      "2263/2263 [==============================] - 0s 37us/sample - loss: 0.6641 - accuracy: 0.6005\n",
      "Epoch 133/400\n",
      "2263/2263 [==============================] - 0s 37us/sample - loss: 0.6636 - accuracy: 0.5895\n",
      "Epoch 134/400\n",
      "2263/2263 [==============================] - 0s 37us/sample - loss: 0.6642 - accuracy: 0.5988\n",
      "Epoch 135/400\n",
      "2263/2263 [==============================] - 0s 37us/sample - loss: 0.6642 - accuracy: 0.5943\n",
      "Epoch 136/400\n",
      "2263/2263 [==============================] - 0s 37us/sample - loss: 0.6646 - accuracy: 0.5966\n",
      "Epoch 137/400\n",
      "2263/2263 [==============================] - 0s 37us/sample - loss: 0.6628 - accuracy: 0.6005\n",
      "Epoch 138/400\n",
      "2263/2263 [==============================] - 0s 37us/sample - loss: 0.6630 - accuracy: 0.5961\n",
      "Epoch 139/400\n",
      "2263/2263 [==============================] - 0s 37us/sample - loss: 0.6626 - accuracy: 0.6045\n",
      "Epoch 140/400\n",
      "2263/2263 [==============================] - 0s 37us/sample - loss: 0.6626 - accuracy: 0.6023\n",
      "Epoch 141/400\n",
      "2263/2263 [==============================] - 0s 36us/sample - loss: 0.6632 - accuracy: 0.6036\n",
      "Epoch 142/400\n",
      "2263/2263 [==============================] - 0s 37us/sample - loss: 0.6631 - accuracy: 0.6045\n",
      "Epoch 143/400\n",
      "2263/2263 [==============================] - 0s 38us/sample - loss: 0.6635 - accuracy: 0.5979\n",
      "Epoch 144/400\n",
      "2263/2263 [==============================] - 0s 37us/sample - loss: 0.6621 - accuracy: 0.6010\n",
      "Epoch 145/400\n",
      "2263/2263 [==============================] - 0s 37us/sample - loss: 0.6630 - accuracy: 0.5970\n",
      "Epoch 146/400\n",
      "2263/2263 [==============================] - 0s 37us/sample - loss: 0.6634 - accuracy: 0.5974\n",
      "Epoch 147/400\n",
      "2263/2263 [==============================] - ETA: 0s - loss: 0.6614 - accuracy: 0.59 - 0s 37us/sample - loss: 0.6619 - accuracy: 0.6010\n",
      "Epoch 148/400\n",
      "2263/2263 [==============================] - 0s 37us/sample - loss: 0.6627 - accuracy: 0.6010\n",
      "Epoch 149/400\n",
      "2263/2263 [==============================] - 0s 38us/sample - loss: 0.6623 - accuracy: 0.5996\n",
      "Epoch 150/400\n",
      "2263/2263 [==============================] - 0s 38us/sample - loss: 0.6628 - accuracy: 0.6014\n",
      "Epoch 151/400\n",
      "2263/2263 [==============================] - 0s 36us/sample - loss: 0.6624 - accuracy: 0.5961\n",
      "Epoch 152/400\n"
     ]
    },
    {
     "name": "stdout",
     "output_type": "stream",
     "text": [
      "2263/2263 [==============================] - 0s 36us/sample - loss: 0.6626 - accuracy: 0.5966\n",
      "Epoch 153/400\n",
      "2263/2263 [==============================] - 0s 37us/sample - loss: 0.6629 - accuracy: 0.5961\n",
      "Epoch 154/400\n",
      "2263/2263 [==============================] - 0s 36us/sample - loss: 0.6616 - accuracy: 0.6001\n",
      "Epoch 155/400\n",
      "2263/2263 [==============================] - 0s 36us/sample - loss: 0.6627 - accuracy: 0.6001\n",
      "Epoch 156/400\n",
      "2263/2263 [==============================] - 0s 37us/sample - loss: 0.6621 - accuracy: 0.5952\n",
      "Epoch 157/400\n",
      "2263/2263 [==============================] - 0s 36us/sample - loss: 0.6620 - accuracy: 0.5966\n",
      "Epoch 158/400\n",
      "2263/2263 [==============================] - 0s 36us/sample - loss: 0.6611 - accuracy: 0.5948\n",
      "Epoch 159/400\n",
      "2263/2263 [==============================] - 0s 36us/sample - loss: 0.6620 - accuracy: 0.6001\n",
      "Epoch 160/400\n",
      "2263/2263 [==============================] - 0s 37us/sample - loss: 0.6611 - accuracy: 0.5970\n",
      "Epoch 161/400\n",
      "2263/2263 [==============================] - 0s 37us/sample - loss: 0.6614 - accuracy: 0.5992\n",
      "Epoch 162/400\n",
      "2263/2263 [==============================] - 0s 37us/sample - loss: 0.6615 - accuracy: 0.5996\n",
      "Epoch 163/400\n",
      "2263/2263 [==============================] - 0s 36us/sample - loss: 0.6614 - accuracy: 0.6001\n",
      "Epoch 164/400\n",
      "2263/2263 [==============================] - 0s 36us/sample - loss: 0.6618 - accuracy: 0.6049\n",
      "Epoch 165/400\n",
      "2263/2263 [==============================] - 0s 36us/sample - loss: 0.6613 - accuracy: 0.5992\n",
      "Epoch 166/400\n",
      "2263/2263 [==============================] - 0s 37us/sample - loss: 0.6624 - accuracy: 0.5996\n",
      "Epoch 167/400\n",
      "2263/2263 [==============================] - 0s 37us/sample - loss: 0.6616 - accuracy: 0.5961\n",
      "Epoch 168/400\n",
      "2263/2263 [==============================] - 0s 39us/sample - loss: 0.6604 - accuracy: 0.5988\n",
      "Epoch 169/400\n",
      "2263/2263 [==============================] - 0s 36us/sample - loss: 0.6607 - accuracy: 0.6019\n",
      "Epoch 170/400\n",
      "2263/2263 [==============================] - 0s 36us/sample - loss: 0.6611 - accuracy: 0.6005\n",
      "Epoch 171/400\n",
      "2263/2263 [==============================] - 0s 37us/sample - loss: 0.6615 - accuracy: 0.6005\n",
      "Epoch 172/400\n",
      "2263/2263 [==============================] - 0s 36us/sample - loss: 0.6606 - accuracy: 0.6041\n",
      "Epoch 173/400\n",
      "2263/2263 [==============================] - 0s 37us/sample - loss: 0.6602 - accuracy: 0.6027\n",
      "Epoch 174/400\n",
      "2263/2263 [==============================] - 0s 37us/sample - loss: 0.6603 - accuracy: 0.6032\n",
      "Epoch 175/400\n",
      "2263/2263 [==============================] - 0s 38us/sample - loss: 0.6611 - accuracy: 0.6019\n",
      "Epoch 176/400\n",
      "2263/2263 [==============================] - 0s 37us/sample - loss: 0.6604 - accuracy: 0.6045\n",
      "Epoch 177/400\n",
      "2263/2263 [==============================] - 0s 36us/sample - loss: 0.6610 - accuracy: 0.5970\n",
      "Epoch 178/400\n",
      "2263/2263 [==============================] - 0s 36us/sample - loss: 0.6597 - accuracy: 0.6023\n",
      "Epoch 179/400\n",
      "2263/2263 [==============================] - 0s 36us/sample - loss: 0.6603 - accuracy: 0.6010\n",
      "Epoch 180/400\n",
      "2263/2263 [==============================] - 0s 36us/sample - loss: 0.6609 - accuracy: 0.6014\n",
      "Epoch 181/400\n",
      "2263/2263 [==============================] - 0s 36us/sample - loss: 0.6606 - accuracy: 0.5988\n",
      "Epoch 182/400\n",
      "2263/2263 [==============================] - 0s 36us/sample - loss: 0.6607 - accuracy: 0.5996\n",
      "Epoch 183/400\n",
      "2263/2263 [==============================] - 0s 36us/sample - loss: 0.6593 - accuracy: 0.6054\n",
      "Epoch 184/400\n",
      "2263/2263 [==============================] - 0s 36us/sample - loss: 0.6613 - accuracy: 0.6054\n",
      "Epoch 185/400\n",
      "2263/2263 [==============================] - 0s 37us/sample - loss: 0.6596 - accuracy: 0.6076\n",
      "Epoch 186/400\n",
      "2263/2263 [==============================] - 0s 39us/sample - loss: 0.6595 - accuracy: 0.6027\n",
      "Epoch 187/400\n",
      "2263/2263 [==============================] - 0s 38us/sample - loss: 0.6593 - accuracy: 0.6085\n",
      "Epoch 188/400\n",
      "2263/2263 [==============================] - 0s 37us/sample - loss: 0.6592 - accuracy: 0.6010\n",
      "Epoch 189/400\n",
      "2263/2263 [==============================] - 0s 37us/sample - loss: 0.6599 - accuracy: 0.5970\n",
      "Epoch 190/400\n",
      "2263/2263 [==============================] - 0s 37us/sample - loss: 0.6591 - accuracy: 0.6072\n",
      "Epoch 191/400\n",
      "2263/2263 [==============================] - 0s 37us/sample - loss: 0.6592 - accuracy: 0.6041\n",
      "Epoch 192/400\n",
      "2263/2263 [==============================] - 0s 37us/sample - loss: 0.6599 - accuracy: 0.6067\n",
      "Epoch 193/400\n",
      "2263/2263 [==============================] - 0s 37us/sample - loss: 0.6599 - accuracy: 0.6049\n",
      "Epoch 194/400\n",
      "2263/2263 [==============================] - 0s 37us/sample - loss: 0.6593 - accuracy: 0.6032\n",
      "Epoch 195/400\n",
      "2263/2263 [==============================] - 0s 37us/sample - loss: 0.6595 - accuracy: 0.6036\n",
      "Epoch 196/400\n",
      "2263/2263 [==============================] - 0s 37us/sample - loss: 0.6585 - accuracy: 0.5992\n",
      "Epoch 197/400\n",
      "2263/2263 [==============================] - 0s 37us/sample - loss: 0.6588 - accuracy: 0.6019\n",
      "Epoch 198/400\n",
      "2263/2263 [==============================] - 0s 39us/sample - loss: 0.6587 - accuracy: 0.6080\n",
      "Epoch 199/400\n",
      "2263/2263 [==============================] - 0s 37us/sample - loss: 0.6580 - accuracy: 0.6045\n",
      "Epoch 200/400\n",
      "2263/2263 [==============================] - 0s 37us/sample - loss: 0.6590 - accuracy: 0.6111\n",
      "Epoch 201/400\n",
      "2263/2263 [==============================] - 0s 37us/sample - loss: 0.6585 - accuracy: 0.6054\n",
      "Epoch 202/400\n",
      "2263/2263 [==============================] - 0s 38us/sample - loss: 0.6593 - accuracy: 0.6041\n",
      "Epoch 203/400\n",
      "2263/2263 [==============================] - 0s 37us/sample - loss: 0.6584 - accuracy: 0.6058\n",
      "Epoch 204/400\n",
      "2263/2263 [==============================] - 0s 37us/sample - loss: 0.6576 - accuracy: 0.6010\n",
      "Epoch 205/400\n",
      "2263/2263 [==============================] - 0s 38us/sample - loss: 0.6584 - accuracy: 0.5996\n",
      "Epoch 206/400\n",
      "2263/2263 [==============================] - 0s 37us/sample - loss: 0.6582 - accuracy: 0.6054\n",
      "Epoch 207/400\n",
      "2263/2263 [==============================] - 0s 36us/sample - loss: 0.6578 - accuracy: 0.6098\n",
      "Epoch 208/400\n",
      "2263/2263 [==============================] - 0s 35us/sample - loss: 0.6587 - accuracy: 0.6049\n",
      "Epoch 209/400\n",
      "2263/2263 [==============================] - 0s 36us/sample - loss: 0.6587 - accuracy: 0.6049\n",
      "Epoch 210/400\n",
      "2263/2263 [==============================] - 0s 36us/sample - loss: 0.6581 - accuracy: 0.6085\n",
      "Epoch 211/400\n",
      "2263/2263 [==============================] - 0s 36us/sample - loss: 0.6561 - accuracy: 0.6027\n",
      "Epoch 212/400\n",
      "2263/2263 [==============================] - 0s 36us/sample - loss: 0.6580 - accuracy: 0.6076\n",
      "Epoch 213/400\n",
      "2263/2263 [==============================] - 0s 36us/sample - loss: 0.6586 - accuracy: 0.6080\n",
      "Epoch 214/400\n",
      "2263/2263 [==============================] - 0s 36us/sample - loss: 0.6574 - accuracy: 0.6147\n",
      "Epoch 215/400\n",
      "2263/2263 [==============================] - 0s 38us/sample - loss: 0.6567 - accuracy: 0.6120\n",
      "Epoch 216/400\n",
      "2263/2263 [==============================] - 0s 37us/sample - loss: 0.6578 - accuracy: 0.6063\n",
      "Epoch 217/400\n",
      "2263/2263 [==============================] - 0s 37us/sample - loss: 0.6570 - accuracy: 0.6103\n",
      "Epoch 218/400\n",
      "2263/2263 [==============================] - 0s 36us/sample - loss: 0.6577 - accuracy: 0.6054\n",
      "Epoch 219/400\n",
      "2263/2263 [==============================] - 0s 37us/sample - loss: 0.6568 - accuracy: 0.6072\n",
      "Epoch 220/400\n",
      "2263/2263 [==============================] - 0s 38us/sample - loss: 0.6559 - accuracy: 0.6107\n",
      "Epoch 221/400\n",
      "2263/2263 [==============================] - 0s 38us/sample - loss: 0.6564 - accuracy: 0.6094\n",
      "Epoch 222/400\n",
      "2263/2263 [==============================] - 0s 39us/sample - loss: 0.6573 - accuracy: 0.6080\n",
      "Epoch 223/400\n",
      "2263/2263 [==============================] - 0s 36us/sample - loss: 0.6576 - accuracy: 0.6045\n",
      "Epoch 224/400\n",
      "2263/2263 [==============================] - 0s 37us/sample - loss: 0.6572 - accuracy: 0.6049\n",
      "Epoch 225/400\n",
      "2263/2263 [==============================] - 0s 37us/sample - loss: 0.6566 - accuracy: 0.6133\n",
      "Epoch 226/400\n",
      "2263/2263 [==============================] - 0s 37us/sample - loss: 0.6567 - accuracy: 0.6098\n",
      "Epoch 227/400\n",
      "2263/2263 [==============================] - 0s 38us/sample - loss: 0.6553 - accuracy: 0.6125\n"
     ]
    },
    {
     "name": "stdout",
     "output_type": "stream",
     "text": [
      "Epoch 228/400\n",
      "2263/2263 [==============================] - 0s 38us/sample - loss: 0.6548 - accuracy: 0.6094\n",
      "Epoch 229/400\n",
      "2263/2263 [==============================] - 0s 35us/sample - loss: 0.6561 - accuracy: 0.6067\n",
      "Epoch 230/400\n",
      "2263/2263 [==============================] - 0s 38us/sample - loss: 0.6565 - accuracy: 0.6094\n",
      "Epoch 231/400\n",
      "2263/2263 [==============================] - 0s 35us/sample - loss: 0.6564 - accuracy: 0.6120\n",
      "Epoch 232/400\n",
      "2263/2263 [==============================] - 0s 38us/sample - loss: 0.6557 - accuracy: 0.6120\n",
      "Epoch 233/400\n",
      "2263/2263 [==============================] - 0s 38us/sample - loss: 0.6563 - accuracy: 0.6116\n",
      "Epoch 234/400\n",
      "2263/2263 [==============================] - 0s 37us/sample - loss: 0.6560 - accuracy: 0.6072\n",
      "Epoch 235/400\n",
      "2263/2263 [==============================] - 0s 37us/sample - loss: 0.6548 - accuracy: 0.6103\n",
      "Epoch 236/400\n",
      "2263/2263 [==============================] - 0s 36us/sample - loss: 0.6558 - accuracy: 0.6098\n",
      "Epoch 237/400\n",
      "2263/2263 [==============================] - 0s 35us/sample - loss: 0.6539 - accuracy: 0.6133\n",
      "Epoch 238/400\n",
      "2263/2263 [==============================] - 0s 36us/sample - loss: 0.6555 - accuracy: 0.6094\n",
      "Epoch 239/400\n",
      "2263/2263 [==============================] - 0s 39us/sample - loss: 0.6548 - accuracy: 0.6138\n",
      "Epoch 240/400\n",
      "2263/2263 [==============================] - 0s 36us/sample - loss: 0.6582 - accuracy: 0.6027\n",
      "Epoch 241/400\n",
      "2263/2263 [==============================] - 0s 37us/sample - loss: 0.6561 - accuracy: 0.6111\n",
      "Epoch 242/400\n",
      "2263/2263 [==============================] - 0s 36us/sample - loss: 0.6550 - accuracy: 0.6129\n",
      "Epoch 243/400\n",
      "2263/2263 [==============================] - 0s 37us/sample - loss: 0.6538 - accuracy: 0.6120\n",
      "Epoch 244/400\n",
      "2263/2263 [==============================] - 0s 36us/sample - loss: 0.6547 - accuracy: 0.6151\n",
      "Epoch 245/400\n",
      "2263/2263 [==============================] - 0s 36us/sample - loss: 0.6544 - accuracy: 0.6067\n",
      "Epoch 246/400\n",
      "2263/2263 [==============================] - 0s 37us/sample - loss: 0.6553 - accuracy: 0.6041\n",
      "Epoch 247/400\n",
      "2263/2263 [==============================] - 0s 37us/sample - loss: 0.6552 - accuracy: 0.6063\n",
      "Epoch 248/400\n",
      "2263/2263 [==============================] - 0s 38us/sample - loss: 0.6558 - accuracy: 0.6098\n",
      "Epoch 249/400\n",
      "2263/2263 [==============================] - 0s 38us/sample - loss: 0.6551 - accuracy: 0.6125\n",
      "Epoch 250/400\n",
      "2263/2263 [==============================] - 0s 36us/sample - loss: 0.6559 - accuracy: 0.6129\n",
      "Epoch 251/400\n",
      "2263/2263 [==============================] - 0s 36us/sample - loss: 0.6534 - accuracy: 0.6072\n",
      "Epoch 252/400\n",
      "2263/2263 [==============================] - 0s 37us/sample - loss: 0.6534 - accuracy: 0.6142\n",
      "Epoch 253/400\n",
      "2263/2263 [==============================] - 0s 37us/sample - loss: 0.6561 - accuracy: 0.6098\n",
      "Epoch 254/400\n",
      "2263/2263 [==============================] - 0s 37us/sample - loss: 0.6539 - accuracy: 0.6054\n",
      "Epoch 255/400\n",
      "2263/2263 [==============================] - 0s 38us/sample - loss: 0.6534 - accuracy: 0.6173\n",
      "Epoch 256/400\n",
      "2263/2263 [==============================] - 0s 38us/sample - loss: 0.6543 - accuracy: 0.6103\n",
      "Epoch 257/400\n",
      "2263/2263 [==============================] - 0s 38us/sample - loss: 0.6545 - accuracy: 0.6045\n",
      "Epoch 258/400\n",
      "2263/2263 [==============================] - 0s 37us/sample - loss: 0.6534 - accuracy: 0.6129\n",
      "Epoch 259/400\n",
      "2263/2263 [==============================] - 0s 37us/sample - loss: 0.6540 - accuracy: 0.6107\n",
      "Epoch 260/400\n",
      "2263/2263 [==============================] - 0s 37us/sample - loss: 0.6530 - accuracy: 0.6195\n",
      "Epoch 261/400\n",
      "2263/2263 [==============================] - 0s 37us/sample - loss: 0.6538 - accuracy: 0.6129\n",
      "Epoch 262/400\n",
      "2263/2263 [==============================] - 0s 37us/sample - loss: 0.6532 - accuracy: 0.6067\n",
      "Epoch 263/400\n",
      "2263/2263 [==============================] - 0s 37us/sample - loss: 0.6530 - accuracy: 0.6151\n",
      "Epoch 264/400\n",
      "2263/2263 [==============================] - 0s 38us/sample - loss: 0.6543 - accuracy: 0.6089\n",
      "Epoch 265/400\n",
      "2263/2263 [==============================] - 0s 37us/sample - loss: 0.6537 - accuracy: 0.6076\n",
      "Epoch 266/400\n",
      "2263/2263 [==============================] - 0s 37us/sample - loss: 0.6537 - accuracy: 0.6195\n",
      "Epoch 267/400\n",
      "2263/2263 [==============================] - 0s 37us/sample - loss: 0.6525 - accuracy: 0.6133\n",
      "Epoch 268/400\n",
      "2263/2263 [==============================] - 0s 37us/sample - loss: 0.6524 - accuracy: 0.6133\n",
      "Epoch 269/400\n",
      "2263/2263 [==============================] - 0s 36us/sample - loss: 0.6530 - accuracy: 0.6142\n",
      "Epoch 270/400\n",
      "2263/2263 [==============================] - 0s 36us/sample - loss: 0.6543 - accuracy: 0.6111\n",
      "Epoch 271/400\n",
      "2263/2263 [==============================] - 0s 36us/sample - loss: 0.6542 - accuracy: 0.6107\n",
      "Epoch 272/400\n",
      "2263/2263 [==============================] - 0s 37us/sample - loss: 0.6523 - accuracy: 0.6111\n",
      "Epoch 273/400\n",
      "2263/2263 [==============================] - 0s 37us/sample - loss: 0.6518 - accuracy: 0.6186\n",
      "Epoch 274/400\n",
      "2263/2263 [==============================] - 0s 40us/sample - loss: 0.6527 - accuracy: 0.6169\n",
      "Epoch 275/400\n",
      "2263/2263 [==============================] - 0s 38us/sample - loss: 0.6519 - accuracy: 0.6129\n",
      "Epoch 276/400\n",
      "2263/2263 [==============================] - 0s 37us/sample - loss: 0.6526 - accuracy: 0.6098\n",
      "Epoch 277/400\n",
      "2263/2263 [==============================] - 0s 36us/sample - loss: 0.6528 - accuracy: 0.6116\n",
      "Epoch 278/400\n",
      "2263/2263 [==============================] - 0s 38us/sample - loss: 0.6522 - accuracy: 0.6107\n",
      "Epoch 279/400\n",
      "2263/2263 [==============================] - 0s 38us/sample - loss: 0.6528 - accuracy: 0.6107\n",
      "Epoch 280/400\n",
      "2263/2263 [==============================] - 0s 36us/sample - loss: 0.6529 - accuracy: 0.6107\n",
      "Epoch 281/400\n",
      "2263/2263 [==============================] - 0s 37us/sample - loss: 0.6533 - accuracy: 0.6164\n",
      "Epoch 282/400\n",
      "2263/2263 [==============================] - 0s 37us/sample - loss: 0.6526 - accuracy: 0.6120\n",
      "Epoch 283/400\n",
      "2263/2263 [==============================] - 0s 36us/sample - loss: 0.6531 - accuracy: 0.6138\n",
      "Epoch 284/400\n",
      "2263/2263 [==============================] - 0s 37us/sample - loss: 0.6523 - accuracy: 0.6160\n",
      "Epoch 285/400\n",
      "2263/2263 [==============================] - 0s 39us/sample - loss: 0.6538 - accuracy: 0.6098\n",
      "Epoch 286/400\n",
      "2263/2263 [==============================] - 0s 37us/sample - loss: 0.6542 - accuracy: 0.6160\n",
      "Epoch 287/400\n",
      "2263/2263 [==============================] - 0s 39us/sample - loss: 0.6527 - accuracy: 0.6156\n",
      "Epoch 288/400\n",
      "2263/2263 [==============================] - 0s 38us/sample - loss: 0.6529 - accuracy: 0.6120\n",
      "Epoch 289/400\n",
      "2263/2263 [==============================] - 0s 37us/sample - loss: 0.6515 - accuracy: 0.6103\n",
      "Epoch 290/400\n",
      "2263/2263 [==============================] - 0s 37us/sample - loss: 0.6521 - accuracy: 0.6195\n",
      "Epoch 291/400\n",
      "2263/2263 [==============================] - 0s 37us/sample - loss: 0.6512 - accuracy: 0.6129\n",
      "Epoch 292/400\n",
      "2263/2263 [==============================] - 0s 38us/sample - loss: 0.6517 - accuracy: 0.6178\n",
      "Epoch 293/400\n",
      "2263/2263 [==============================] - 0s 38us/sample - loss: 0.6503 - accuracy: 0.6147\n",
      "Epoch 294/400\n",
      "2263/2263 [==============================] - 0s 38us/sample - loss: 0.6512 - accuracy: 0.6151\n",
      "Epoch 295/400\n",
      "2263/2263 [==============================] - 0s 36us/sample - loss: 0.6510 - accuracy: 0.6107\n",
      "Epoch 296/400\n",
      "2263/2263 [==============================] - 0s 37us/sample - loss: 0.6540 - accuracy: 0.6156\n",
      "Epoch 297/400\n",
      "2263/2263 [==============================] - 0s 38us/sample - loss: 0.6501 - accuracy: 0.6169\n",
      "Epoch 298/400\n",
      "2263/2263 [==============================] - 0s 37us/sample - loss: 0.6520 - accuracy: 0.6080\n",
      "Epoch 299/400\n",
      "2263/2263 [==============================] - 0s 38us/sample - loss: 0.6514 - accuracy: 0.6080\n",
      "Epoch 300/400\n",
      "2263/2263 [==============================] - 0s 37us/sample - loss: 0.6536 - accuracy: 0.6129\n",
      "Epoch 301/400\n",
      "2263/2263 [==============================] - 0s 37us/sample - loss: 0.6529 - accuracy: 0.6094\n",
      "Epoch 302/400\n",
      "2263/2263 [==============================] - 0s 38us/sample - loss: 0.6523 - accuracy: 0.6125\n",
      "Epoch 303/400\n",
      "2263/2263 [==============================] - 0s 38us/sample - loss: 0.6512 - accuracy: 0.6156\n",
      "Epoch 304/400\n",
      "2263/2263 [==============================] - 0s 37us/sample - loss: 0.6504 - accuracy: 0.6103\n",
      "Epoch 305/400\n",
      "2263/2263 [==============================] - 0s 36us/sample - loss: 0.6519 - accuracy: 0.6222\n",
      "Epoch 306/400\n",
      "2263/2263 [==============================] - 0s 36us/sample - loss: 0.6518 - accuracy: 0.6111\n",
      "Epoch 307/400\n",
      "2263/2263 [==============================] - 0s 37us/sample - loss: 0.6517 - accuracy: 0.6116\n",
      "Epoch 308/400\n",
      "2263/2263 [==============================] - 0s 39us/sample - loss: 0.6500 - accuracy: 0.6103\n",
      "Epoch 309/400\n",
      "2263/2263 [==============================] - 0s 38us/sample - loss: 0.6528 - accuracy: 0.6107\n",
      "Epoch 310/400\n",
      "2263/2263 [==============================] - 0s 37us/sample - loss: 0.6511 - accuracy: 0.6160\n",
      "Epoch 311/400\n",
      "2263/2263 [==============================] - 0s 36us/sample - loss: 0.6502 - accuracy: 0.6182\n",
      "Epoch 312/400\n",
      "2263/2263 [==============================] - 0s 36us/sample - loss: 0.6501 - accuracy: 0.6160\n",
      "Epoch 313/400\n",
      "2263/2263 [==============================] - 0s 35us/sample - loss: 0.6490 - accuracy: 0.6147\n",
      "Epoch 314/400\n",
      "2263/2263 [==============================] - 0s 36us/sample - loss: 0.6508 - accuracy: 0.6178\n",
      "Epoch 315/400\n",
      "2263/2263 [==============================] - 0s 36us/sample - loss: 0.6502 - accuracy: 0.6111\n",
      "Epoch 316/400\n",
      "2263/2263 [==============================] - 0s 39us/sample - loss: 0.6504 - accuracy: 0.6133\n",
      "Epoch 317/400\n",
      "2263/2263 [==============================] - 0s 37us/sample - loss: 0.6495 - accuracy: 0.6226\n",
      "Epoch 318/400\n",
      "2263/2263 [==============================] - 0s 36us/sample - loss: 0.6504 - accuracy: 0.6103\n",
      "Epoch 319/400\n",
      "2263/2263 [==============================] - 0s 36us/sample - loss: 0.6517 - accuracy: 0.6195\n",
      "Epoch 320/400\n",
      "2263/2263 [==============================] - 0s 36us/sample - loss: 0.6538 - accuracy: 0.6151\n",
      "Epoch 321/400\n",
      "2263/2263 [==============================] - 0s 36us/sample - loss: 0.6506 - accuracy: 0.6107\n",
      "Epoch 322/400\n",
      "2263/2263 [==============================] - 0s 37us/sample - loss: 0.6484 - accuracy: 0.6217\n",
      "Epoch 323/400\n",
      "2263/2263 [==============================] - 0s 36us/sample - loss: 0.6490 - accuracy: 0.6138\n",
      "Epoch 324/400\n",
      "2263/2263 [==============================] - 0s 36us/sample - loss: 0.6501 - accuracy: 0.6222\n",
      "Epoch 325/400\n",
      "2263/2263 [==============================] - 0s 37us/sample - loss: 0.6511 - accuracy: 0.6111\n",
      "Epoch 326/400\n",
      "2263/2263 [==============================] - 0s 37us/sample - loss: 0.6491 - accuracy: 0.6125\n",
      "Epoch 327/400\n",
      "2263/2263 [==============================] - 0s 37us/sample - loss: 0.6518 - accuracy: 0.6142\n",
      "Epoch 328/400\n",
      "2263/2263 [==============================] - 0s 37us/sample - loss: 0.6517 - accuracy: 0.6191\n",
      "Epoch 329/400\n",
      "2263/2263 [==============================] - 0s 36us/sample - loss: 0.6499 - accuracy: 0.6178\n",
      "Epoch 330/400\n",
      "2263/2263 [==============================] - 0s 37us/sample - loss: 0.6506 - accuracy: 0.6195\n",
      "Epoch 331/400\n",
      "2263/2263 [==============================] - 0s 37us/sample - loss: 0.6510 - accuracy: 0.6182\n",
      "Epoch 332/400\n",
      "2263/2263 [==============================] - 0s 37us/sample - loss: 0.6517 - accuracy: 0.6133\n",
      "Epoch 333/400\n",
      "2263/2263 [==============================] - 0s 37us/sample - loss: 0.6489 - accuracy: 0.6217\n",
      "Epoch 334/400\n",
      "2263/2263 [==============================] - 0s 37us/sample - loss: 0.6491 - accuracy: 0.6138\n",
      "Epoch 335/400\n",
      "2263/2263 [==============================] - 0s 36us/sample - loss: 0.6524 - accuracy: 0.6182\n",
      "Epoch 336/400\n",
      "2263/2263 [==============================] - 0s 37us/sample - loss: 0.6498 - accuracy: 0.6169\n",
      "Epoch 337/400\n",
      "2263/2263 [==============================] - 0s 37us/sample - loss: 0.6475 - accuracy: 0.6248\n",
      "Epoch 338/400\n",
      "2263/2263 [==============================] - 0s 37us/sample - loss: 0.6537 - accuracy: 0.6178\n",
      "Epoch 339/400\n",
      "2263/2263 [==============================] - 0s 37us/sample - loss: 0.6495 - accuracy: 0.6191\n",
      "Epoch 340/400\n",
      "2263/2263 [==============================] - 0s 37us/sample - loss: 0.6493 - accuracy: 0.6164\n",
      "Epoch 341/400\n",
      "2263/2263 [==============================] - 0s 37us/sample - loss: 0.6512 - accuracy: 0.6173\n",
      "Epoch 342/400\n",
      "2263/2263 [==============================] - 0s 37us/sample - loss: 0.6503 - accuracy: 0.6169\n",
      "Epoch 343/400\n",
      "2263/2263 [==============================] - 0s 38us/sample - loss: 0.6483 - accuracy: 0.6129\n",
      "Epoch 344/400\n",
      "2263/2263 [==============================] - 0s 47us/sample - loss: 0.6514 - accuracy: 0.6173\n",
      "Epoch 345/400\n",
      "2263/2263 [==============================] - 0s 41us/sample - loss: 0.6508 - accuracy: 0.6195\n",
      "Epoch 346/400\n",
      "2263/2263 [==============================] - 0s 38us/sample - loss: 0.6493 - accuracy: 0.6217\n",
      "Epoch 347/400\n",
      "2263/2263 [==============================] - 0s 37us/sample - loss: 0.6494 - accuracy: 0.6173\n",
      "Epoch 348/400\n",
      "2263/2263 [==============================] - 0s 37us/sample - loss: 0.6469 - accuracy: 0.6200\n",
      "Epoch 349/400\n",
      "2263/2263 [==============================] - 0s 39us/sample - loss: 0.6488 - accuracy: 0.6142\n",
      "Epoch 350/400\n",
      "2263/2263 [==============================] - 0s 65us/sample - loss: 0.6487 - accuracy: 0.6173\n",
      "Epoch 351/400\n",
      "2263/2263 [==============================] - 0s 51us/sample - loss: 0.6499 - accuracy: 0.6169\n",
      "Epoch 352/400\n",
      "2263/2263 [==============================] - 0s 49us/sample - loss: 0.6487 - accuracy: 0.6133\n",
      "Epoch 353/400\n",
      "2263/2263 [==============================] - 0s 48us/sample - loss: 0.6489 - accuracy: 0.6173\n",
      "Epoch 354/400\n",
      "2263/2263 [==============================] - 0s 45us/sample - loss: 0.6480 - accuracy: 0.6178\n",
      "Epoch 355/400\n",
      "2263/2263 [==============================] - 0s 45us/sample - loss: 0.6481 - accuracy: 0.6178\n",
      "Epoch 356/400\n",
      "2263/2263 [==============================] - 0s 42us/sample - loss: 0.6478 - accuracy: 0.6164\n",
      "Epoch 357/400\n",
      "2263/2263 [==============================] - 0s 38us/sample - loss: 0.6475 - accuracy: 0.6178\n",
      "Epoch 358/400\n",
      "2263/2263 [==============================] - 0s 55us/sample - loss: 0.6472 - accuracy: 0.6160\n",
      "Epoch 359/400\n",
      "2263/2263 [==============================] - 0s 38us/sample - loss: 0.6502 - accuracy: 0.6133\n",
      "Epoch 360/400\n",
      "2263/2263 [==============================] - 0s 40us/sample - loss: 0.6465 - accuracy: 0.6120\n",
      "Epoch 361/400\n",
      "2263/2263 [==============================] - 0s 38us/sample - loss: 0.6463 - accuracy: 0.6222\n",
      "Epoch 362/400\n",
      "2263/2263 [==============================] - 0s 37us/sample - loss: 0.6490 - accuracy: 0.6138\n",
      "Epoch 363/400\n",
      "2263/2263 [==============================] - 0s 43us/sample - loss: 0.6493 - accuracy: 0.6222\n",
      "Epoch 364/400\n",
      "2263/2263 [==============================] - 0s 45us/sample - loss: 0.6485 - accuracy: 0.6133\n",
      "Epoch 365/400\n",
      "2263/2263 [==============================] - 0s 41us/sample - loss: 0.6497 - accuracy: 0.6160\n",
      "Epoch 366/400\n",
      "2263/2263 [==============================] - 0s 38us/sample - loss: 0.6494 - accuracy: 0.6173\n",
      "Epoch 367/400\n",
      "2263/2263 [==============================] - 0s 39us/sample - loss: 0.6475 - accuracy: 0.6151\n",
      "Epoch 368/400\n",
      "2263/2263 [==============================] - 0s 38us/sample - loss: 0.6477 - accuracy: 0.6142\n",
      "Epoch 369/400\n",
      "2263/2263 [==============================] - 0s 38us/sample - loss: 0.6502 - accuracy: 0.6173\n",
      "Epoch 370/400\n",
      "2263/2263 [==============================] - 0s 40us/sample - loss: 0.6488 - accuracy: 0.6094\n",
      "Epoch 371/400\n",
      "2263/2263 [==============================] - 0s 37us/sample - loss: 0.6481 - accuracy: 0.6182\n",
      "Epoch 372/400\n",
      "2263/2263 [==============================] - 0s 37us/sample - loss: 0.6506 - accuracy: 0.6217\n",
      "Epoch 373/400\n",
      "2263/2263 [==============================] - 0s 53us/sample - loss: 0.6477 - accuracy: 0.6098\n",
      "Epoch 374/400\n",
      "2263/2263 [==============================] - 0s 38us/sample - loss: 0.6478 - accuracy: 0.6186\n",
      "Epoch 375/400\n",
      "2263/2263 [==============================] - 0s 37us/sample - loss: 0.6484 - accuracy: 0.6191\n",
      "Epoch 376/400\n",
      "2263/2263 [==============================] - 0s 39us/sample - loss: 0.6469 - accuracy: 0.6147\n",
      "Epoch 377/400\n",
      "2263/2263 [==============================] - 0s 38us/sample - loss: 0.6461 - accuracy: 0.6191\n",
      "Epoch 378/400\n",
      "2263/2263 [==============================] - 0s 37us/sample - loss: 0.6474 - accuracy: 0.6235\n"
     ]
    },
    {
     "name": "stdout",
     "output_type": "stream",
     "text": [
      "Epoch 379/400\n",
      "2263/2263 [==============================] - 0s 39us/sample - loss: 0.6492 - accuracy: 0.6160\n",
      "Epoch 380/400\n",
      "2263/2263 [==============================] - 0s 43us/sample - loss: 0.6461 - accuracy: 0.6195\n",
      "Epoch 381/400\n",
      "2263/2263 [==============================] - 0s 42us/sample - loss: 0.6471 - accuracy: 0.6186\n",
      "Epoch 382/400\n",
      "2263/2263 [==============================] - 0s 45us/sample - loss: 0.6463 - accuracy: 0.6156\n",
      "Epoch 383/400\n",
      "2263/2263 [==============================] - 0s 37us/sample - loss: 0.6468 - accuracy: 0.6217\n",
      "Epoch 384/400\n",
      "2263/2263 [==============================] - 0s 39us/sample - loss: 0.6468 - accuracy: 0.6103\n",
      "Epoch 385/400\n",
      "2263/2263 [==============================] - 0s 37us/sample - loss: 0.6469 - accuracy: 0.6226\n",
      "Epoch 386/400\n",
      "2263/2263 [==============================] - 0s 53us/sample - loss: 0.6456 - accuracy: 0.6204\n",
      "Epoch 387/400\n",
      "2263/2263 [==============================] - 0s 53us/sample - loss: 0.6460 - accuracy: 0.6200\n",
      "Epoch 388/400\n",
      "2263/2263 [==============================] - 0s 52us/sample - loss: 0.6475 - accuracy: 0.6191\n",
      "Epoch 389/400\n",
      "2263/2263 [==============================] - 0s 48us/sample - loss: 0.6483 - accuracy: 0.6173\n",
      "Epoch 390/400\n",
      "2263/2263 [==============================] - 0s 45us/sample - loss: 0.6479 - accuracy: 0.6133\n",
      "Epoch 391/400\n",
      "2263/2263 [==============================] - 0s 45us/sample - loss: 0.6473 - accuracy: 0.6182\n",
      "Epoch 392/400\n",
      "2263/2263 [==============================] - 0s 58us/sample - loss: 0.6468 - accuracy: 0.6213\n",
      "Epoch 393/400\n",
      "2263/2263 [==============================] - 0s 37us/sample - loss: 0.6447 - accuracy: 0.6200\n",
      "Epoch 394/400\n",
      "2263/2263 [==============================] - 0s 37us/sample - loss: 0.6486 - accuracy: 0.6191\n",
      "Epoch 395/400\n",
      "2263/2263 [==============================] - 0s 37us/sample - loss: 0.6506 - accuracy: 0.6111\n",
      "Epoch 396/400\n",
      "2263/2263 [==============================] - 0s 39us/sample - loss: 0.6469 - accuracy: 0.6164\n",
      "Epoch 397/400\n",
      "2263/2263 [==============================] - 0s 40us/sample - loss: 0.6467 - accuracy: 0.6129\n",
      "Epoch 398/400\n",
      "2263/2263 [==============================] - 0s 39us/sample - loss: 0.6459 - accuracy: 0.6200\n",
      "Epoch 399/400\n",
      "2263/2263 [==============================] - 0s 39us/sample - loss: 0.6464 - accuracy: 0.6204\n",
      "Epoch 400/400\n",
      "2263/2263 [==============================] - 0s 41us/sample - loss: 0.6441 - accuracy: 0.6244\n",
      "2263/2263 [==============================] - 0s 41us/sample - loss: 0.6449 - accuracy: 0.6147\n",
      "250/250 [==============================] - 0s 23us/sample - loss: 0.8246 - accuracy: 0.5520\n",
      "classifier accuracy: 0.6146708\n",
      "Testing accuracy: 0.552\n"
     ]
    },
    {
     "data": {
      "image/png": "[encoded data removed]",
      "text/plain": [
       "<Figure size 432x288 with 1 Axes>"
      ]
     },
     "metadata": {
      "needs_background": "light"
     },
     "output_type": "display_data"
    }
   ],
   "source": [
    "history = classifier.fit(X_train, y_train, batch_size=batch_size, epochs=epochs)\n",
    "\n",
    "# evaluate accuracy\n",
    "train_acc = classifier.evaluate(X_train, y_train, batch_size=32)[1]\n",
    "test_acc = classifier.evaluate(X_test, y_test, batch_size=32)[1]\n",
    "print('classifier accuracy: %s' % train_acc)\n",
    "print('Testing accuracy: %s' % test_acc)\n",
    "\n",
    "losses = history.history['loss']\n",
    "plt.plot(range(len(losses)), losses, 'r')\n",
    "plt.show()"
   ]
  },
  {
   "cell_type": "code",
   "execution_count": 171,
   "metadata": {},
   "outputs": [
    {
     "data": {
      "image/png": "[encoded data removed]",
      "text/plain": [
       "<Figure size 432x288 with 1 Axes>"
      ]
     },
     "metadata": {
      "needs_background": "light"
     },
     "output_type": "display_data"
    }
   ],
   "source": [
    "losses = history.history['loss']\n",
    "plt.plot(range(len(losses)), losses, 'r')\n",
    "plt.show()"
   ]
  },
  {
   "cell_type": "code",
   "execution_count": 172,
   "metadata": {},
   "outputs": [
    {
     "name": "stdout",
     "output_type": "stream",
     "text": [
      "250/250 [==============================] - 0s 30us/sample - loss: 0.8246 - accuracy: 0.5520\n",
      "2263/2263 [==============================] - 0s 21us/sample - loss: 0.6449 - accuracy: 0.6147\n",
      "test accuracy: 0.552\n",
      "training data accuracy0.6146708\n"
     ]
    }
   ],
   "source": [
    "test_acc = classifier.evaluate(X_test, y_test, batch_size=32)[1]\n",
    "train_acc = classifier.evaluate(X_train, y_train, batch_size=32)[1]\n",
    "print(\"test accuracy: \" + str(test_acc))\n",
    "print(\"training data accuracy\"+str(train_acc))"
   ]
  },
  {
   "cell_type": "markdown",
   "metadata": {},
   "source": [
    "## Modification <-- Amazing"
   ]
  },
  {
   "cell_type": "markdown",
   "metadata": {},
   "source": [
    "## Analysis: Since stock market is a sequential result, if we put the previous days' data into the traing data, we may get a more accurate prediction. To varify it, the following will realize this idea."
   ]
  },
  {
   "cell_type": "markdown",
   "metadata": {},
   "source": [
    "### Now, we change the input data to improve the accuracy."
   ]
  },
  {
   "cell_type": "code",
   "execution_count": 189,
   "metadata": {},
   "outputs": [
    {
     "data": {
      "text/html": [
       "<div>\n",
       "<style scoped>\n",
       "    .dataframe tbody tr th:only-of-type {\n",
       "        vertical-align: middle;\n",
       "    }\n",
       "\n",
       "    .dataframe tbody tr th {\n",
       "        vertical-align: top;\n",
       "    }\n",
       "\n",
       "    .dataframe thead th {\n",
       "        text-align: right;\n",
       "    }\n",
       "</style>\n",
       "<table border=\"1\" class=\"dataframe\">\n",
       "  <thead>\n",
       "    <tr style=\"text-align: right;\">\n",
       "      <th></th>\n",
       "      <th>Date</th>\n",
       "      <th>Open Price</th>\n",
       "      <th>Close Price</th>\n",
       "      <th>High Price</th>\n",
       "      <th>Low Price</th>\n",
       "      <th>Volume</th>\n",
       "    </tr>\n",
       "  </thead>\n",
       "  <tbody>\n",
       "    <tr>\n",
       "      <th>0</th>\n",
       "      <td>02-Jan-2009</td>\n",
       "      <td>902.99</td>\n",
       "      <td>931.80</td>\n",
       "      <td>934.73</td>\n",
       "      <td>899.35</td>\n",
       "      <td>4048270080</td>\n",
       "    </tr>\n",
       "    <tr>\n",
       "      <th>1</th>\n",
       "      <td>05-Jan-2009</td>\n",
       "      <td>929.17</td>\n",
       "      <td>927.45</td>\n",
       "      <td>936.63</td>\n",
       "      <td>919.53</td>\n",
       "      <td>5413910016</td>\n",
       "    </tr>\n",
       "    <tr>\n",
       "      <th>2</th>\n",
       "      <td>06-Jan-2009</td>\n",
       "      <td>931.17</td>\n",
       "      <td>934.70</td>\n",
       "      <td>943.85</td>\n",
       "      <td>927.28</td>\n",
       "      <td>5392620032</td>\n",
       "    </tr>\n",
       "    <tr>\n",
       "      <th>3</th>\n",
       "      <td>07-Jan-2009</td>\n",
       "      <td>927.45</td>\n",
       "      <td>906.65</td>\n",
       "      <td>927.45</td>\n",
       "      <td>902.37</td>\n",
       "      <td>4704940032</td>\n",
       "    </tr>\n",
       "    <tr>\n",
       "      <th>4</th>\n",
       "      <td>08-Jan-2009</td>\n",
       "      <td>905.73</td>\n",
       "      <td>909.73</td>\n",
       "      <td>910.00</td>\n",
       "      <td>896.81</td>\n",
       "      <td>4991549952</td>\n",
       "    </tr>\n",
       "  </tbody>\n",
       "</table>\n",
       "</div>"
      ],
      "text/plain": [
       "          Date  Open Price  Close Price  High Price  Low Price      Volume\n",
       "0  02-Jan-2009      902.99       931.80      934.73     899.35  4048270080\n",
       "1  05-Jan-2009      929.17       927.45      936.63     919.53  5413910016\n",
       "2  06-Jan-2009      931.17       934.70      943.85     927.28  5392620032\n",
       "3  07-Jan-2009      927.45       906.65      927.45     902.37  4704940032\n",
       "4  08-Jan-2009      905.73       909.73      910.00     896.81  4991549952"
      ]
     },
     "execution_count": 189,
     "metadata": {},
     "output_type": "execute_result"
    }
   ],
   "source": [
    "data = pd.read_csv('S&P_stock_data.csv')\n",
    "test_data = pd.read_csv('test_data.csv')\n",
    "data.head()"
   ]
  },
  {
   "cell_type": "code",
   "execution_count": 190,
   "metadata": {},
   "outputs": [],
   "source": [
    "def NNRule(inputdata):\n",
    "    for index, row in inputdata.iterrows():\n",
    "        if index !=0 and index !=1 and index !=2:\n",
    "            if int(inputdata.loc[index - 1, 'Close Price']) > int(inputdata.loc[index - 1, 'Open Price'])  :\n",
    "                inputdata.loc[index, 'growth'] = 1\n",
    "            else :\n",
    "                inputdata.loc[index, 'growth'] = 0\n",
    "            inputdata.loc[index, 'yesterday_Open Price']= inputdata.loc[index-1, 'Open Price']\n",
    "            inputdata.loc[index, 'yesterday_Cloe Price']= inputdata.loc[index-1, 'Close Price']\n",
    "            inputdata.loc[index, 'yesterday_High Price']= inputdata.loc[index-1, 'High Price']\n",
    "            inputdata.loc[index, 'yesterday_Low Price']= inputdata.loc[index-1, 'Low Price']\n",
    "            inputdata.loc[index, 'yesterday_Volume Price']= inputdata.loc[index-1, 'Volume']\n",
    "            \n",
    "            inputdata.loc[index, 'yes_yes_Open Price']= inputdata.loc[index-2, 'Open Price']\n",
    "            inputdata.loc[index, 'yes_yes_Cloe Price']= inputdata.loc[index-2, 'Close Price']\n",
    "            inputdata.loc[index, 'yes_yes_High Price']= inputdata.loc[index-2, 'High Price']\n",
    "            inputdata.loc[index, 'yes_yes_Low Price']= inputdata.loc[index-2, 'Low Price']\n",
    "            inputdata.loc[index, 'yes_yes_Volume Price']= inputdata.loc[index-2, 'Volume']\n",
    "    return inputdata"
   ]
  },
  {
   "cell_type": "code",
   "execution_count": 191,
   "metadata": {},
   "outputs": [
    {
     "data": {
      "text/html": [
       "<div>\n",
       "<style scoped>\n",
       "    .dataframe tbody tr th:only-of-type {\n",
       "        vertical-align: middle;\n",
       "    }\n",
       "\n",
       "    .dataframe tbody tr th {\n",
       "        vertical-align: top;\n",
       "    }\n",
       "\n",
       "    .dataframe thead th {\n",
       "        text-align: right;\n",
       "    }\n",
       "</style>\n",
       "<table border=\"1\" class=\"dataframe\">\n",
       "  <thead>\n",
       "    <tr style=\"text-align: right;\">\n",
       "      <th></th>\n",
       "      <th>Date</th>\n",
       "      <th>Open Price</th>\n",
       "      <th>Close Price</th>\n",
       "      <th>High Price</th>\n",
       "      <th>Low Price</th>\n",
       "      <th>Volume</th>\n",
       "      <th>growth</th>\n",
       "      <th>yesterday_Open Price</th>\n",
       "      <th>yesterday_Cloe Price</th>\n",
       "      <th>yesterday_High Price</th>\n",
       "      <th>yesterday_Low Price</th>\n",
       "      <th>yesterday_Volume Price</th>\n",
       "      <th>yes_yes_Open Price</th>\n",
       "      <th>yes_yes_Cloe Price</th>\n",
       "      <th>yes_yes_High Price</th>\n",
       "      <th>yes_yes_Low Price</th>\n",
       "      <th>yes_yes_Volume Price</th>\n",
       "    </tr>\n",
       "  </thead>\n",
       "  <tbody>\n",
       "    <tr>\n",
       "      <th>0</th>\n",
       "      <td>02-Jan-2009</td>\n",
       "      <td>902.99</td>\n",
       "      <td>931.80</td>\n",
       "      <td>934.73</td>\n",
       "      <td>899.35</td>\n",
       "      <td>4048270080</td>\n",
       "      <td>NaN</td>\n",
       "      <td>NaN</td>\n",
       "      <td>NaN</td>\n",
       "      <td>NaN</td>\n",
       "      <td>NaN</td>\n",
       "      <td>NaN</td>\n",
       "      <td>NaN</td>\n",
       "      <td>NaN</td>\n",
       "      <td>NaN</td>\n",
       "      <td>NaN</td>\n",
       "      <td>NaN</td>\n",
       "    </tr>\n",
       "    <tr>\n",
       "      <th>1</th>\n",
       "      <td>05-Jan-2009</td>\n",
       "      <td>929.17</td>\n",
       "      <td>927.45</td>\n",
       "      <td>936.63</td>\n",
       "      <td>919.53</td>\n",
       "      <td>5413910016</td>\n",
       "      <td>NaN</td>\n",
       "      <td>NaN</td>\n",
       "      <td>NaN</td>\n",
       "      <td>NaN</td>\n",
       "      <td>NaN</td>\n",
       "      <td>NaN</td>\n",
       "      <td>NaN</td>\n",
       "      <td>NaN</td>\n",
       "      <td>NaN</td>\n",
       "      <td>NaN</td>\n",
       "      <td>NaN</td>\n",
       "    </tr>\n",
       "    <tr>\n",
       "      <th>2</th>\n",
       "      <td>06-Jan-2009</td>\n",
       "      <td>931.17</td>\n",
       "      <td>934.70</td>\n",
       "      <td>943.85</td>\n",
       "      <td>927.28</td>\n",
       "      <td>5392620032</td>\n",
       "      <td>NaN</td>\n",
       "      <td>NaN</td>\n",
       "      <td>NaN</td>\n",
       "      <td>NaN</td>\n",
       "      <td>NaN</td>\n",
       "      <td>NaN</td>\n",
       "      <td>NaN</td>\n",
       "      <td>NaN</td>\n",
       "      <td>NaN</td>\n",
       "      <td>NaN</td>\n",
       "      <td>NaN</td>\n",
       "    </tr>\n",
       "    <tr>\n",
       "      <th>3</th>\n",
       "      <td>07-Jan-2009</td>\n",
       "      <td>927.45</td>\n",
       "      <td>906.65</td>\n",
       "      <td>927.45</td>\n",
       "      <td>902.37</td>\n",
       "      <td>4704940032</td>\n",
       "      <td>1.0</td>\n",
       "      <td>931.17</td>\n",
       "      <td>934.70</td>\n",
       "      <td>943.85</td>\n",
       "      <td>927.28</td>\n",
       "      <td>5.392620e+09</td>\n",
       "      <td>929.17</td>\n",
       "      <td>927.45</td>\n",
       "      <td>936.63</td>\n",
       "      <td>919.53</td>\n",
       "      <td>5.413910e+09</td>\n",
       "    </tr>\n",
       "    <tr>\n",
       "      <th>4</th>\n",
       "      <td>08-Jan-2009</td>\n",
       "      <td>905.73</td>\n",
       "      <td>909.73</td>\n",
       "      <td>910.00</td>\n",
       "      <td>896.81</td>\n",
       "      <td>4991549952</td>\n",
       "      <td>0.0</td>\n",
       "      <td>927.45</td>\n",
       "      <td>906.65</td>\n",
       "      <td>927.45</td>\n",
       "      <td>902.37</td>\n",
       "      <td>4.704940e+09</td>\n",
       "      <td>931.17</td>\n",
       "      <td>934.70</td>\n",
       "      <td>943.85</td>\n",
       "      <td>927.28</td>\n",
       "      <td>5.392620e+09</td>\n",
       "    </tr>\n",
       "  </tbody>\n",
       "</table>\n",
       "</div>"
      ],
      "text/plain": [
       "          Date  Open Price  Close Price  High Price  Low Price      Volume  \\\n",
       "0  02-Jan-2009      902.99       931.80      934.73     899.35  4048270080   \n",
       "1  05-Jan-2009      929.17       927.45      936.63     919.53  5413910016   \n",
       "2  06-Jan-2009      931.17       934.70      943.85     927.28  5392620032   \n",
       "3  07-Jan-2009      927.45       906.65      927.45     902.37  4704940032   \n",
       "4  08-Jan-2009      905.73       909.73      910.00     896.81  4991549952   \n",
       "\n",
       "   growth  yesterday_Open Price  yesterday_Cloe Price  yesterday_High Price  \\\n",
       "0     NaN                   NaN                   NaN                   NaN   \n",
       "1     NaN                   NaN                   NaN                   NaN   \n",
       "2     NaN                   NaN                   NaN                   NaN   \n",
       "3     1.0                931.17                934.70                943.85   \n",
       "4     0.0                927.45                906.65                927.45   \n",
       "\n",
       "   yesterday_Low Price  yesterday_Volume Price  yes_yes_Open Price  \\\n",
       "0                  NaN                     NaN                 NaN   \n",
       "1                  NaN                     NaN                 NaN   \n",
       "2                  NaN                     NaN                 NaN   \n",
       "3               927.28            5.392620e+09              929.17   \n",
       "4               902.37            4.704940e+09              931.17   \n",
       "\n",
       "   yes_yes_Cloe Price  yes_yes_High Price  yes_yes_Low Price  \\\n",
       "0                 NaN                 NaN                NaN   \n",
       "1                 NaN                 NaN                NaN   \n",
       "2                 NaN                 NaN                NaN   \n",
       "3              927.45              936.63             919.53   \n",
       "4              934.70              943.85             927.28   \n",
       "\n",
       "   yes_yes_Volume Price  \n",
       "0                   NaN  \n",
       "1                   NaN  \n",
       "2                   NaN  \n",
       "3          5.413910e+09  \n",
       "4          5.392620e+09  "
      ]
     },
     "execution_count": 191,
     "metadata": {},
     "output_type": "execute_result"
    }
   ],
   "source": [
    "data = NNRule(data)\n",
    "test_data = NNRule(test_data)\n",
    "\n",
    "X_train = data.loc[:, data.columns != 'growth']\n",
    "y_train = data['growth']\n",
    "X_test = test_data.loc[:, data.columns != 'growth']\n",
    "y_test = test_data['growth']\n",
    "data.head()"
   ]
  },
  {
   "cell_type": "markdown",
   "metadata": {},
   "source": [
    "### Drop the rows that are incomplete"
   ]
  },
  {
   "cell_type": "code",
   "execution_count": 196,
   "metadata": {},
   "outputs": [
    {
     "name": "stderr",
     "output_type": "stream",
     "text": [
      "/anaconda3/lib/python3.7/site-packages/pandas/core/frame.py:3697: SettingWithCopyWarning: \n",
      "A value is trying to be set on a copy of a slice from a DataFrame\n",
      "\n",
      "See the caveats in the documentation: http://pandas.pydata.org/pandas-docs/stable/indexing.html#indexing-view-versus-copy\n",
      "  errors=errors)\n"
     ]
    }
   ],
   "source": [
    "X_train.drop([0,1,2], axis= 0 , inplace= True)\n",
    "X_test.drop([0,1,2], axis= 0 , inplace= True)\n",
    "X_train.drop(labels='Date', axis=1, inplace = True)\n",
    "X_test.drop(labels='Date', axis=1, inplace = True)\n",
    "y_train.drop([0,1,2], axis= 0 , inplace= True)\n",
    "y_test.drop([0,1,2], axis= 0 , inplace= True)"
   ]
  },
  {
   "cell_type": "code",
   "execution_count": 197,
   "metadata": {},
   "outputs": [
    {
     "data": {
      "text/html": [
       "<div>\n",
       "<style scoped>\n",
       "    .dataframe tbody tr th:only-of-type {\n",
       "        vertical-align: middle;\n",
       "    }\n",
       "\n",
       "    .dataframe tbody tr th {\n",
       "        vertical-align: top;\n",
       "    }\n",
       "\n",
       "    .dataframe thead th {\n",
       "        text-align: right;\n",
       "    }\n",
       "</style>\n",
       "<table border=\"1\" class=\"dataframe\">\n",
       "  <thead>\n",
       "    <tr style=\"text-align: right;\">\n",
       "      <th></th>\n",
       "      <th>Open Price</th>\n",
       "      <th>Close Price</th>\n",
       "      <th>High Price</th>\n",
       "      <th>Low Price</th>\n",
       "      <th>Volume</th>\n",
       "      <th>yesterday_Open Price</th>\n",
       "      <th>yesterday_Cloe Price</th>\n",
       "      <th>yesterday_High Price</th>\n",
       "      <th>yesterday_Low Price</th>\n",
       "      <th>yesterday_Volume Price</th>\n",
       "      <th>yes_yes_Open Price</th>\n",
       "      <th>yes_yes_Cloe Price</th>\n",
       "      <th>yes_yes_High Price</th>\n",
       "      <th>yes_yes_Low Price</th>\n",
       "      <th>yes_yes_Volume Price</th>\n",
       "    </tr>\n",
       "  </thead>\n",
       "  <tbody>\n",
       "    <tr>\n",
       "      <th>3</th>\n",
       "      <td>2731.33</td>\n",
       "      <td>2743.15</td>\n",
       "      <td>2743.45</td>\n",
       "      <td>2727.92</td>\n",
       "      <td>1918869120</td>\n",
       "      <td>2719.31</td>\n",
       "      <td>2723.99</td>\n",
       "      <td>2729.29</td>\n",
       "      <td>2719.07</td>\n",
       "      <td>2.100768e+09</td>\n",
       "      <td>2697.85</td>\n",
       "      <td>2713.06</td>\n",
       "      <td>2714.37</td>\n",
       "      <td>2697.77</td>\n",
       "      <td>2.090595e+09</td>\n",
       "    </tr>\n",
       "    <tr>\n",
       "      <th>4</th>\n",
       "      <td>2742.67</td>\n",
       "      <td>2747.71</td>\n",
       "      <td>2748.51</td>\n",
       "      <td>2737.60</td>\n",
       "      <td>1894823936</td>\n",
       "      <td>2731.33</td>\n",
       "      <td>2743.15</td>\n",
       "      <td>2743.45</td>\n",
       "      <td>2727.92</td>\n",
       "      <td>1.918869e+09</td>\n",
       "      <td>2719.31</td>\n",
       "      <td>2723.99</td>\n",
       "      <td>2729.29</td>\n",
       "      <td>2719.07</td>\n",
       "      <td>2.100768e+09</td>\n",
       "    </tr>\n",
       "    <tr>\n",
       "      <th>5</th>\n",
       "      <td>2751.15</td>\n",
       "      <td>2751.29</td>\n",
       "      <td>2759.14</td>\n",
       "      <td>2747.86</td>\n",
       "      <td>1957263872</td>\n",
       "      <td>2742.67</td>\n",
       "      <td>2747.71</td>\n",
       "      <td>2748.51</td>\n",
       "      <td>2737.60</td>\n",
       "      <td>1.894824e+09</td>\n",
       "      <td>2731.33</td>\n",
       "      <td>2743.15</td>\n",
       "      <td>2743.45</td>\n",
       "      <td>2727.92</td>\n",
       "      <td>1.918869e+09</td>\n",
       "    </tr>\n",
       "    <tr>\n",
       "      <th>6</th>\n",
       "      <td>2745.55</td>\n",
       "      <td>2748.23</td>\n",
       "      <td>2750.80</td>\n",
       "      <td>2736.06</td>\n",
       "      <td>2048867328</td>\n",
       "      <td>2751.15</td>\n",
       "      <td>2751.29</td>\n",
       "      <td>2759.14</td>\n",
       "      <td>2747.86</td>\n",
       "      <td>1.957264e+09</td>\n",
       "      <td>2742.67</td>\n",
       "      <td>2747.71</td>\n",
       "      <td>2748.51</td>\n",
       "      <td>2737.60</td>\n",
       "      <td>1.894824e+09</td>\n",
       "    </tr>\n",
       "    <tr>\n",
       "      <th>7</th>\n",
       "      <td>2752.97</td>\n",
       "      <td>2767.56</td>\n",
       "      <td>2767.56</td>\n",
       "      <td>2752.78</td>\n",
       "      <td>1978592384</td>\n",
       "      <td>2745.55</td>\n",
       "      <td>2748.23</td>\n",
       "      <td>2750.80</td>\n",
       "      <td>2736.06</td>\n",
       "      <td>2.048867e+09</td>\n",
       "      <td>2751.15</td>\n",
       "      <td>2751.29</td>\n",
       "      <td>2759.14</td>\n",
       "      <td>2747.86</td>\n",
       "      <td>1.957264e+09</td>\n",
       "    </tr>\n",
       "  </tbody>\n",
       "</table>\n",
       "</div>"
      ],
      "text/plain": [
       "   Open Price  Close Price  High Price  Low Price      Volume  \\\n",
       "3     2731.33      2743.15     2743.45    2727.92  1918869120   \n",
       "4     2742.67      2747.71     2748.51    2737.60  1894823936   \n",
       "5     2751.15      2751.29     2759.14    2747.86  1957263872   \n",
       "6     2745.55      2748.23     2750.80    2736.06  2048867328   \n",
       "7     2752.97      2767.56     2767.56    2752.78  1978592384   \n",
       "\n",
       "   yesterday_Open Price  yesterday_Cloe Price  yesterday_High Price  \\\n",
       "3               2719.31               2723.99               2729.29   \n",
       "4               2731.33               2743.15               2743.45   \n",
       "5               2742.67               2747.71               2748.51   \n",
       "6               2751.15               2751.29               2759.14   \n",
       "7               2745.55               2748.23               2750.80   \n",
       "\n",
       "   yesterday_Low Price  yesterday_Volume Price  yes_yes_Open Price  \\\n",
       "3              2719.07            2.100768e+09             2697.85   \n",
       "4              2727.92            1.918869e+09             2719.31   \n",
       "5              2737.60            1.894824e+09             2731.33   \n",
       "6              2747.86            1.957264e+09             2742.67   \n",
       "7              2736.06            2.048867e+09             2751.15   \n",
       "\n",
       "   yes_yes_Cloe Price  yes_yes_High Price  yes_yes_Low Price  \\\n",
       "3             2713.06             2714.37            2697.77   \n",
       "4             2723.99             2729.29            2719.07   \n",
       "5             2743.15             2743.45            2727.92   \n",
       "6             2747.71             2748.51            2737.60   \n",
       "7             2751.29             2759.14            2747.86   \n",
       "\n",
       "   yes_yes_Volume Price  \n",
       "3          2.090595e+09  \n",
       "4          2.100768e+09  \n",
       "5          1.918869e+09  \n",
       "6          1.894824e+09  \n",
       "7          1.957264e+09  "
      ]
     },
     "execution_count": 197,
     "metadata": {},
     "output_type": "execute_result"
    }
   ],
   "source": [
    "X_test.head()"
   ]
  },
  {
   "cell_type": "markdown",
   "metadata": {},
   "source": [
    "## Feature Scaling"
   ]
  },
  {
   "cell_type": "code",
   "execution_count": 198,
   "metadata": {},
   "outputs": [
    {
     "name": "stderr",
     "output_type": "stream",
     "text": [
      "/anaconda3/lib/python3.7/site-packages/sklearn/preprocessing/data.py:625: DataConversionWarning: Data with input dtype int64, float64 were all converted to float64 by StandardScaler.\n",
      "  return self.partial_fit(X, y)\n",
      "/anaconda3/lib/python3.7/site-packages/sklearn/base.py:462: DataConversionWarning: Data with input dtype int64, float64 were all converted to float64 by StandardScaler.\n",
      "  return self.fit(X, **fit_params).transform(X)\n",
      "/anaconda3/lib/python3.7/site-packages/ipykernel_launcher.py:5: DataConversionWarning: Data with input dtype int64, float64 were all converted to float64 by StandardScaler.\n",
      "  \"\"\"\n"
     ]
    }
   ],
   "source": [
    "from sklearn.preprocessing import StandardScaler\n",
    "sc = StandardScaler()\n",
    "\n",
    "X_train = sc.fit_transform(X_train)\n",
    "X_test = sc.transform(X_test)"
   ]
  },
  {
   "cell_type": "markdown",
   "metadata": {},
   "source": [
    "### Import Keras"
   ]
  },
  {
   "cell_type": "code",
   "execution_count": 199,
   "metadata": {},
   "outputs": [],
   "source": [
    "from tensorflow.keras.models import Sequential\n",
    "from tensorflow.keras.layers import Dense"
   ]
  },
  {
   "cell_type": "markdown",
   "metadata": {},
   "source": [
    "### Initialising the ANN"
   ]
  },
  {
   "cell_type": "code",
   "execution_count": 200,
   "metadata": {},
   "outputs": [],
   "source": [
    "classifier = Sequential()"
   ]
  },
  {
   "cell_type": "markdown",
   "metadata": {},
   "source": [
    "### Adding the input layer and the first hidden layer"
   ]
  },
  {
   "cell_type": "code",
   "execution_count": 201,
   "metadata": {},
   "outputs": [],
   "source": [
    "hidden_units = 20    # how many neurons in the hidden layer\n",
    "activation = 'relu'  # activation function for hidden layer\n",
    "l2 = 0.001           # regularization - how much we penalize large parameter values\n",
    "learning_rate = 0.1  # how big our steps are in gradient descent\n",
    "epochs = 400          # how many epochs to train for\n",
    "batch_size = 32      # how many samples to use for each gradient descent update"
   ]
  },
  {
   "cell_type": "code",
   "execution_count": 202,
   "metadata": {},
   "outputs": [],
   "source": [
    "classifier.add(Dense(activation = activation, input_dim =15, units = hidden_units ))\n",
    "\n",
    "classifier.add(Dense(input_dim = hidden_units, units = hidden_units, activation = activation))\n",
    "\n",
    "classifier.add(Dense(input_dim = hidden_units, units = hidden_units, activation = activation))\n",
    "\n",
    "classifier.add(Dense(input_dim = hidden_units, units =1, activation = 'sigmoid'))\n",
    "\n",
    "classifier.compile(loss='binary_crossentropy',\n",
    "              # Adam is a kind of gradient descent\n",
    "              optimizer= 'adam',\n",
    "              metrics=['accuracy'])"
   ]
  },
  {
   "cell_type": "code",
   "execution_count": 203,
   "metadata": {},
   "outputs": [
    {
     "name": "stdout",
     "output_type": "stream",
     "text": [
      "Epoch 1/400\n",
      "2262/2262 [==============================] - 0s 108us/sample - loss: 0.6957 - accuracy: 0.5137\n",
      "Epoch 2/400\n",
      "2262/2262 [==============================] - 0s 40us/sample - loss: 0.6896 - accuracy: 0.5402\n",
      "Epoch 3/400\n",
      "2262/2262 [==============================] - 0s 37us/sample - loss: 0.6878 - accuracy: 0.5464\n",
      "Epoch 4/400\n",
      "2262/2262 [==============================] - 0s 35us/sample - loss: 0.6868 - accuracy: 0.5623\n",
      "Epoch 5/400\n",
      "2262/2262 [==============================] - 0s 35us/sample - loss: 0.6835 - accuracy: 0.5685\n",
      "Epoch 6/400\n",
      "2262/2262 [==============================] - 0s 34us/sample - loss: 0.6821 - accuracy: 0.5685\n",
      "Epoch 7/400\n",
      "2262/2262 [==============================] - 0s 34us/sample - loss: 0.6790 - accuracy: 0.5752\n",
      "Epoch 8/400\n",
      "2262/2262 [==============================] - 0s 34us/sample - loss: 0.6768 - accuracy: 0.5906\n",
      "Epoch 9/400\n",
      "2262/2262 [==============================] - 0s 36us/sample - loss: 0.6760 - accuracy: 0.5849\n",
      "Epoch 10/400\n",
      "2262/2262 [==============================] - 0s 34us/sample - loss: 0.6722 - accuracy: 0.5942\n",
      "Epoch 11/400\n",
      "2262/2262 [==============================] - 0s 34us/sample - loss: 0.6709 - accuracy: 0.5818\n",
      "Epoch 12/400\n",
      "2262/2262 [==============================] - 0s 35us/sample - loss: 0.6619 - accuracy: 0.6180\n",
      "Epoch 13/400\n",
      "2262/2262 [==============================] - 0s 35us/sample - loss: 0.6585 - accuracy: 0.6079\n",
      "Epoch 14/400\n",
      "2262/2262 [==============================] - 0s 36us/sample - loss: 0.6547 - accuracy: 0.6105\n",
      "Epoch 15/400\n",
      "2262/2262 [==============================] - 0s 36us/sample - loss: 0.6480 - accuracy: 0.6300\n",
      "Epoch 16/400\n",
      "2262/2262 [==============================] - 0s 36us/sample - loss: 0.6424 - accuracy: 0.6428\n",
      "Epoch 17/400\n",
      "2262/2262 [==============================] - 0s 35us/sample - loss: 0.6352 - accuracy: 0.6468\n",
      "Epoch 18/400\n",
      "2262/2262 [==============================] - 0s 36us/sample - loss: 0.6195 - accuracy: 0.6653\n",
      "Epoch 19/400\n",
      "2262/2262 [==============================] - 0s 35us/sample - loss: 0.6163 - accuracy: 0.6645\n",
      "Epoch 20/400\n",
      "2262/2262 [==============================] - 0s 36us/sample - loss: 0.5877 - accuracy: 0.6954\n",
      "Epoch 21/400\n",
      "2262/2262 [==============================] - 0s 35us/sample - loss: 0.5736 - accuracy: 0.7131\n",
      "Epoch 22/400\n",
      "2262/2262 [==============================] - 0s 35us/sample - loss: 0.5540 - accuracy: 0.7144\n",
      "Epoch 23/400\n",
      "2262/2262 [==============================] - 0s 35us/sample - loss: 0.5398 - accuracy: 0.7365\n",
      "Epoch 24/400\n",
      "2262/2262 [==============================] - 0s 36us/sample - loss: 0.5364 - accuracy: 0.7286\n",
      "Epoch 25/400\n",
      "2262/2262 [==============================] - 0s 36us/sample - loss: 0.5165 - accuracy: 0.7471\n",
      "Epoch 26/400\n",
      "2262/2262 [==============================] - 0s 37us/sample - loss: 0.4982 - accuracy: 0.7630\n",
      "Epoch 27/400\n",
      "2262/2262 [==============================] - 0s 36us/sample - loss: 0.4836 - accuracy: 0.7661\n",
      "Epoch 28/400\n",
      "2262/2262 [==============================] - 0s 35us/sample - loss: 0.4804 - accuracy: 0.7644\n",
      "Epoch 29/400\n",
      "2262/2262 [==============================] - 0s 37us/sample - loss: 0.4827 - accuracy: 0.7573\n",
      "Epoch 30/400\n",
      "2262/2262 [==============================] - 0s 36us/sample - loss: 0.4670 - accuracy: 0.7745\n",
      "Epoch 31/400\n",
      "2262/2262 [==============================] - 0s 36us/sample - loss: 0.4627 - accuracy: 0.7798\n",
      "Epoch 32/400\n",
      "2262/2262 [==============================] - 0s 36us/sample - loss: 0.4515 - accuracy: 0.7896\n",
      "Epoch 33/400\n",
      "2262/2262 [==============================] - 0s 35us/sample - loss: 0.4482 - accuracy: 0.7922\n",
      "Epoch 34/400\n",
      "2262/2262 [==============================] - 0s 37us/sample - loss: 0.4544 - accuracy: 0.7767\n",
      "Epoch 35/400\n",
      "2262/2262 [==============================] - 0s 35us/sample - loss: 0.4358 - accuracy: 0.7878\n",
      "Epoch 36/400\n",
      "2262/2262 [==============================] - 0s 34us/sample - loss: 0.4250 - accuracy: 0.7971\n",
      "Epoch 37/400\n",
      "2262/2262 [==============================] - 0s 36us/sample - loss: 0.4328 - accuracy: 0.7953\n",
      "Epoch 38/400\n",
      "2262/2262 [==============================] - 0s 34us/sample - loss: 0.4371 - accuracy: 0.7851\n",
      "Epoch 39/400\n",
      "2262/2262 [==============================] - 0s 36us/sample - loss: 0.4437 - accuracy: 0.7878\n",
      "Epoch 40/400\n",
      "2262/2262 [==============================] - 0s 35us/sample - loss: 0.4282 - accuracy: 0.7953\n",
      "Epoch 41/400\n",
      "2262/2262 [==============================] - 0s 34us/sample - loss: 0.4168 - accuracy: 0.8046\n",
      "Epoch 42/400\n",
      "2262/2262 [==============================] - 0s 34us/sample - loss: 0.4067 - accuracy: 0.8011\n",
      "Epoch 43/400\n",
      "2262/2262 [==============================] - 0s 36us/sample - loss: 0.4446 - accuracy: 0.7772\n",
      "Epoch 44/400\n",
      "2262/2262 [==============================] - 0s 34us/sample - loss: 0.4322 - accuracy: 0.7896\n",
      "Epoch 45/400\n",
      "2262/2262 [==============================] - 0s 36us/sample - loss: 0.4298 - accuracy: 0.7865\n",
      "Epoch 46/400\n",
      "2262/2262 [==============================] - 0s 37us/sample - loss: 0.4132 - accuracy: 0.7953\n",
      "Epoch 47/400\n",
      "2262/2262 [==============================] - 0s 34us/sample - loss: 0.4096 - accuracy: 0.8028\n",
      "Epoch 48/400\n",
      "2262/2262 [==============================] - 0s 36us/sample - loss: 0.4015 - accuracy: 0.8174\n",
      "Epoch 49/400\n",
      "2262/2262 [==============================] - 0s 36us/sample - loss: 0.4082 - accuracy: 0.8103\n",
      "Epoch 50/400\n",
      "2262/2262 [==============================] - 0s 37us/sample - loss: 0.3963 - accuracy: 0.8134\n",
      "Epoch 51/400\n",
      "2262/2262 [==============================] - 0s 35us/sample - loss: 0.3952 - accuracy: 0.8187\n",
      "Epoch 52/400\n",
      "2262/2262 [==============================] - 0s 36us/sample - loss: 0.4038 - accuracy: 0.8112\n",
      "Epoch 53/400\n",
      "2262/2262 [==============================] - 0s 36us/sample - loss: 0.3853 - accuracy: 0.8179\n",
      "Epoch 54/400\n",
      "2262/2262 [==============================] - 0s 35us/sample - loss: 0.3980 - accuracy: 0.8050\n",
      "Epoch 55/400\n",
      "2262/2262 [==============================] - 0s 35us/sample - loss: 0.4125 - accuracy: 0.8046\n",
      "Epoch 56/400\n",
      "2262/2262 [==============================] - 0s 35us/sample - loss: 0.3973 - accuracy: 0.8081\n",
      "Epoch 57/400\n",
      "2262/2262 [==============================] - 0s 34us/sample - loss: 0.3836 - accuracy: 0.8192\n",
      "Epoch 58/400\n",
      "2262/2262 [==============================] - 0s 34us/sample - loss: 0.4094 - accuracy: 0.8126\n",
      "Epoch 59/400\n",
      "2262/2262 [==============================] - 0s 34us/sample - loss: 0.3848 - accuracy: 0.8086\n",
      "Epoch 60/400\n",
      "2262/2262 [==============================] - 0s 34us/sample - loss: 0.3747 - accuracy: 0.8276\n",
      "Epoch 61/400\n",
      "2262/2262 [==============================] - 0s 35us/sample - loss: 0.3785 - accuracy: 0.8245\n",
      "Epoch 62/400\n",
      "2262/2262 [==============================] - 0s 35us/sample - loss: 0.3721 - accuracy: 0.8227\n",
      "Epoch 63/400\n",
      "2262/2262 [==============================] - 0s 35us/sample - loss: 0.3739 - accuracy: 0.8320\n",
      "Epoch 64/400\n",
      "2262/2262 [==============================] - 0s 34us/sample - loss: 0.3769 - accuracy: 0.8174\n",
      "Epoch 65/400\n",
      "2262/2262 [==============================] - 0s 34us/sample - loss: 0.3858 - accuracy: 0.8170\n",
      "Epoch 66/400\n",
      "2262/2262 [==============================] - 0s 35us/sample - loss: 0.3743 - accuracy: 0.8183\n",
      "Epoch 67/400\n",
      "2262/2262 [==============================] - 0s 34us/sample - loss: 0.3643 - accuracy: 0.8254\n",
      "Epoch 68/400\n",
      "2262/2262 [==============================] - 0s 34us/sample - loss: 0.3665 - accuracy: 0.8347\n",
      "Epoch 69/400\n",
      "2262/2262 [==============================] - 0s 34us/sample - loss: 0.3677 - accuracy: 0.8324\n",
      "Epoch 70/400\n",
      "2262/2262 [==============================] - 0s 34us/sample - loss: 0.3725 - accuracy: 0.8232\n",
      "Epoch 71/400\n",
      "2262/2262 [==============================] - 0s 35us/sample - loss: 0.3701 - accuracy: 0.8183\n",
      "Epoch 72/400\n",
      "2262/2262 [==============================] - 0s 35us/sample - loss: 0.3786 - accuracy: 0.8139\n",
      "Epoch 73/400\n",
      "2262/2262 [==============================] - 0s 35us/sample - loss: 0.3587 - accuracy: 0.8285\n",
      "Epoch 74/400\n",
      "2262/2262 [==============================] - 0s 36us/sample - loss: 0.3578 - accuracy: 0.8320\n",
      "Epoch 75/400\n",
      "2262/2262 [==============================] - 0s 37us/sample - loss: 0.3686 - accuracy: 0.8205\n",
      "Epoch 76/400\n",
      "2262/2262 [==============================] - 0s 36us/sample - loss: 0.3477 - accuracy: 0.8311\n",
      "Epoch 77/400\n",
      "2262/2262 [==============================] - 0s 36us/sample - loss: 0.3530 - accuracy: 0.8382\n",
      "Epoch 78/400\n",
      "2262/2262 [==============================] - 0s 35us/sample - loss: 0.3608 - accuracy: 0.8302\n",
      "Epoch 79/400\n",
      "2262/2262 [==============================] - 0s 34us/sample - loss: 0.3445 - accuracy: 0.8417\n",
      "Epoch 80/400\n",
      "2262/2262 [==============================] - 0s 34us/sample - loss: 0.3392 - accuracy: 0.8439\n",
      "Epoch 81/400\n",
      "2262/2262 [==============================] - 0s 36us/sample - loss: 0.3514 - accuracy: 0.8351\n",
      "Epoch 82/400\n",
      "2262/2262 [==============================] - 0s 41us/sample - loss: 0.3489 - accuracy: 0.8338\n",
      "Epoch 83/400\n",
      "2262/2262 [==============================] - 0s 45us/sample - loss: 0.3589 - accuracy: 0.8298\n",
      "Epoch 84/400\n",
      "2262/2262 [==============================] - 0s 40us/sample - loss: 0.3496 - accuracy: 0.8413\n",
      "Epoch 85/400\n",
      "2262/2262 [==============================] - 0s 41us/sample - loss: 0.3494 - accuracy: 0.8364\n",
      "Epoch 86/400\n",
      "2262/2262 [==============================] - 0s 41us/sample - loss: 0.3330 - accuracy: 0.8435\n",
      "Epoch 87/400\n",
      "2262/2262 [==============================] - 0s 37us/sample - loss: 0.3479 - accuracy: 0.8378\n",
      "Epoch 88/400\n",
      "2262/2262 [==============================] - 0s 37us/sample - loss: 0.3324 - accuracy: 0.8417\n",
      "Epoch 89/400\n",
      "2262/2262 [==============================] - 0s 34us/sample - loss: 0.3446 - accuracy: 0.8285\n",
      "Epoch 90/400\n",
      "2262/2262 [==============================] - 0s 34us/sample - loss: 0.3348 - accuracy: 0.8444\n",
      "Epoch 91/400\n",
      "2262/2262 [==============================] - 0s 34us/sample - loss: 0.3570 - accuracy: 0.8294\n",
      "Epoch 92/400\n",
      "2262/2262 [==============================] - 0s 34us/sample - loss: 0.3343 - accuracy: 0.8453\n",
      "Epoch 93/400\n",
      "2262/2262 [==============================] - 0s 34us/sample - loss: 0.3376 - accuracy: 0.8413\n",
      "Epoch 94/400\n",
      "2262/2262 [==============================] - 0s 35us/sample - loss: 0.3503 - accuracy: 0.8342\n",
      "Epoch 95/400\n",
      "2262/2262 [==============================] - 0s 36us/sample - loss: 0.3358 - accuracy: 0.8400\n",
      "Epoch 96/400\n",
      "2262/2262 [==============================] - 0s 36us/sample - loss: 0.3495 - accuracy: 0.8338\n",
      "Epoch 97/400\n",
      "2262/2262 [==============================] - 0s 38us/sample - loss: 0.3379 - accuracy: 0.8417\n",
      "Epoch 98/400\n",
      "2262/2262 [==============================] - 0s 36us/sample - loss: 0.3284 - accuracy: 0.8506\n",
      "Epoch 99/400\n",
      "2262/2262 [==============================] - 0s 35us/sample - loss: 0.3474 - accuracy: 0.8391\n",
      "Epoch 100/400\n",
      "2262/2262 [==============================] - 0s 35us/sample - loss: 0.3308 - accuracy: 0.8475\n",
      "Epoch 101/400\n",
      "2262/2262 [==============================] - 0s 36us/sample - loss: 0.3252 - accuracy: 0.8528\n",
      "Epoch 102/400\n",
      "2262/2262 [==============================] - 0s 36us/sample - loss: 0.3132 - accuracy: 0.8563\n",
      "Epoch 103/400\n",
      "2262/2262 [==============================] - 0s 35us/sample - loss: 0.3264 - accuracy: 0.8479\n",
      "Epoch 104/400\n",
      "2262/2262 [==============================] - 0s 38us/sample - loss: 0.3197 - accuracy: 0.8510\n",
      "Epoch 105/400\n",
      "2262/2262 [==============================] - 0s 37us/sample - loss: 0.3106 - accuracy: 0.8563\n",
      "Epoch 106/400\n",
      "2262/2262 [==============================] - 0s 38us/sample - loss: 0.3168 - accuracy: 0.8559\n",
      "Epoch 107/400\n",
      "2262/2262 [==============================] - 0s 40us/sample - loss: 0.3167 - accuracy: 0.8479\n",
      "Epoch 108/400\n",
      "2262/2262 [==============================] - 0s 38us/sample - loss: 0.3365 - accuracy: 0.8329\n",
      "Epoch 109/400\n",
      "2262/2262 [==============================] - 0s 36us/sample - loss: 0.3129 - accuracy: 0.8572\n",
      "Epoch 110/400\n",
      "2262/2262 [==============================] - 0s 36us/sample - loss: 0.3193 - accuracy: 0.8492\n",
      "Epoch 111/400\n",
      "2262/2262 [==============================] - 0s 35us/sample - loss: 0.3537 - accuracy: 0.8316\n",
      "Epoch 112/400\n",
      "2262/2262 [==============================] - 0s 35us/sample - loss: 0.3138 - accuracy: 0.8554\n",
      "Epoch 113/400\n",
      "2262/2262 [==============================] - 0s 36us/sample - loss: 0.3092 - accuracy: 0.8537\n",
      "Epoch 114/400\n",
      "2262/2262 [==============================] - 0s 35us/sample - loss: 0.3216 - accuracy: 0.8563\n",
      "Epoch 115/400\n",
      "2262/2262 [==============================] - 0s 35us/sample - loss: 0.3255 - accuracy: 0.8479\n",
      "Epoch 116/400\n",
      "2262/2262 [==============================] - 0s 35us/sample - loss: 0.3002 - accuracy: 0.8612\n",
      "Epoch 117/400\n",
      "2262/2262 [==============================] - 0s 36us/sample - loss: 0.3127 - accuracy: 0.8546\n",
      "Epoch 118/400\n",
      "2262/2262 [==============================] - 0s 36us/sample - loss: 0.3044 - accuracy: 0.8643\n",
      "Epoch 119/400\n",
      "2262/2262 [==============================] - 0s 37us/sample - loss: 0.2951 - accuracy: 0.8647\n",
      "Epoch 120/400\n",
      "2262/2262 [==============================] - 0s 35us/sample - loss: 0.3294 - accuracy: 0.8475\n",
      "Epoch 121/400\n",
      "2262/2262 [==============================] - 0s 35us/sample - loss: 0.2943 - accuracy: 0.8652\n",
      "Epoch 122/400\n",
      "2262/2262 [==============================] - 0s 35us/sample - loss: 0.2979 - accuracy: 0.8634\n",
      "Epoch 123/400\n",
      "2262/2262 [==============================] - 0s 35us/sample - loss: 0.3105 - accuracy: 0.8537\n",
      "Epoch 124/400\n",
      "2262/2262 [==============================] - 0s 35us/sample - loss: 0.3045 - accuracy: 0.8594\n",
      "Epoch 125/400\n",
      "2262/2262 [==============================] - 0s 34us/sample - loss: 0.2941 - accuracy: 0.8603\n",
      "Epoch 126/400\n",
      "2262/2262 [==============================] - 0s 35us/sample - loss: 0.2987 - accuracy: 0.8638\n",
      "Epoch 127/400\n",
      "2262/2262 [==============================] - 0s 34us/sample - loss: 0.2969 - accuracy: 0.8634\n",
      "Epoch 128/400\n",
      "2262/2262 [==============================] - 0s 35us/sample - loss: 0.3088 - accuracy: 0.8541\n",
      "Epoch 129/400\n",
      "2262/2262 [==============================] - 0s 34us/sample - loss: 0.2785 - accuracy: 0.8687\n",
      "Epoch 130/400\n",
      "2262/2262 [==============================] - 0s 35us/sample - loss: 0.3175 - accuracy: 0.8488\n",
      "Epoch 131/400\n",
      "2262/2262 [==============================] - 0s 34us/sample - loss: 0.3096 - accuracy: 0.8581\n",
      "Epoch 132/400\n",
      "2262/2262 [==============================] - 0s 35us/sample - loss: 0.2900 - accuracy: 0.8691\n",
      "Epoch 133/400\n",
      "2262/2262 [==============================] - 0s 34us/sample - loss: 0.2861 - accuracy: 0.8638\n",
      "Epoch 134/400\n",
      "2262/2262 [==============================] - 0s 35us/sample - loss: 0.2955 - accuracy: 0.8607\n",
      "Epoch 135/400\n",
      "2262/2262 [==============================] - 0s 35us/sample - loss: 0.2923 - accuracy: 0.8714\n",
      "Epoch 136/400\n",
      "2262/2262 [==============================] - 0s 35us/sample - loss: 0.2929 - accuracy: 0.8674\n",
      "Epoch 137/400\n",
      "2262/2262 [==============================] - 0s 35us/sample - loss: 0.3137 - accuracy: 0.8585\n",
      "Epoch 138/400\n",
      "2262/2262 [==============================] - 0s 35us/sample - loss: 0.2862 - accuracy: 0.8700\n",
      "Epoch 139/400\n",
      "2262/2262 [==============================] - 0s 35us/sample - loss: 0.2705 - accuracy: 0.8758\n",
      "Epoch 140/400\n",
      "2262/2262 [==============================] - 0s 35us/sample - loss: 0.2824 - accuracy: 0.8687\n",
      "Epoch 141/400\n",
      "2262/2262 [==============================] - 0s 35us/sample - loss: 0.2761 - accuracy: 0.8727\n",
      "Epoch 142/400\n",
      "2262/2262 [==============================] - 0s 35us/sample - loss: 0.2793 - accuracy: 0.8687\n",
      "Epoch 143/400\n",
      "2262/2262 [==============================] - 0s 35us/sample - loss: 0.2985 - accuracy: 0.8652\n",
      "Epoch 144/400\n",
      "2262/2262 [==============================] - 0s 35us/sample - loss: 0.2635 - accuracy: 0.8859\n",
      "Epoch 145/400\n",
      "2262/2262 [==============================] - 0s 36us/sample - loss: 0.2683 - accuracy: 0.8736\n",
      "Epoch 146/400\n",
      "2262/2262 [==============================] - 0s 35us/sample - loss: 0.2669 - accuracy: 0.8793\n",
      "Epoch 147/400\n",
      "2262/2262 [==============================] - 0s 35us/sample - loss: 0.2655 - accuracy: 0.8820\n",
      "Epoch 148/400\n",
      "2262/2262 [==============================] - 0s 35us/sample - loss: 0.2596 - accuracy: 0.8798\n",
      "Epoch 149/400\n",
      "2262/2262 [==============================] - 0s 35us/sample - loss: 0.2811 - accuracy: 0.8753\n",
      "Epoch 150/400\n",
      "2262/2262 [==============================] - 0s 35us/sample - loss: 0.2741 - accuracy: 0.8722\n",
      "Epoch 151/400\n",
      "2262/2262 [==============================] - 0s 35us/sample - loss: 0.2861 - accuracy: 0.8638\n",
      "Epoch 152/400\n",
      "2262/2262 [==============================] - 0s 35us/sample - loss: 0.2829 - accuracy: 0.8691\n",
      "Epoch 153/400\n"
     ]
    },
    {
     "name": "stdout",
     "output_type": "stream",
     "text": [
      "2262/2262 [==============================] - 0s 35us/sample - loss: 0.2737 - accuracy: 0.8758\n",
      "Epoch 154/400\n",
      "2262/2262 [==============================] - 0s 34us/sample - loss: 0.2587 - accuracy: 0.8890\n",
      "Epoch 155/400\n",
      "2262/2262 [==============================] - 0s 34us/sample - loss: 0.2794 - accuracy: 0.8753\n",
      "Epoch 156/400\n",
      "2262/2262 [==============================] - 0s 34us/sample - loss: 0.2717 - accuracy: 0.8691\n",
      "Epoch 157/400\n",
      "2262/2262 [==============================] - 0s 34us/sample - loss: 0.2539 - accuracy: 0.8868\n",
      "Epoch 158/400\n",
      "2262/2262 [==============================] - 0s 34us/sample - loss: 0.2543 - accuracy: 0.8811\n",
      "Epoch 159/400\n",
      "2262/2262 [==============================] - 0s 35us/sample - loss: 0.2631 - accuracy: 0.8806\n",
      "Epoch 160/400\n",
      "2262/2262 [==============================] - 0s 37us/sample - loss: 0.2662 - accuracy: 0.8771\n",
      "Epoch 161/400\n",
      "2262/2262 [==============================] - 0s 36us/sample - loss: 0.2645 - accuracy: 0.8789\n",
      "Epoch 162/400\n",
      "2262/2262 [==============================] - 0s 37us/sample - loss: 0.2684 - accuracy: 0.8714\n",
      "Epoch 163/400\n",
      "2262/2262 [==============================] - 0s 36us/sample - loss: 0.2659 - accuracy: 0.8767\n",
      "Epoch 164/400\n",
      "2262/2262 [==============================] - 0s 35us/sample - loss: 0.2695 - accuracy: 0.8784\n",
      "Epoch 165/400\n",
      "2262/2262 [==============================] - 0s 35us/sample - loss: 0.2660 - accuracy: 0.8806\n",
      "Epoch 166/400\n",
      "2262/2262 [==============================] - 0s 34us/sample - loss: 0.2650 - accuracy: 0.8789\n",
      "Epoch 167/400\n",
      "2262/2262 [==============================] - 0s 34us/sample - loss: 0.2821 - accuracy: 0.8647\n",
      "Epoch 168/400\n",
      "2262/2262 [==============================] - 0s 34us/sample - loss: 0.2763 - accuracy: 0.8762\n",
      "Epoch 169/400\n",
      "2262/2262 [==============================] - 0s 34us/sample - loss: 0.2481 - accuracy: 0.8873\n",
      "Epoch 170/400\n",
      "2262/2262 [==============================] - 0s 35us/sample - loss: 0.2605 - accuracy: 0.8758\n",
      "Epoch 171/400\n",
      "2262/2262 [==============================] - 0s 35us/sample - loss: 0.2530 - accuracy: 0.8811\n",
      "Epoch 172/400\n",
      "2262/2262 [==============================] - 0s 35us/sample - loss: 0.2478 - accuracy: 0.8851\n",
      "Epoch 173/400\n",
      "2262/2262 [==============================] - 0s 35us/sample - loss: 0.2420 - accuracy: 0.8917\n",
      "Epoch 174/400\n",
      "2262/2262 [==============================] - 0s 34us/sample - loss: 0.2571 - accuracy: 0.8859\n",
      "Epoch 175/400\n",
      "2262/2262 [==============================] - 0s 35us/sample - loss: 0.2547 - accuracy: 0.8828\n",
      "Epoch 176/400\n",
      "2262/2262 [==============================] - 0s 34us/sample - loss: 0.2913 - accuracy: 0.8683\n",
      "Epoch 177/400\n",
      "2262/2262 [==============================] - 0s 35us/sample - loss: 0.2762 - accuracy: 0.8705\n",
      "Epoch 178/400\n",
      "2262/2262 [==============================] - 0s 35us/sample - loss: 0.2371 - accuracy: 0.8935\n",
      "Epoch 179/400\n",
      "2262/2262 [==============================] - 0s 35us/sample - loss: 0.2461 - accuracy: 0.8904\n",
      "Epoch 180/400\n",
      "2262/2262 [==============================] - 0s 35us/sample - loss: 0.2626 - accuracy: 0.8771\n",
      "Epoch 181/400\n",
      "2262/2262 [==============================] - 0s 36us/sample - loss: 0.2608 - accuracy: 0.8820\n",
      "Epoch 182/400\n",
      "2262/2262 [==============================] - 0s 37us/sample - loss: 0.2517 - accuracy: 0.8775\n",
      "Epoch 183/400\n",
      "2262/2262 [==============================] - 0s 39us/sample - loss: 0.2488 - accuracy: 0.8868\n",
      "Epoch 184/400\n",
      "2262/2262 [==============================] - 0s 37us/sample - loss: 0.2412 - accuracy: 0.8926\n",
      "Epoch 185/400\n",
      "2262/2262 [==============================] - 0s 35us/sample - loss: 0.2762 - accuracy: 0.8736\n",
      "Epoch 186/400\n",
      "2262/2262 [==============================] - 0s 36us/sample - loss: 0.2693 - accuracy: 0.8669\n",
      "Epoch 187/400\n",
      "2262/2262 [==============================] - 0s 37us/sample - loss: 0.2784 - accuracy: 0.8669\n",
      "Epoch 188/400\n",
      "2262/2262 [==============================] - 0s 37us/sample - loss: 0.2575 - accuracy: 0.8837\n",
      "Epoch 189/400\n",
      "2262/2262 [==============================] - 0s 37us/sample - loss: 0.2485 - accuracy: 0.8873\n",
      "Epoch 190/400\n",
      "2262/2262 [==============================] - 0s 38us/sample - loss: 0.2629 - accuracy: 0.8780\n",
      "Epoch 191/400\n",
      "2262/2262 [==============================] - 0s 37us/sample - loss: 0.2341 - accuracy: 0.8979\n",
      "Epoch 192/400\n",
      "2262/2262 [==============================] - 0s 38us/sample - loss: 0.2466 - accuracy: 0.8873\n",
      "Epoch 193/400\n",
      "2262/2262 [==============================] - 0s 38us/sample - loss: 0.2600 - accuracy: 0.8789\n",
      "Epoch 194/400\n",
      "2262/2262 [==============================] - 0s 37us/sample - loss: 0.2410 - accuracy: 0.8908\n",
      "Epoch 195/400\n",
      "2262/2262 [==============================] - 0s 36us/sample - loss: 0.2361 - accuracy: 0.8970\n",
      "Epoch 196/400\n",
      "2262/2262 [==============================] - 0s 35us/sample - loss: 0.2363 - accuracy: 0.8935\n",
      "Epoch 197/400\n",
      "2262/2262 [==============================] - 0s 34us/sample - loss: 0.2345 - accuracy: 0.8930\n",
      "Epoch 198/400\n",
      "2262/2262 [==============================] - 0s 35us/sample - loss: 0.2310 - accuracy: 0.8926\n",
      "Epoch 199/400\n",
      "2262/2262 [==============================] - 0s 36us/sample - loss: 0.2684 - accuracy: 0.8820\n",
      "Epoch 200/400\n",
      "2262/2262 [==============================] - 0s 37us/sample - loss: 0.2407 - accuracy: 0.8890\n",
      "Epoch 201/400\n",
      "2262/2262 [==============================] - 0s 38us/sample - loss: 0.2530 - accuracy: 0.8855\n",
      "Epoch 202/400\n",
      "2262/2262 [==============================] - 0s 36us/sample - loss: 0.2581 - accuracy: 0.8837\n",
      "Epoch 203/400\n",
      "2262/2262 [==============================] - 0s 37us/sample - loss: 0.2337 - accuracy: 0.8855\n",
      "Epoch 204/400\n",
      "2262/2262 [==============================] - 0s 36us/sample - loss: 0.2383 - accuracy: 0.8912\n",
      "Epoch 205/400\n",
      "2262/2262 [==============================] - 0s 36us/sample - loss: 0.2361 - accuracy: 0.8921\n",
      "Epoch 206/400\n",
      "2262/2262 [==============================] - 0s 35us/sample - loss: 0.2225 - accuracy: 0.9001\n",
      "Epoch 207/400\n",
      "2262/2262 [==============================] - 0s 35us/sample - loss: 0.2383 - accuracy: 0.8877\n",
      "Epoch 208/400\n",
      "2262/2262 [==============================] - 0s 36us/sample - loss: 0.2656 - accuracy: 0.8775\n",
      "Epoch 209/400\n",
      "2262/2262 [==============================] - 0s 34us/sample - loss: 0.2357 - accuracy: 0.8890\n",
      "Epoch 210/400\n",
      "2262/2262 [==============================] - 0s 35us/sample - loss: 0.2314 - accuracy: 0.8970\n",
      "Epoch 211/400\n",
      "2262/2262 [==============================] - 0s 35us/sample - loss: 0.2219 - accuracy: 0.9032\n",
      "Epoch 212/400\n",
      "2262/2262 [==============================] - 0s 35us/sample - loss: 0.2191 - accuracy: 0.8996\n",
      "Epoch 213/400\n",
      "2262/2262 [==============================] - 0s 35us/sample - loss: 0.2217 - accuracy: 0.8983\n",
      "Epoch 214/400\n",
      "2262/2262 [==============================] - 0s 35us/sample - loss: 0.2238 - accuracy: 0.8983\n",
      "Epoch 215/400\n",
      "2262/2262 [==============================] - 0s 35us/sample - loss: 0.2291 - accuracy: 0.8886\n",
      "Epoch 216/400\n",
      "2262/2262 [==============================] - 0s 35us/sample - loss: 0.2314 - accuracy: 0.8961\n",
      "Epoch 217/400\n",
      "2262/2262 [==============================] - 0s 35us/sample - loss: 0.2399 - accuracy: 0.8948\n",
      "Epoch 218/400\n",
      "2262/2262 [==============================] - 0s 35us/sample - loss: 0.2269 - accuracy: 0.8966\n",
      "Epoch 219/400\n",
      "2262/2262 [==============================] - 0s 35us/sample - loss: 0.2187 - accuracy: 0.9050\n",
      "Epoch 220/400\n",
      "2262/2262 [==============================] - 0s 35us/sample - loss: 0.2264 - accuracy: 0.8961\n",
      "Epoch 221/400\n",
      "2262/2262 [==============================] - 0s 35us/sample - loss: 0.2321 - accuracy: 0.8943\n",
      "Epoch 222/400\n",
      "2262/2262 [==============================] - 0s 36us/sample - loss: 0.2107 - accuracy: 0.9067\n",
      "Epoch 223/400\n",
      "2262/2262 [==============================] - 0s 34us/sample - loss: 0.2292 - accuracy: 0.8899\n",
      "Epoch 224/400\n",
      "2262/2262 [==============================] - 0s 34us/sample - loss: 0.2187 - accuracy: 0.9019\n",
      "Epoch 225/400\n",
      "2262/2262 [==============================] - 0s 34us/sample - loss: 0.2547 - accuracy: 0.8784\n",
      "Epoch 226/400\n",
      "2262/2262 [==============================] - 0s 34us/sample - loss: 0.2404 - accuracy: 0.8851\n",
      "Epoch 227/400\n",
      "2262/2262 [==============================] - 0s 36us/sample - loss: 0.2113 - accuracy: 0.9027\n",
      "Epoch 228/400\n",
      "2262/2262 [==============================] - 0s 45us/sample - loss: 0.2086 - accuracy: 0.9076\n"
     ]
    },
    {
     "name": "stdout",
     "output_type": "stream",
     "text": [
      "Epoch 229/400\n",
      "2262/2262 [==============================] - 0s 38us/sample - loss: 0.2353 - accuracy: 0.8904\n",
      "Epoch 230/400\n",
      "2262/2262 [==============================] - 0s 39us/sample - loss: 0.2116 - accuracy: 0.9098\n",
      "Epoch 231/400\n",
      "2262/2262 [==============================] - 0s 36us/sample - loss: 0.2217 - accuracy: 0.8974\n",
      "Epoch 232/400\n",
      "2262/2262 [==============================] - 0s 36us/sample - loss: 0.2397 - accuracy: 0.8882\n",
      "Epoch 233/400\n",
      "2262/2262 [==============================] - 0s 35us/sample - loss: 0.2166 - accuracy: 0.9019\n",
      "Epoch 234/400\n",
      "2262/2262 [==============================] - 0s 35us/sample - loss: 0.2330 - accuracy: 0.8930\n",
      "Epoch 235/400\n",
      "2262/2262 [==============================] - 0s 34us/sample - loss: 0.2302 - accuracy: 0.8992\n",
      "Epoch 236/400\n",
      "2262/2262 [==============================] - 0s 35us/sample - loss: 0.2119 - accuracy: 0.9032\n",
      "Epoch 237/400\n",
      "2262/2262 [==============================] - 0s 36us/sample - loss: 0.2244 - accuracy: 0.8957\n",
      "Epoch 238/400\n",
      "2262/2262 [==============================] - 0s 39us/sample - loss: 0.2377 - accuracy: 0.8837\n",
      "Epoch 239/400\n",
      "2262/2262 [==============================] - 0s 38us/sample - loss: 0.2472 - accuracy: 0.8798\n",
      "Epoch 240/400\n",
      "2262/2262 [==============================] - 0s 38us/sample - loss: 0.2113 - accuracy: 0.9054\n",
      "Epoch 241/400\n",
      "2262/2262 [==============================] - 0s 35us/sample - loss: 0.2373 - accuracy: 0.8899\n",
      "Epoch 242/400\n",
      "2262/2262 [==============================] - 0s 36us/sample - loss: 0.2210 - accuracy: 0.8996\n",
      "Epoch 243/400\n",
      "2262/2262 [==============================] - 0s 35us/sample - loss: 0.2033 - accuracy: 0.9072\n",
      "Epoch 244/400\n",
      "2262/2262 [==============================] - 0s 35us/sample - loss: 0.2353 - accuracy: 0.8948\n",
      "Epoch 245/400\n",
      "2262/2262 [==============================] - 0s 44us/sample - loss: 0.2089 - accuracy: 0.9072\n",
      "Epoch 246/400\n",
      "2262/2262 [==============================] - 0s 42us/sample - loss: 0.2270 - accuracy: 0.8943\n",
      "Epoch 247/400\n",
      "2262/2262 [==============================] - 0s 38us/sample - loss: 0.2581 - accuracy: 0.8859\n",
      "Epoch 248/400\n",
      "2262/2262 [==============================] - 0s 36us/sample - loss: 0.2587 - accuracy: 0.8886\n",
      "Epoch 249/400\n",
      "2262/2262 [==============================] - 0s 36us/sample - loss: 0.2067 - accuracy: 0.9019\n",
      "Epoch 250/400\n",
      "2262/2262 [==============================] - 0s 36us/sample - loss: 0.2236 - accuracy: 0.8899\n",
      "Epoch 251/400\n",
      "2262/2262 [==============================] - 0s 37us/sample - loss: 0.2015 - accuracy: 0.9103\n",
      "Epoch 252/400\n",
      "2262/2262 [==============================] - 0s 37us/sample - loss: 0.2061 - accuracy: 0.9072\n",
      "Epoch 253/400\n",
      "2262/2262 [==============================] - 0s 39us/sample - loss: 0.2129 - accuracy: 0.9063\n",
      "Epoch 254/400\n",
      "2262/2262 [==============================] - 0s 39us/sample - loss: 0.2037 - accuracy: 0.9111\n",
      "Epoch 255/400\n",
      "2262/2262 [==============================] - 0s 37us/sample - loss: 0.2063 - accuracy: 0.9050\n",
      "Epoch 256/400\n",
      "2262/2262 [==============================] - 0s 35us/sample - loss: 0.2223 - accuracy: 0.8957\n",
      "Epoch 257/400\n",
      "2262/2262 [==============================] - 0s 36us/sample - loss: 0.2413 - accuracy: 0.8873\n",
      "Epoch 258/400\n",
      "2262/2262 [==============================] - 0s 36us/sample - loss: 0.1900 - accuracy: 0.9120\n",
      "Epoch 259/400\n",
      "2262/2262 [==============================] - 0s 41us/sample - loss: 0.2077 - accuracy: 0.9050\n",
      "Epoch 260/400\n",
      "2262/2262 [==============================] - 0s 35us/sample - loss: 0.2208 - accuracy: 0.9014\n",
      "Epoch 261/400\n",
      "2262/2262 [==============================] - 0s 37us/sample - loss: 0.2116 - accuracy: 0.9054\n",
      "Epoch 262/400\n",
      "2262/2262 [==============================] - 0s 37us/sample - loss: 0.2056 - accuracy: 0.9116\n",
      "Epoch 263/400\n",
      "2262/2262 [==============================] - 0s 36us/sample - loss: 0.2312 - accuracy: 0.8908\n",
      "Epoch 264/400\n",
      "2262/2262 [==============================] - 0s 35us/sample - loss: 0.2290 - accuracy: 0.8952\n",
      "Epoch 265/400\n",
      "2262/2262 [==============================] - 0s 35us/sample - loss: 0.1880 - accuracy: 0.9151\n",
      "Epoch 266/400\n",
      "2262/2262 [==============================] - 0s 36us/sample - loss: 0.2351 - accuracy: 0.8917\n",
      "Epoch 267/400\n",
      "2262/2262 [==============================] - 0s 36us/sample - loss: 0.2036 - accuracy: 0.9054\n",
      "Epoch 268/400\n",
      "2262/2262 [==============================] - 0s 37us/sample - loss: 0.2470 - accuracy: 0.8899\n",
      "Epoch 269/400\n",
      "2262/2262 [==============================] - 0s 37us/sample - loss: 0.2075 - accuracy: 0.9023\n",
      "Epoch 270/400\n",
      "2262/2262 [==============================] - 0s 36us/sample - loss: 0.1942 - accuracy: 0.9085\n",
      "Epoch 271/400\n",
      "2262/2262 [==============================] - 0s 37us/sample - loss: 0.2194 - accuracy: 0.9001\n",
      "Epoch 272/400\n",
      "2262/2262 [==============================] - 0s 36us/sample - loss: 0.2015 - accuracy: 0.9063\n",
      "Epoch 273/400\n",
      "2262/2262 [==============================] - 0s 36us/sample - loss: 0.2192 - accuracy: 0.8983\n",
      "Epoch 274/400\n",
      "2262/2262 [==============================] - 0s 36us/sample - loss: 0.2204 - accuracy: 0.8970\n",
      "Epoch 275/400\n",
      "2262/2262 [==============================] - 0s 37us/sample - loss: 0.2124 - accuracy: 0.8996\n",
      "Epoch 276/400\n",
      "2262/2262 [==============================] - 0s 39us/sample - loss: 0.2141 - accuracy: 0.9023\n",
      "Epoch 277/400\n",
      "2262/2262 [==============================] - 0s 36us/sample - loss: 0.2233 - accuracy: 0.8961\n",
      "Epoch 278/400\n",
      "2262/2262 [==============================] - 0s 35us/sample - loss: 0.2149 - accuracy: 0.9019\n",
      "Epoch 279/400\n",
      "2262/2262 [==============================] - 0s 35us/sample - loss: 0.2450 - accuracy: 0.8837\n",
      "Epoch 280/400\n",
      "2262/2262 [==============================] - 0s 34us/sample - loss: 0.2438 - accuracy: 0.8926\n",
      "Epoch 281/400\n",
      "2262/2262 [==============================] - 0s 36us/sample - loss: 0.1981 - accuracy: 0.9054\n",
      "Epoch 282/400\n",
      "2262/2262 [==============================] - 0s 37us/sample - loss: 0.2193 - accuracy: 0.9032\n",
      "Epoch 283/400\n",
      "2262/2262 [==============================] - 0s 36us/sample - loss: 0.1901 - accuracy: 0.9138\n",
      "Epoch 284/400\n",
      "2262/2262 [==============================] - 0s 37us/sample - loss: 0.1993 - accuracy: 0.9111\n",
      "Epoch 285/400\n",
      "2262/2262 [==============================] - 0s 56us/sample - loss: 0.1985 - accuracy: 0.9085\n",
      "Epoch 286/400\n",
      "2262/2262 [==============================] - 0s 36us/sample - loss: 0.2238 - accuracy: 0.8979\n",
      "Epoch 287/400\n",
      "2262/2262 [==============================] - 0s 36us/sample - loss: 0.2031 - accuracy: 0.9001\n",
      "Epoch 288/400\n",
      "2262/2262 [==============================] - 0s 35us/sample - loss: 0.1939 - accuracy: 0.9067\n",
      "Epoch 289/400\n",
      "2262/2262 [==============================] - 0s 35us/sample - loss: 0.1964 - accuracy: 0.9129\n",
      "Epoch 290/400\n",
      "2262/2262 [==============================] - 0s 34us/sample - loss: 0.1994 - accuracy: 0.9045\n",
      "Epoch 291/400\n",
      "2262/2262 [==============================] - 0s 35us/sample - loss: 0.1987 - accuracy: 0.9103\n",
      "Epoch 292/400\n",
      "2262/2262 [==============================] - 0s 35us/sample - loss: 0.1889 - accuracy: 0.9160\n",
      "Epoch 293/400\n",
      "2262/2262 [==============================] - 0s 34us/sample - loss: 0.2037 - accuracy: 0.9027\n",
      "Epoch 294/400\n",
      "2262/2262 [==============================] - 0s 35us/sample - loss: 0.1912 - accuracy: 0.9116\n",
      "Epoch 295/400\n",
      "2262/2262 [==============================] - 0s 34us/sample - loss: 0.1949 - accuracy: 0.9111\n",
      "Epoch 296/400\n",
      "2262/2262 [==============================] - 0s 34us/sample - loss: 0.2012 - accuracy: 0.9089\n",
      "Epoch 297/400\n",
      "2262/2262 [==============================] - 0s 35us/sample - loss: 0.2127 - accuracy: 0.9023\n",
      "Epoch 298/400\n",
      "2262/2262 [==============================] - 0s 35us/sample - loss: 0.1828 - accuracy: 0.9191\n",
      "Epoch 299/400\n",
      "2262/2262 [==============================] - 0s 37us/sample - loss: 0.1977 - accuracy: 0.9125\n",
      "Epoch 300/400\n",
      "2262/2262 [==============================] - 0s 35us/sample - loss: 0.1858 - accuracy: 0.9138\n",
      "Epoch 301/400\n",
      "2262/2262 [==============================] - 0s 35us/sample - loss: 0.2166 - accuracy: 0.8996\n",
      "Epoch 302/400\n",
      "2262/2262 [==============================] - 0s 44us/sample - loss: 0.1944 - accuracy: 0.9147\n",
      "Epoch 303/400\n",
      "2262/2262 [==============================] - 0s 41us/sample - loss: 0.1896 - accuracy: 0.9125\n",
      "Epoch 304/400\n",
      "2262/2262 [==============================] - 0s 39us/sample - loss: 0.2126 - accuracy: 0.9023\n",
      "Epoch 305/400\n",
      "2262/2262 [==============================] - 0s 37us/sample - loss: 0.2415 - accuracy: 0.8974\n",
      "Epoch 306/400\n",
      "2262/2262 [==============================] - 0s 37us/sample - loss: 0.1971 - accuracy: 0.9085\n",
      "Epoch 307/400\n",
      "2262/2262 [==============================] - 0s 36us/sample - loss: 0.1937 - accuracy: 0.9111\n",
      "Epoch 308/400\n",
      "2262/2262 [==============================] - 0s 38us/sample - loss: 0.2305 - accuracy: 0.8895\n",
      "Epoch 309/400\n",
      "2262/2262 [==============================] - 0s 40us/sample - loss: 0.1886 - accuracy: 0.9142\n",
      "Epoch 310/400\n",
      "2262/2262 [==============================] - 0s 38us/sample - loss: 0.1947 - accuracy: 0.9116\n",
      "Epoch 311/400\n",
      "2262/2262 [==============================] - 0s 39us/sample - loss: 0.2370 - accuracy: 0.8837\n",
      "Epoch 312/400\n",
      "2262/2262 [==============================] - 0s 38us/sample - loss: 0.1947 - accuracy: 0.9054\n",
      "Epoch 313/400\n",
      "2262/2262 [==============================] - 0s 38us/sample - loss: 0.2043 - accuracy: 0.9111\n",
      "Epoch 314/400\n",
      "2262/2262 [==============================] - 0s 39us/sample - loss: 0.2085 - accuracy: 0.9045\n",
      "Epoch 315/400\n",
      "2262/2262 [==============================] - 0s 38us/sample - loss: 0.2098 - accuracy: 0.8974\n",
      "Epoch 316/400\n",
      "2262/2262 [==============================] - 0s 37us/sample - loss: 0.1869 - accuracy: 0.9147\n",
      "Epoch 317/400\n",
      "2262/2262 [==============================] - 0s 37us/sample - loss: 0.1982 - accuracy: 0.9076\n",
      "Epoch 318/400\n",
      "2262/2262 [==============================] - 0s 37us/sample - loss: 0.1929 - accuracy: 0.9178\n",
      "Epoch 319/400\n",
      "2262/2262 [==============================] - 0s 39us/sample - loss: 0.2637 - accuracy: 0.8864\n",
      "Epoch 320/400\n",
      "2262/2262 [==============================] - 0s 37us/sample - loss: 0.2152 - accuracy: 0.8983\n",
      "Epoch 321/400\n",
      "2262/2262 [==============================] - 0s 35us/sample - loss: 0.1867 - accuracy: 0.9156\n",
      "Epoch 322/400\n",
      "2262/2262 [==============================] - 0s 35us/sample - loss: 0.1843 - accuracy: 0.9173\n",
      "Epoch 323/400\n",
      "2262/2262 [==============================] - 0s 35us/sample - loss: 0.1821 - accuracy: 0.9160\n",
      "Epoch 324/400\n",
      "2262/2262 [==============================] - 0s 35us/sample - loss: 0.1855 - accuracy: 0.9151\n",
      "Epoch 325/400\n",
      "2262/2262 [==============================] - 0s 35us/sample - loss: 0.2074 - accuracy: 0.9010\n",
      "Epoch 326/400\n",
      "2262/2262 [==============================] - 0s 35us/sample - loss: 0.1925 - accuracy: 0.9094\n",
      "Epoch 327/400\n",
      "2262/2262 [==============================] - 0s 34us/sample - loss: 0.1732 - accuracy: 0.9178\n",
      "Epoch 328/400\n",
      "2262/2262 [==============================] - 0s 34us/sample - loss: 0.1854 - accuracy: 0.9222\n",
      "Epoch 329/400\n",
      "2262/2262 [==============================] - 0s 35us/sample - loss: 0.1834 - accuracy: 0.9182\n",
      "Epoch 330/400\n",
      "2262/2262 [==============================] - 0s 34us/sample - loss: 0.1929 - accuracy: 0.9120\n",
      "Epoch 331/400\n",
      "2262/2262 [==============================] - 0s 35us/sample - loss: 0.2016 - accuracy: 0.9129\n",
      "Epoch 332/400\n",
      "2262/2262 [==============================] - 0s 36us/sample - loss: 0.1700 - accuracy: 0.9275\n",
      "Epoch 333/400\n",
      "2262/2262 [==============================] - 0s 37us/sample - loss: 0.1985 - accuracy: 0.9089\n",
      "Epoch 334/400\n",
      "2262/2262 [==============================] - 0s 36us/sample - loss: 0.1963 - accuracy: 0.9085\n",
      "Epoch 335/400\n",
      "2262/2262 [==============================] - 0s 36us/sample - loss: 0.2041 - accuracy: 0.9076\n",
      "Epoch 336/400\n",
      "2262/2262 [==============================] - 0s 37us/sample - loss: 0.1757 - accuracy: 0.9169\n",
      "Epoch 337/400\n",
      "2262/2262 [==============================] - 0s 37us/sample - loss: 0.1872 - accuracy: 0.9164\n",
      "Epoch 338/400\n",
      "2262/2262 [==============================] - 0s 37us/sample - loss: 0.1779 - accuracy: 0.9204\n",
      "Epoch 339/400\n",
      "2262/2262 [==============================] - 0s 37us/sample - loss: 0.2015 - accuracy: 0.9129\n",
      "Epoch 340/400\n",
      "2262/2262 [==============================] - 0s 45us/sample - loss: 0.1871 - accuracy: 0.9151\n",
      "Epoch 341/400\n",
      "2262/2262 [==============================] - 0s 41us/sample - loss: 0.1698 - accuracy: 0.9218\n",
      "Epoch 342/400\n",
      "2262/2262 [==============================] - 0s 41us/sample - loss: 0.3009 - accuracy: 0.8643\n",
      "Epoch 343/400\n",
      "2262/2262 [==============================] - 0s 37us/sample - loss: 0.2325 - accuracy: 0.8970\n",
      "Epoch 344/400\n",
      "2262/2262 [==============================] - 0s 38us/sample - loss: 0.1843 - accuracy: 0.9151\n",
      "Epoch 345/400\n",
      "2262/2262 [==============================] - 0s 36us/sample - loss: 0.2107 - accuracy: 0.9036\n",
      "Epoch 346/400\n",
      "2262/2262 [==============================] - 0s 37us/sample - loss: 0.1723 - accuracy: 0.9191\n",
      "Epoch 347/400\n",
      "2262/2262 [==============================] - 0s 36us/sample - loss: 0.1690 - accuracy: 0.9328\n",
      "Epoch 348/400\n",
      "2262/2262 [==============================] - 0s 36us/sample - loss: 0.1980 - accuracy: 0.9089\n",
      "Epoch 349/400\n",
      "2262/2262 [==============================] - 0s 36us/sample - loss: 0.1731 - accuracy: 0.9253\n",
      "Epoch 350/400\n",
      "2262/2262 [==============================] - 0s 36us/sample - loss: 0.1753 - accuracy: 0.9222\n",
      "Epoch 351/400\n",
      "2262/2262 [==============================] - 0s 36us/sample - loss: 0.1916 - accuracy: 0.9142\n",
      "Epoch 352/400\n",
      "2262/2262 [==============================] - 0s 37us/sample - loss: 0.1756 - accuracy: 0.9204\n",
      "Epoch 353/400\n",
      "2262/2262 [==============================] - 0s 36us/sample - loss: 0.2132 - accuracy: 0.8996\n",
      "Epoch 354/400\n",
      "2262/2262 [==============================] - 0s 36us/sample - loss: 0.1710 - accuracy: 0.9218\n",
      "Epoch 355/400\n",
      "2262/2262 [==============================] - 0s 34us/sample - loss: 0.1899 - accuracy: 0.9173\n",
      "Epoch 356/400\n",
      "2262/2262 [==============================] - 0s 35us/sample - loss: 0.1930 - accuracy: 0.9116\n",
      "Epoch 357/400\n",
      "2262/2262 [==============================] - 0s 35us/sample - loss: 0.1724 - accuracy: 0.9173\n",
      "Epoch 358/400\n",
      "2262/2262 [==============================] - 0s 38us/sample - loss: 0.1927 - accuracy: 0.9050\n",
      "Epoch 359/400\n",
      "2262/2262 [==============================] - 0s 40us/sample - loss: 0.1871 - accuracy: 0.9103\n",
      "Epoch 360/400\n",
      "2262/2262 [==============================] - 0s 36us/sample - loss: 0.2111 - accuracy: 0.9032\n",
      "Epoch 361/400\n",
      "2262/2262 [==============================] - 0s 37us/sample - loss: 0.1849 - accuracy: 0.9138\n",
      "Epoch 362/400\n",
      "2262/2262 [==============================] - 0s 38us/sample - loss: 0.1842 - accuracy: 0.9173\n",
      "Epoch 363/400\n",
      "2262/2262 [==============================] - 0s 38us/sample - loss: 0.1701 - accuracy: 0.9244\n",
      "Epoch 364/400\n",
      "2262/2262 [==============================] - 0s 38us/sample - loss: 0.1710 - accuracy: 0.9191\n",
      "Epoch 365/400\n",
      "2262/2262 [==============================] - 0s 39us/sample - loss: 0.1725 - accuracy: 0.9231\n",
      "Epoch 366/400\n",
      "2262/2262 [==============================] - 0s 37us/sample - loss: 0.1913 - accuracy: 0.9134\n",
      "Epoch 367/400\n",
      "2262/2262 [==============================] - 0s 38us/sample - loss: 0.1780 - accuracy: 0.9187\n",
      "Epoch 368/400\n",
      "2262/2262 [==============================] - 0s 35us/sample - loss: 0.1974 - accuracy: 0.9098\n",
      "Epoch 369/400\n",
      "2262/2262 [==============================] - 0s 35us/sample - loss: 0.1953 - accuracy: 0.9156\n",
      "Epoch 370/400\n",
      "2262/2262 [==============================] - 0s 44us/sample - loss: 0.1820 - accuracy: 0.9187\n",
      "Epoch 371/400\n",
      "2262/2262 [==============================] - 0s 36us/sample - loss: 0.2029 - accuracy: 0.9063\n",
      "Epoch 372/400\n",
      "2262/2262 [==============================] - 0s 36us/sample - loss: 0.1803 - accuracy: 0.9240\n",
      "Epoch 373/400\n",
      "2262/2262 [==============================] - 0s 35us/sample - loss: 0.1818 - accuracy: 0.9213\n",
      "Epoch 374/400\n",
      "2262/2262 [==============================] - 0s 34us/sample - loss: 0.2296 - accuracy: 0.8979\n",
      "Epoch 375/400\n",
      "2262/2262 [==============================] - 0s 37us/sample - loss: 0.2320 - accuracy: 0.8912\n",
      "Epoch 376/400\n",
      "2262/2262 [==============================] - 0s 35us/sample - loss: 0.2007 - accuracy: 0.9045\n",
      "Epoch 377/400\n",
      "2262/2262 [==============================] - 0s 34us/sample - loss: 0.1811 - accuracy: 0.9147\n",
      "Epoch 378/400\n",
      "2262/2262 [==============================] - 0s 35us/sample - loss: 0.1765 - accuracy: 0.9226\n",
      "Epoch 379/400\n",
      "2262/2262 [==============================] - 0s 36us/sample - loss: 0.1800 - accuracy: 0.9213\n"
     ]
    },
    {
     "name": "stdout",
     "output_type": "stream",
     "text": [
      "Epoch 380/400\n",
      "2262/2262 [==============================] - 0s 37us/sample - loss: 0.1811 - accuracy: 0.9134\n",
      "Epoch 381/400\n",
      "2262/2262 [==============================] - 0s 37us/sample - loss: 0.1683 - accuracy: 0.9240\n",
      "Epoch 382/400\n",
      "2262/2262 [==============================] - 0s 36us/sample - loss: 0.2137 - accuracy: 0.9072\n",
      "Epoch 383/400\n",
      "2262/2262 [==============================] - 0s 36us/sample - loss: 0.2183 - accuracy: 0.8996\n",
      "Epoch 384/400\n",
      "2262/2262 [==============================] - 0s 35us/sample - loss: 0.2281 - accuracy: 0.8873\n",
      "Epoch 385/400\n",
      "2262/2262 [==============================] - 0s 35us/sample - loss: 0.1716 - accuracy: 0.9231\n",
      "Epoch 386/400\n",
      "2262/2262 [==============================] - 0s 36us/sample - loss: 0.1707 - accuracy: 0.9209\n",
      "Epoch 387/400\n",
      "2262/2262 [==============================] - 0s 36us/sample - loss: 0.1899 - accuracy: 0.9151\n",
      "Epoch 388/400\n",
      "2262/2262 [==============================] - 0s 35us/sample - loss: 0.1839 - accuracy: 0.9191\n",
      "Epoch 389/400\n",
      "2262/2262 [==============================] - 0s 36us/sample - loss: 0.1792 - accuracy: 0.9204\n",
      "Epoch 390/400\n",
      "2262/2262 [==============================] - 0s 36us/sample - loss: 0.1756 - accuracy: 0.9191\n",
      "Epoch 391/400\n",
      "2262/2262 [==============================] - 0s 36us/sample - loss: 0.1782 - accuracy: 0.9142\n",
      "Epoch 392/400\n",
      "2262/2262 [==============================] - 0s 36us/sample - loss: 0.1606 - accuracy: 0.9284\n",
      "Epoch 393/400\n",
      "2262/2262 [==============================] - 0s 35us/sample - loss: 0.1879 - accuracy: 0.9107\n",
      "Epoch 394/400\n",
      "2262/2262 [==============================] - 0s 35us/sample - loss: 0.1995 - accuracy: 0.9050\n",
      "Epoch 395/400\n",
      "2262/2262 [==============================] - 0s 34us/sample - loss: 0.1652 - accuracy: 0.9279\n",
      "Epoch 396/400\n",
      "2262/2262 [==============================] - 0s 34us/sample - loss: 0.1560 - accuracy: 0.9297\n",
      "Epoch 397/400\n",
      "2262/2262 [==============================] - 0s 34us/sample - loss: 0.1894 - accuracy: 0.9116\n",
      "Epoch 398/400\n",
      "2262/2262 [==============================] - 0s 34us/sample - loss: 0.1597 - accuracy: 0.9279\n",
      "Epoch 399/400\n",
      "2262/2262 [==============================] - 0s 34us/sample - loss: 0.1598 - accuracy: 0.9302\n",
      "Epoch 400/400\n",
      "2262/2262 [==============================] - 0s 35us/sample - loss: 0.1602 - accuracy: 0.9328\n",
      "2262/2262 [==============================] - 0s 39us/sample - loss: 0.1732 - accuracy: 0.9222\n",
      "249/249 [==============================] - 0s 25us/sample - loss: 0.4116 - accuracy: 0.7791\n",
      "classifier accuracy: 0.92219275\n",
      "Testing accuracy: 0.77911645\n"
     ]
    },
    {
     "data": {
      "text/plain": [
       "[<matplotlib.lines.Line2D at 0x1a2c897860>]"
      ]
     },
     "execution_count": 203,
     "metadata": {},
     "output_type": "execute_result"
    },
    {
     "data": {
      "image/png": "[encoded data removed]",
      "text/plain": [
       "<Figure size 432x288 with 1 Axes>"
      ]
     },
     "metadata": {
      "needs_background": "light"
     },
     "output_type": "display_data"
    }
   ],
   "source": [
    "history = classifier.fit(X_train, y_train, batch_size=batch_size, epochs=epochs)\n",
    "\n",
    "# evaluate accuracy\n",
    "train_acc = classifier.evaluate(X_train, y_train, batch_size=32)[1]\n",
    "test_acc = classifier.evaluate(X_test, y_test, batch_size=32)[1]\n",
    "print('classifier accuracy: %s' % train_acc)\n",
    "print('Testing accuracy: %s' % test_acc)\n",
    "\n",
    "losses = history.history['loss']\n",
    "plt.plot(range(len(losses)), losses, 'r')\n"
   ]
  },
  {
   "cell_type": "code",
   "execution_count": 204,
   "metadata": {},
   "outputs": [
    {
     "data": {
      "image/png": "[encoded data removed]",
      "text/plain": [
       "<Figure size 432x288 with 1 Axes>"
      ]
     },
     "metadata": {
      "needs_background": "light"
     },
     "output_type": "display_data"
    }
   ],
   "source": [
    "losses = history.history['loss']\n",
    "plt.plot(range(len(losses)), losses, 'r')\n",
    "plt.show()"
   ]
  },
  {
   "cell_type": "code",
   "execution_count": 185,
   "metadata": {},
   "outputs": [
    {
     "name": "stdout",
     "output_type": "stream",
     "text": [
      "249/249 [==============================] - 0s 26us/sample - loss: 0.2990 - accuracy: 0.8876\n",
      "2262/2262 [==============================] - 0s 19us/sample - loss: 0.1245 - accuracy: 0.9523\n",
      "test accuracy: 0.8875502\n",
      "training data accuracy0.95225465\n"
     ]
    }
   ],
   "source": [
    "test_acc = classifier.evaluate(X_test, y_test, batch_size=32)[1]\n",
    "train_acc = classifier.evaluate(X_train, y_train, batch_size=32)[1]\n",
    "print(\"test accuracy: \" + str(test_acc))\n",
    "print(\"training data accuracy\"+str(train_acc))"
   ]
  },
  {
   "cell_type": "markdown",
   "metadata": {},
   "source": [
    "## Ecitingly, the accuracy improved significantly!! "
   ]
  },
  {
   "cell_type": "markdown",
   "metadata": {},
   "source": [
    "## Discussion"
   ]
  },
  {
   "cell_type": "markdown",
   "metadata": {},
   "source": [
    "### 1.本次作業採用的preprocess方式是影響結果很重要的因素，我的想法是股票的漲跌可能和前日的漲幅有關，即也許幅度越大漲越多，但是可以想見結果會很不準確，因為沒有任何理論基礎，和理性的推斷。但是最後一個NN的preprocess, 我認為是最佳的，因為根據股票的性質，採取更多天作為參考，可以大幅增加準確度。之所以把數據預測結果簡化成漲跌是因為可以簡化模型，增加準確度，因為如果預測股票會漲，投資者就可以購買，不過如果要預測實際會漲跌多少，難度會增加很多，準確度也許會低於一半，所以我認為意義不大，不想用此方法。"
   ]
  },
  {
   "cell_type": "markdown",
   "metadata": {},
   "source": [
    "###  2.1. 而正是因為資料混亂，才顯示出NN的價值，因為NN可以單純丟數據給他，他自己理解出可能的規則，我想這也是為什麼他的準確度可以最高。"
   ]
  },
  {
   "cell_type": "markdown",
   "metadata": {},
   "source": [
    "### 2.2.當然如果資料太過混亂或者本身矛盾有可能會影響NN的準確度，但是太過difficult的資料使用Logistic 或者SVM也沒有太大幫助，所以我認為反而是NN才可以套用混亂的資料。可想見，這也是為什麼影像辨識中常常會用到NN的理由。 "
   ]
  },
  {
   "cell_type": "markdown",
   "metadata": {},
   "source": [
    "### 3. 如何增加準確度？因為股票本身為連續性的變化，如果要增加準確度，第一個方法是利用多日前的資料，此種方法，我有應用在最後一個NN 的 Modification, 也確實有增加準確度，成為最準確的方法，而我只是多取三天的資料，如果增加天數，想必可以更高，但考慮到效率，我在此練習中沒有這麼做。另外，網路上有一種方法是利用複雜的preprcess流程，例如去除noise，忽略微小漲幅等方式，讓進去的資料更乾淨，也可以增加準確度。\n"
   ]
  },
  {
   "cell_type": "markdown",
   "metadata": {},
   "source": [
    "## 結語"
   ]
  },
  {
   "cell_type": "markdown",
   "metadata": {},
   "source": [
    "### 從這次作業中，我發現資料學習中，餵進去的data最重要，呼應老師說的: garbage in garbage out 的理念。像是NN的練習，發現如果多採用前前一天的資料，整體準確度就可以大幅提升。"
   ]
  },
  {
   "cell_type": "code",
   "execution_count": null,
   "metadata": {},
   "outputs": [],
   "source": []
  }
 ],
 "metadata": {
  "kernelspec": {
   "display_name": "Python 3",
   "language": "python",
   "name": "python3"
  },
  "language_info": {
   "codemirror_mode": {
    "name": "ipython",
    "version": 3
   },
   "file_extension": ".py",
   "mimetype": "text/x-python",
   "name": "python",
   "nbconvert_exporter": "python",
   "pygments_lexer": "ipython3",
   "version": "3.7.1"
  }
 },
 "nbformat": 4,
 "nbformat_minor": 2
}
