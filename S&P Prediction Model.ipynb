{
 "cells": [
  {
   "cell_type": "code",
   "execution_count": 2,
   "metadata": {},
   "outputs": [],
   "source": [
    "import numpy as np\n",
    "import pandas as pd\n",
    "import matplotlib.pyplot as plt\n",
    "from sklearn import linear_model, metrics, model_selection"
   ]
  },
  {
   "cell_type": "code",
   "execution_count": 3,
   "metadata": {},
   "outputs": [],
   "source": [
    "data = pd.read_csv('S&P_stock_data.csv')\n",
    "test_data = pd.read_csv('test_data.csv')"
   ]
  },
  {
   "cell_type": "code",
   "execution_count": 4,
   "metadata": {},
   "outputs": [
    {
     "data": {
      "text/html": [
       "<div>\n",
       "<style scoped>\n",
       "    .dataframe tbody tr th:only-of-type {\n",
       "        vertical-align: middle;\n",
       "    }\n",
       "\n",
       "    .dataframe tbody tr th {\n",
       "        vertical-align: top;\n",
       "    }\n",
       "\n",
       "    .dataframe thead th {\n",
       "        text-align: right;\n",
       "    }\n",
       "</style>\n",
       "<table border=\"1\" class=\"dataframe\">\n",
       "  <thead>\n",
       "    <tr style=\"text-align: right;\">\n",
       "      <th></th>\n",
       "      <th>Date</th>\n",
       "      <th>Open Price</th>\n",
       "      <th>Close Price</th>\n",
       "      <th>High Price</th>\n",
       "      <th>Low Price</th>\n",
       "      <th>Volume</th>\n",
       "    </tr>\n",
       "  </thead>\n",
       "  <tbody>\n",
       "    <tr>\n",
       "      <th>0</th>\n",
       "      <td>02-Jan-2009</td>\n",
       "      <td>902.99</td>\n",
       "      <td>931.80</td>\n",
       "      <td>934.73</td>\n",
       "      <td>899.35</td>\n",
       "      <td>4048270080</td>\n",
       "    </tr>\n",
       "    <tr>\n",
       "      <th>1</th>\n",
       "      <td>05-Jan-2009</td>\n",
       "      <td>929.17</td>\n",
       "      <td>927.45</td>\n",
       "      <td>936.63</td>\n",
       "      <td>919.53</td>\n",
       "      <td>5413910016</td>\n",
       "    </tr>\n",
       "    <tr>\n",
       "      <th>2</th>\n",
       "      <td>06-Jan-2009</td>\n",
       "      <td>931.17</td>\n",
       "      <td>934.70</td>\n",
       "      <td>943.85</td>\n",
       "      <td>927.28</td>\n",
       "      <td>5392620032</td>\n",
       "    </tr>\n",
       "    <tr>\n",
       "      <th>3</th>\n",
       "      <td>07-Jan-2009</td>\n",
       "      <td>927.45</td>\n",
       "      <td>906.65</td>\n",
       "      <td>927.45</td>\n",
       "      <td>902.37</td>\n",
       "      <td>4704940032</td>\n",
       "    </tr>\n",
       "    <tr>\n",
       "      <th>4</th>\n",
       "      <td>08-Jan-2009</td>\n",
       "      <td>905.73</td>\n",
       "      <td>909.73</td>\n",
       "      <td>910.00</td>\n",
       "      <td>896.81</td>\n",
       "      <td>4991549952</td>\n",
       "    </tr>\n",
       "  </tbody>\n",
       "</table>\n",
       "</div>"
      ],
      "text/plain": [
       "          Date  Open Price  Close Price  High Price  Low Price      Volume\n",
       "0  02-Jan-2009      902.99       931.80      934.73     899.35  4048270080\n",
       "1  05-Jan-2009      929.17       927.45      936.63     919.53  5413910016\n",
       "2  06-Jan-2009      931.17       934.70      943.85     927.28  5392620032\n",
       "3  07-Jan-2009      927.45       906.65      927.45     902.37  4704940032\n",
       "4  08-Jan-2009      905.73       909.73      910.00     896.81  4991549952"
      ]
     },
     "execution_count": 4,
     "metadata": {},
     "output_type": "execute_result"
    }
   ],
   "source": [
    "data.head()"
   ]
  },
  {
   "cell_type": "markdown",
   "metadata": {},
   "source": [
    "# Linear Regression"
   ]
  },
  {
   "cell_type": "markdown",
   "metadata": {},
   "source": [
    "### This data might have some relationship with time\n",
    "- x: time \n",
    "- y: open price\n",
    "\n",
    "### Thus, we apply the data to linear regression model"
   ]
  },
  {
   "cell_type": "code",
   "execution_count": 5,
   "metadata": {},
   "outputs": [
    {
     "data": {
      "text/plain": [
       "LinearRegression(copy_X=True, fit_intercept=True, n_jobs=None, normalize=True)"
      ]
     },
     "execution_count": 5,
     "metadata": {},
     "output_type": "execute_result"
    }
   ],
   "source": [
    "reg = linear_model.LinearRegression(normalize= True)\n",
    "y = data['Open Price']\n",
    "x = np.arange(len(data))\n",
    "\n",
    "x = np.expand_dims(x, 1)\n",
    "x\n",
    "reg.fit(x,y)\n"
   ]
  },
  {
   "cell_type": "code",
   "execution_count": 6,
   "metadata": {},
   "outputs": [
    {
     "data": {
      "image/png": "[encoded data removed]",
      "text/plain": [
       "<Figure size 432x288 with 1 Axes>"
      ]
     },
     "metadata": {
      "needs_background": "light"
     },
     "output_type": "display_data"
    }
   ],
   "source": [
    "plt.scatter(x,y)\n",
    "price = reg.coef_ * x + reg.intercept_\n",
    "\n",
    "plt.plot(x, price, 'r')\n",
    "plt.show()"
   ]
  },
  {
   "cell_type": "code",
   "execution_count": 7,
   "metadata": {},
   "outputs": [
    {
     "data": {
      "text/plain": [
       "42379.067682961846"
      ]
     },
     "execution_count": 7,
     "metadata": {},
     "output_type": "execute_result"
    }
   ],
   "source": [
    "\n",
    "x_test = np.arange(len(data), len(data)+len(test_data))\n",
    "x_test = np.expand_dims(x_test, 1)\n",
    "\n",
    "y_pred = reg.predict(x_test)\n",
    "mse_train = metrics.mean_squared_error(test_data['Open Price'], y_pred)\n",
    "mse_train"
   ]
  },
  {
   "cell_type": "code",
   "execution_count": 8,
   "metadata": {},
   "outputs": [
    {
     "data": {
      "image/png": "[encoded data removed]",
      "text/plain": [
       "<Figure size 432x288 with 1 Axes>"
      ]
     },
     "metadata": {
      "needs_background": "light"
     },
     "output_type": "display_data"
    }
   ],
   "source": [
    "plt.scatter(x_test, test_data['Open Price'])\n",
    "price = reg.coef_ * x_test + reg.intercept_\n",
    "\n",
    "plt.plot(x_test, price, 'r')\n",
    "plt.show()"
   ]
  },
  {
   "cell_type": "markdown",
   "metadata": {},
   "source": [
    "### If we use this model there will be a massive error to the real issue."
   ]
  },
  {
   "cell_type": "markdown",
   "metadata": {},
   "source": [
    "# Logistic Regreesion"
   ]
  },
  {
   "cell_type": "markdown",
   "metadata": {},
   "source": [
    "### We need to transform the orginal data because to apply logistic regression model, we have to label each data. In my way, I will lable the price that is higher than yesterday's price as one. On the other hand, the price lower than the price in yesterday as -1.\n",
    "\n",
    "### Based on my suggestion, the price of the stock may somehow related to the \n",
    "### (Close Price - Open Price) and (High Price - Low Price)  yesterday, so we can use these two variables to predict the model tomorrow."
   ]
  },
  {
   "cell_type": "code",
   "execution_count": 160,
   "metadata": {},
   "outputs": [],
   "source": [
    "data = pd.read_csv('S&P_stock_data.csv')\n",
    "test_data = pd.read_csv('test_data.csv')"
   ]
  },
  {
   "cell_type": "code",
   "execution_count": 161,
   "metadata": {},
   "outputs": [],
   "source": [
    "def LogRegRule(inputdata):\n",
    "    for index, row in inputdata.iterrows():\n",
    "        if index !=0:\n",
    "            if int(inputdata.loc[index - 1, 'Close Price']) > int(row['Close Price'])  :\n",
    "                inputdata.loc[index, 'growth'] = -1\n",
    "            else :\n",
    "                inputdata.loc[index, 'growth'] = 1\n",
    "\n",
    "\n",
    "            inputdata.loc[index, 'var1'] = (inputdata.loc[index - 1, 'Close Price']) - (inputdata.loc[index - 1, 'Open Price'])\n",
    "            inputdata.loc[index, 'var2'] = (inputdata.loc[index - 1, 'High Price']- (inputdata.loc[index - 1, 'Low Price']))\n",
    "    return inputdata"
   ]
  },
  {
   "cell_type": "code",
   "execution_count": 162,
   "metadata": {},
   "outputs": [
    {
     "data": {
      "text/html": [
       "<div>\n",
       "<style scoped>\n",
       "    .dataframe tbody tr th:only-of-type {\n",
       "        vertical-align: middle;\n",
       "    }\n",
       "\n",
       "    .dataframe tbody tr th {\n",
       "        vertical-align: top;\n",
       "    }\n",
       "\n",
       "    .dataframe thead th {\n",
       "        text-align: right;\n",
       "    }\n",
       "</style>\n",
       "<table border=\"1\" class=\"dataframe\">\n",
       "  <thead>\n",
       "    <tr style=\"text-align: right;\">\n",
       "      <th></th>\n",
       "      <th>Date</th>\n",
       "      <th>Open Price</th>\n",
       "      <th>Close Price</th>\n",
       "      <th>High Price</th>\n",
       "      <th>Low Price</th>\n",
       "      <th>Volume</th>\n",
       "      <th>growth</th>\n",
       "      <th>var1</th>\n",
       "      <th>var2</th>\n",
       "    </tr>\n",
       "  </thead>\n",
       "  <tbody>\n",
       "    <tr>\n",
       "      <th>1</th>\n",
       "      <td>05-Jan-2009</td>\n",
       "      <td>929.17</td>\n",
       "      <td>927.45</td>\n",
       "      <td>936.63</td>\n",
       "      <td>919.53</td>\n",
       "      <td>5413910016</td>\n",
       "      <td>-1.0</td>\n",
       "      <td>28.81</td>\n",
       "      <td>35.38</td>\n",
       "    </tr>\n",
       "    <tr>\n",
       "      <th>2</th>\n",
       "      <td>06-Jan-2009</td>\n",
       "      <td>931.17</td>\n",
       "      <td>934.70</td>\n",
       "      <td>943.85</td>\n",
       "      <td>927.28</td>\n",
       "      <td>5392620032</td>\n",
       "      <td>1.0</td>\n",
       "      <td>-1.72</td>\n",
       "      <td>17.10</td>\n",
       "    </tr>\n",
       "    <tr>\n",
       "      <th>3</th>\n",
       "      <td>07-Jan-2009</td>\n",
       "      <td>927.45</td>\n",
       "      <td>906.65</td>\n",
       "      <td>927.45</td>\n",
       "      <td>902.37</td>\n",
       "      <td>4704940032</td>\n",
       "      <td>-1.0</td>\n",
       "      <td>3.53</td>\n",
       "      <td>16.57</td>\n",
       "    </tr>\n",
       "    <tr>\n",
       "      <th>4</th>\n",
       "      <td>08-Jan-2009</td>\n",
       "      <td>905.73</td>\n",
       "      <td>909.73</td>\n",
       "      <td>910.00</td>\n",
       "      <td>896.81</td>\n",
       "      <td>4991549952</td>\n",
       "      <td>1.0</td>\n",
       "      <td>-20.80</td>\n",
       "      <td>25.08</td>\n",
       "    </tr>\n",
       "    <tr>\n",
       "      <th>5</th>\n",
       "      <td>09-Jan-2009</td>\n",
       "      <td>909.91</td>\n",
       "      <td>890.35</td>\n",
       "      <td>911.93</td>\n",
       "      <td>888.31</td>\n",
       "      <td>4716499968</td>\n",
       "      <td>-1.0</td>\n",
       "      <td>4.00</td>\n",
       "      <td>13.19</td>\n",
       "    </tr>\n",
       "    <tr>\n",
       "      <th>6</th>\n",
       "      <td>12-Jan-2009</td>\n",
       "      <td>890.40</td>\n",
       "      <td>870.26</td>\n",
       "      <td>890.40</td>\n",
       "      <td>864.32</td>\n",
       "      <td>4725049856</td>\n",
       "      <td>-1.0</td>\n",
       "      <td>-19.56</td>\n",
       "      <td>23.62</td>\n",
       "    </tr>\n",
       "    <tr>\n",
       "      <th>7</th>\n",
       "      <td>13-Jan-2009</td>\n",
       "      <td>869.79</td>\n",
       "      <td>871.79</td>\n",
       "      <td>877.02</td>\n",
       "      <td>862.02</td>\n",
       "      <td>5017469952</td>\n",
       "      <td>1.0</td>\n",
       "      <td>-20.14</td>\n",
       "      <td>26.08</td>\n",
       "    </tr>\n",
       "    <tr>\n",
       "      <th>8</th>\n",
       "      <td>14-Jan-2009</td>\n",
       "      <td>867.28</td>\n",
       "      <td>842.62</td>\n",
       "      <td>867.28</td>\n",
       "      <td>836.93</td>\n",
       "      <td>5407880192</td>\n",
       "      <td>-1.0</td>\n",
       "      <td>2.00</td>\n",
       "      <td>15.00</td>\n",
       "    </tr>\n",
       "    <tr>\n",
       "      <th>9</th>\n",
       "      <td>15-Jan-2009</td>\n",
       "      <td>841.99</td>\n",
       "      <td>843.74</td>\n",
       "      <td>851.59</td>\n",
       "      <td>817.04</td>\n",
       "      <td>7807350272</td>\n",
       "      <td>1.0</td>\n",
       "      <td>-24.66</td>\n",
       "      <td>30.35</td>\n",
       "    </tr>\n",
       "    <tr>\n",
       "      <th>10</th>\n",
       "      <td>16-Jan-2009</td>\n",
       "      <td>844.45</td>\n",
       "      <td>850.12</td>\n",
       "      <td>858.13</td>\n",
       "      <td>830.66</td>\n",
       "      <td>6786039808</td>\n",
       "      <td>1.0</td>\n",
       "      <td>1.75</td>\n",
       "      <td>34.55</td>\n",
       "    </tr>\n",
       "  </tbody>\n",
       "</table>\n",
       "</div>"
      ],
      "text/plain": [
       "           Date  Open Price  Close Price  High Price  Low Price      Volume  \\\n",
       "1   05-Jan-2009      929.17       927.45      936.63     919.53  5413910016   \n",
       "2   06-Jan-2009      931.17       934.70      943.85     927.28  5392620032   \n",
       "3   07-Jan-2009      927.45       906.65      927.45     902.37  4704940032   \n",
       "4   08-Jan-2009      905.73       909.73      910.00     896.81  4991549952   \n",
       "5   09-Jan-2009      909.91       890.35      911.93     888.31  4716499968   \n",
       "6   12-Jan-2009      890.40       870.26      890.40     864.32  4725049856   \n",
       "7   13-Jan-2009      869.79       871.79      877.02     862.02  5017469952   \n",
       "8   14-Jan-2009      867.28       842.62      867.28     836.93  5407880192   \n",
       "9   15-Jan-2009      841.99       843.74      851.59     817.04  7807350272   \n",
       "10  16-Jan-2009      844.45       850.12      858.13     830.66  6786039808   \n",
       "\n",
       "    growth   var1   var2  \n",
       "1     -1.0  28.81  35.38  \n",
       "2      1.0  -1.72  17.10  \n",
       "3     -1.0   3.53  16.57  \n",
       "4      1.0 -20.80  25.08  \n",
       "5     -1.0   4.00  13.19  \n",
       "6     -1.0 -19.56  23.62  \n",
       "7      1.0 -20.14  26.08  \n",
       "8     -1.0   2.00  15.00  \n",
       "9      1.0 -24.66  30.35  \n",
       "10     1.0   1.75  34.55  "
      ]
     },
     "execution_count": 162,
     "metadata": {},
     "output_type": "execute_result"
    }
   ],
   "source": [
    "LogRegRule(data)\n",
    "LogRegRule(test_data)\n",
    "data_train_SVM = data.drop(0, axis=0)\n",
    "data_test_SVM = data.drop(0, axis =0)\n",
    "data_test_SVM.head(10)"
   ]
  },
  {
   "cell_type": "code",
   "execution_count": 163,
   "metadata": {},
   "outputs": [],
   "source": [
    "X_train = data_train_SVM[['var1', 'var2']]\n",
    "y_train = data_test_SVM['growth']\n",
    "X_test = data_test_SVM[['var1', 'var2']]\n",
    "y_test = data_test_SVM['growth']"
   ]
  },
  {
   "cell_type": "markdown",
   "metadata": {},
   "source": [
    "## Feature scaling"
   ]
  },
  {
   "cell_type": "code",
   "execution_count": 164,
   "metadata": {},
   "outputs": [
    {
     "data": {
      "text/plain": [
       "array([[ 2.08951546,  1.85947401],\n",
       "       [-0.17383835,  0.00992304],\n",
       "       [ 0.21537251, -0.04370179],\n",
       "       ...,\n",
       "       [-0.00777505, -1.03930253],\n",
       "       [ 0.06042952, -1.21737746],\n",
       "       [-1.1983896 ,  0.15258534]])"
      ]
     },
     "execution_count": 164,
     "metadata": {},
     "output_type": "execute_result"
    }
   ],
   "source": [
    "from sklearn.preprocessing import StandardScaler\n",
    "sc = StandardScaler()\n",
    "X_train = sc.fit_transform(X_train)\n",
    "X_test = sc.transform(X_test)\n",
    "X_train"
   ]
  },
  {
   "cell_type": "markdown",
   "metadata": {},
   "source": [
    "## Fit the data into logistic regression model"
   ]
  },
  {
   "cell_type": "code",
   "execution_count": 165,
   "metadata": {},
   "outputs": [
    {
     "name": "stderr",
     "output_type": "stream",
     "text": [
      "/anaconda3/lib/python3.7/site-packages/sklearn/linear_model/logistic.py:433: FutureWarning: Default solver will be changed to 'lbfgs' in 0.22. Specify a solver to silence this warning.\n",
      "  FutureWarning)\n"
     ]
    },
    {
     "data": {
      "text/plain": [
       "LogisticRegression(C=1.0, class_weight=None, dual=False, fit_intercept=True,\n",
       "          intercept_scaling=1, max_iter=100, multi_class='warn',\n",
       "          n_jobs=None, penalty='l2', random_state=0, solver='warn',\n",
       "          tol=0.0001, verbose=0, warm_start=False)"
      ]
     },
     "execution_count": 165,
     "metadata": {},
     "output_type": "execute_result"
    }
   ],
   "source": [
    "from sklearn.linear_model import LogisticRegression\n",
    "classifier = LogisticRegression(random_state = 0)\n",
    "classifier.fit(X_train, y_train)"
   ]
  },
  {
   "cell_type": "code",
   "execution_count": 166,
   "metadata": {},
   "outputs": [
    {
     "name": "stdout",
     "output_type": "stream",
     "text": [
      "0.5680212014134276\n"
     ]
    }
   ],
   "source": [
    "y_pred = classifier.predict(X_test)\n",
    "from sklearn.metrics import confusion_matrix\n",
    "accuracy = classifier.score(X_test,y_test)\n",
    "print(accuracy)"
   ]
  },
  {
   "cell_type": "markdown",
   "metadata": {},
   "source": [
    "## Visualization"
   ]
  },
  {
   "cell_type": "code",
   "execution_count": 167,
   "metadata": {},
   "outputs": [],
   "source": [
    "from matplotlib.colors import ListedColormap\n",
    "def plotLogRegression(X, y):\n",
    "    X_set, y_set = X, y\n",
    "    X1, X2 = np.meshgrid(np.arange(start = X_set[:, 0].min() - 1, stop = X_set[:, 0].max() + 1, step = 0.01),\n",
    "                         np.arange(start = X_set[:, 1].min() - 1, stop = X_set[:, 1].max() + 1, step = 0.01))\n",
    "    plt.contourf(X1, X2, classifier.predict(np.array([X1.ravel(), X2.ravel()]).T).reshape(X1.shape),\n",
    "                 alpha = 0.75, cmap = ListedColormap(['lightblue', 'lightgreen']))\n",
    "    plt.xlim(X1.min(), X1.max())\n",
    "    plt.ylim(X2.min(), X2.max())\n",
    "    for i, j in enumerate(np.unique(y_set)):\n",
    "        plt.scatter(X_set[y_set == j, 0], X_set[y_set == j, 1],\n",
    "                    c = ['red', 'blue', 'lightgreen'][i], label = j)\n",
    "    plt.title('Logistic Regression (Training set)')\n",
    "    plt.xlabel('close price - open price')\n",
    "    plt.ylabel('high price - low price')\n",
    "    plt.legend()\n",
    "    plt.show()"
   ]
  },
  {
   "cell_type": "code",
   "execution_count": 168,
   "metadata": {},
   "outputs": [
    {
     "data": {
      "image/png": "[encoded data removed]",
      "text/plain": [
       "<Figure size 432x288 with 1 Axes>"
      ]
     },
     "metadata": {
      "needs_background": "light"
     },
     "output_type": "display_data"
    },
    {
     "data": {
      "image/png": "[encoded data removed]",
      "text/plain": [
       "<Figure size 432x288 with 1 Axes>"
      ]
     },
     "metadata": {
      "needs_background": "light"
     },
     "output_type": "display_data"
    }
   ],
   "source": [
    "plotLogRegression(X_train, y_train)\n",
    "plotLogRegression(X_test, y_test)"
   ]
  },
  {
   "cell_type": "markdown",
   "metadata": {},
   "source": [
    "### 模型只有五成準確度，換句話說如果前一天漲幅很高，隔天就可能也會繼續漲"
   ]
  },
  {
   "cell_type": "markdown",
   "metadata": {},
   "source": [
    "### Modification"
   ]
  },
  {
   "cell_type": "code",
   "execution_count": 169,
   "metadata": {},
   "outputs": [],
   "source": [
    "data = pd.read_csv('S&P_stock_data.csv')\n",
    "test_data = pd.read_csv('test_data.csv')"
   ]
  },
  {
   "cell_type": "code",
   "execution_count": 170,
   "metadata": {},
   "outputs": [],
   "source": [
    "def LogRegRule_mod(inputdata):\n",
    "    for index, row in inputdata.iterrows():\n",
    "        if index !=0:\n",
    "            if int(inputdata.loc[index - 1, 'Close Price']) > int(row['Close Price'] + 5)  :\n",
    "                inputdata.loc[index, 'growth'] = -1\n",
    "            else :\n",
    "                inputdata.loc[index, 'growth'] = 1\n",
    "\n",
    "\n",
    "            inputdata.loc[index, 'var1'] = (inputdata.loc[index - 1, 'Close Price']) - (inputdata.loc[index - 1, 'Open Price'])\n",
    "            inputdata.loc[index, 'var2'] = (inputdata.loc[index - 1, 'High Price']- (inputdata.loc[index - 1, 'Low Price']))\n",
    "    return inputdata"
   ]
  },
  {
   "cell_type": "code",
   "execution_count": 171,
   "metadata": {},
   "outputs": [
    {
     "data": {
      "text/html": [
       "<div>\n",
       "<style scoped>\n",
       "    .dataframe tbody tr th:only-of-type {\n",
       "        vertical-align: middle;\n",
       "    }\n",
       "\n",
       "    .dataframe tbody tr th {\n",
       "        vertical-align: top;\n",
       "    }\n",
       "\n",
       "    .dataframe thead th {\n",
       "        text-align: right;\n",
       "    }\n",
       "</style>\n",
       "<table border=\"1\" class=\"dataframe\">\n",
       "  <thead>\n",
       "    <tr style=\"text-align: right;\">\n",
       "      <th></th>\n",
       "      <th>Date</th>\n",
       "      <th>Open Price</th>\n",
       "      <th>Close Price</th>\n",
       "      <th>High Price</th>\n",
       "      <th>Low Price</th>\n",
       "      <th>Volume</th>\n",
       "      <th>growth</th>\n",
       "      <th>var1</th>\n",
       "      <th>var2</th>\n",
       "    </tr>\n",
       "  </thead>\n",
       "  <tbody>\n",
       "    <tr>\n",
       "      <th>1</th>\n",
       "      <td>05-Jan-2009</td>\n",
       "      <td>929.17</td>\n",
       "      <td>927.45</td>\n",
       "      <td>936.63</td>\n",
       "      <td>919.53</td>\n",
       "      <td>5413910016</td>\n",
       "      <td>1.0</td>\n",
       "      <td>28.81</td>\n",
       "      <td>35.38</td>\n",
       "    </tr>\n",
       "    <tr>\n",
       "      <th>2</th>\n",
       "      <td>06-Jan-2009</td>\n",
       "      <td>931.17</td>\n",
       "      <td>934.70</td>\n",
       "      <td>943.85</td>\n",
       "      <td>927.28</td>\n",
       "      <td>5392620032</td>\n",
       "      <td>1.0</td>\n",
       "      <td>-1.72</td>\n",
       "      <td>17.10</td>\n",
       "    </tr>\n",
       "    <tr>\n",
       "      <th>3</th>\n",
       "      <td>07-Jan-2009</td>\n",
       "      <td>927.45</td>\n",
       "      <td>906.65</td>\n",
       "      <td>927.45</td>\n",
       "      <td>902.37</td>\n",
       "      <td>4704940032</td>\n",
       "      <td>-1.0</td>\n",
       "      <td>3.53</td>\n",
       "      <td>16.57</td>\n",
       "    </tr>\n",
       "    <tr>\n",
       "      <th>4</th>\n",
       "      <td>08-Jan-2009</td>\n",
       "      <td>905.73</td>\n",
       "      <td>909.73</td>\n",
       "      <td>910.00</td>\n",
       "      <td>896.81</td>\n",
       "      <td>4991549952</td>\n",
       "      <td>1.0</td>\n",
       "      <td>-20.80</td>\n",
       "      <td>25.08</td>\n",
       "    </tr>\n",
       "    <tr>\n",
       "      <th>5</th>\n",
       "      <td>09-Jan-2009</td>\n",
       "      <td>909.91</td>\n",
       "      <td>890.35</td>\n",
       "      <td>911.93</td>\n",
       "      <td>888.31</td>\n",
       "      <td>4716499968</td>\n",
       "      <td>-1.0</td>\n",
       "      <td>4.00</td>\n",
       "      <td>13.19</td>\n",
       "    </tr>\n",
       "    <tr>\n",
       "      <th>6</th>\n",
       "      <td>12-Jan-2009</td>\n",
       "      <td>890.40</td>\n",
       "      <td>870.26</td>\n",
       "      <td>890.40</td>\n",
       "      <td>864.32</td>\n",
       "      <td>4725049856</td>\n",
       "      <td>-1.0</td>\n",
       "      <td>-19.56</td>\n",
       "      <td>23.62</td>\n",
       "    </tr>\n",
       "    <tr>\n",
       "      <th>7</th>\n",
       "      <td>13-Jan-2009</td>\n",
       "      <td>869.79</td>\n",
       "      <td>871.79</td>\n",
       "      <td>877.02</td>\n",
       "      <td>862.02</td>\n",
       "      <td>5017469952</td>\n",
       "      <td>1.0</td>\n",
       "      <td>-20.14</td>\n",
       "      <td>26.08</td>\n",
       "    </tr>\n",
       "    <tr>\n",
       "      <th>8</th>\n",
       "      <td>14-Jan-2009</td>\n",
       "      <td>867.28</td>\n",
       "      <td>842.62</td>\n",
       "      <td>867.28</td>\n",
       "      <td>836.93</td>\n",
       "      <td>5407880192</td>\n",
       "      <td>-1.0</td>\n",
       "      <td>2.00</td>\n",
       "      <td>15.00</td>\n",
       "    </tr>\n",
       "    <tr>\n",
       "      <th>9</th>\n",
       "      <td>15-Jan-2009</td>\n",
       "      <td>841.99</td>\n",
       "      <td>843.74</td>\n",
       "      <td>851.59</td>\n",
       "      <td>817.04</td>\n",
       "      <td>7807350272</td>\n",
       "      <td>1.0</td>\n",
       "      <td>-24.66</td>\n",
       "      <td>30.35</td>\n",
       "    </tr>\n",
       "    <tr>\n",
       "      <th>10</th>\n",
       "      <td>16-Jan-2009</td>\n",
       "      <td>844.45</td>\n",
       "      <td>850.12</td>\n",
       "      <td>858.13</td>\n",
       "      <td>830.66</td>\n",
       "      <td>6786039808</td>\n",
       "      <td>1.0</td>\n",
       "      <td>1.75</td>\n",
       "      <td>34.55</td>\n",
       "    </tr>\n",
       "  </tbody>\n",
       "</table>\n",
       "</div>"
      ],
      "text/plain": [
       "           Date  Open Price  Close Price  High Price  Low Price      Volume  \\\n",
       "1   05-Jan-2009      929.17       927.45      936.63     919.53  5413910016   \n",
       "2   06-Jan-2009      931.17       934.70      943.85     927.28  5392620032   \n",
       "3   07-Jan-2009      927.45       906.65      927.45     902.37  4704940032   \n",
       "4   08-Jan-2009      905.73       909.73      910.00     896.81  4991549952   \n",
       "5   09-Jan-2009      909.91       890.35      911.93     888.31  4716499968   \n",
       "6   12-Jan-2009      890.40       870.26      890.40     864.32  4725049856   \n",
       "7   13-Jan-2009      869.79       871.79      877.02     862.02  5017469952   \n",
       "8   14-Jan-2009      867.28       842.62      867.28     836.93  5407880192   \n",
       "9   15-Jan-2009      841.99       843.74      851.59     817.04  7807350272   \n",
       "10  16-Jan-2009      844.45       850.12      858.13     830.66  6786039808   \n",
       "\n",
       "    growth   var1   var2  \n",
       "1      1.0  28.81  35.38  \n",
       "2      1.0  -1.72  17.10  \n",
       "3     -1.0   3.53  16.57  \n",
       "4      1.0 -20.80  25.08  \n",
       "5     -1.0   4.00  13.19  \n",
       "6     -1.0 -19.56  23.62  \n",
       "7      1.0 -20.14  26.08  \n",
       "8     -1.0   2.00  15.00  \n",
       "9      1.0 -24.66  30.35  \n",
       "10     1.0   1.75  34.55  "
      ]
     },
     "execution_count": 171,
     "metadata": {},
     "output_type": "execute_result"
    }
   ],
   "source": [
    "LogRegRule_mod(data)\n",
    "LogRegRule_mod(test_data)\n",
    "data_train_SVM = data.drop(0, axis=0)\n",
    "data_test_SVM = data.drop(0, axis =0)\n",
    "data_test_SVM.head(10)"
   ]
  },
  {
   "cell_type": "code",
   "execution_count": 172,
   "metadata": {},
   "outputs": [],
   "source": [
    "X_train = data_train_SVM[['var1', 'var2']]\n",
    "y_train = data_test_SVM['growth']\n",
    "X_test = data_test_SVM[['var1', 'var2']]\n",
    "y_test = data_test_SVM['growth']"
   ]
  },
  {
   "cell_type": "markdown",
   "metadata": {},
   "source": [
    "## Feature scaling"
   ]
  },
  {
   "cell_type": "code",
   "execution_count": 173,
   "metadata": {},
   "outputs": [
    {
     "data": {
      "text/plain": [
       "array([[ 2.08951546,  1.85947401],\n",
       "       [-0.17383835,  0.00992304],\n",
       "       [ 0.21537251, -0.04370179],\n",
       "       ...,\n",
       "       [-0.00777505, -1.03930253],\n",
       "       [ 0.06042952, -1.21737746],\n",
       "       [-1.1983896 ,  0.15258534]])"
      ]
     },
     "execution_count": 173,
     "metadata": {},
     "output_type": "execute_result"
    }
   ],
   "source": [
    "from sklearn.preprocessing import StandardScaler\n",
    "sc = StandardScaler()\n",
    "X_train = sc.fit_transform(X_train)\n",
    "X_test = sc.transform(X_test)\n",
    "X_train"
   ]
  },
  {
   "cell_type": "markdown",
   "metadata": {},
   "source": [
    "## Fit the data into logistic regression model"
   ]
  },
  {
   "cell_type": "code",
   "execution_count": 174,
   "metadata": {},
   "outputs": [
    {
     "name": "stderr",
     "output_type": "stream",
     "text": [
      "/anaconda3/lib/python3.7/site-packages/sklearn/linear_model/logistic.py:433: FutureWarning: Default solver will be changed to 'lbfgs' in 0.22. Specify a solver to silence this warning.\n",
      "  FutureWarning)\n"
     ]
    },
    {
     "data": {
      "text/plain": [
       "LogisticRegression(C=1.0, class_weight=None, dual=False, fit_intercept=True,\n",
       "          intercept_scaling=1, max_iter=100, multi_class='warn',\n",
       "          n_jobs=None, penalty='l2', random_state=0, solver='warn',\n",
       "          tol=0.0001, verbose=0, warm_start=False)"
      ]
     },
     "execution_count": 174,
     "metadata": {},
     "output_type": "execute_result"
    }
   ],
   "source": [
    "from sklearn.linear_model import LogisticRegression\n",
    "classifier = LogisticRegression(random_state = 0)\n",
    "classifier.fit(X_train, y_train)"
   ]
  },
  {
   "cell_type": "code",
   "execution_count": 175,
   "metadata": {},
   "outputs": [
    {
     "name": "stdout",
     "output_type": "stream",
     "text": [
      "0.7407243816254417\n"
     ]
    }
   ],
   "source": [
    "y_pred = classifier.predict(X_test)\n",
    "from sklearn.metrics import confusion_matrix\n",
    "accuracy = classifier.score(X_test,y_test)\n",
    "print(accuracy)"
   ]
  },
  {
   "cell_type": "markdown",
   "metadata": {},
   "source": [
    "### Visulization"
   ]
  },
  {
   "cell_type": "code",
   "execution_count": 176,
   "metadata": {},
   "outputs": [
    {
     "data": {
      "image/png": "[encoded data removed]",
      "text/plain": [
       "<Figure size 432x288 with 1 Axes>"
      ]
     },
     "metadata": {
      "needs_background": "light"
     },
     "output_type": "display_data"
    },
    {
     "data": {
      "image/png": "[encoded data removed]",
      "text/plain": [
       "<Figure size 432x288 with 1 Axes>"
      ]
     },
     "metadata": {
      "needs_background": "light"
     },
     "output_type": "display_data"
    }
   ],
   "source": [
    "plotLogRegression(X_train, y_train)\n",
    "plotLogRegression(X_test, y_test)"
   ]
  },
  {
   "cell_type": "markdown",
   "metadata": {},
   "source": [
    "## Discussion "
   ]
  },
  {
   "cell_type": "markdown",
   "metadata": {},
   "source": [
    "### 準確度可以提高是因為此資料處理的方式趨為保守，一定要漲超過一定幅度才會預測會漲。"
   ]
  },
  {
   "cell_type": "markdown",
   "metadata": {},
   "source": [
    "# SVM"
   ]
  },
  {
   "cell_type": "markdown",
   "metadata": {},
   "source": [
    "### We need to transform the orginal data because to apply logistic regression model, we have to label each data. In my way, I will lable the price that is higher than yesterday's price as one. On the other hand, the price lower than the price in yesterday as -1.\n",
    "\n",
    "### Based on my suggestion, the price of the stock may somehow related to the \n",
    "### (Close Price - Open Price) and (High Price - Low Price)  yesterday, so we can use these two variables to predict the model tomorrow."
   ]
  },
  {
   "cell_type": "code",
   "execution_count": 177,
   "metadata": {},
   "outputs": [],
   "source": [
    "data = pd.read_csv('S&P_stock_data.csv')\n",
    "test_data = pd.read_csv('test_data.csv')"
   ]
  },
  {
   "cell_type": "markdown",
   "metadata": {},
   "source": [
    "### We use the same data preprcess method"
   ]
  },
  {
   "cell_type": "code",
   "execution_count": 178,
   "metadata": {},
   "outputs": [
    {
     "data": {
      "text/html": [
       "<div>\n",
       "<style scoped>\n",
       "    .dataframe tbody tr th:only-of-type {\n",
       "        vertical-align: middle;\n",
       "    }\n",
       "\n",
       "    .dataframe tbody tr th {\n",
       "        vertical-align: top;\n",
       "    }\n",
       "\n",
       "    .dataframe thead th {\n",
       "        text-align: right;\n",
       "    }\n",
       "</style>\n",
       "<table border=\"1\" class=\"dataframe\">\n",
       "  <thead>\n",
       "    <tr style=\"text-align: right;\">\n",
       "      <th></th>\n",
       "      <th>Date</th>\n",
       "      <th>Open Price</th>\n",
       "      <th>Close Price</th>\n",
       "      <th>High Price</th>\n",
       "      <th>Low Price</th>\n",
       "      <th>Volume</th>\n",
       "      <th>growth</th>\n",
       "      <th>var1</th>\n",
       "      <th>var2</th>\n",
       "    </tr>\n",
       "  </thead>\n",
       "  <tbody>\n",
       "    <tr>\n",
       "      <th>1</th>\n",
       "      <td>05-Jan-2009</td>\n",
       "      <td>929.17</td>\n",
       "      <td>927.45</td>\n",
       "      <td>936.63</td>\n",
       "      <td>919.53</td>\n",
       "      <td>5413910016</td>\n",
       "      <td>-1.0</td>\n",
       "      <td>28.81</td>\n",
       "      <td>35.38</td>\n",
       "    </tr>\n",
       "    <tr>\n",
       "      <th>2</th>\n",
       "      <td>06-Jan-2009</td>\n",
       "      <td>931.17</td>\n",
       "      <td>934.70</td>\n",
       "      <td>943.85</td>\n",
       "      <td>927.28</td>\n",
       "      <td>5392620032</td>\n",
       "      <td>1.0</td>\n",
       "      <td>-1.72</td>\n",
       "      <td>17.10</td>\n",
       "    </tr>\n",
       "    <tr>\n",
       "      <th>3</th>\n",
       "      <td>07-Jan-2009</td>\n",
       "      <td>927.45</td>\n",
       "      <td>906.65</td>\n",
       "      <td>927.45</td>\n",
       "      <td>902.37</td>\n",
       "      <td>4704940032</td>\n",
       "      <td>-1.0</td>\n",
       "      <td>3.53</td>\n",
       "      <td>16.57</td>\n",
       "    </tr>\n",
       "    <tr>\n",
       "      <th>4</th>\n",
       "      <td>08-Jan-2009</td>\n",
       "      <td>905.73</td>\n",
       "      <td>909.73</td>\n",
       "      <td>910.00</td>\n",
       "      <td>896.81</td>\n",
       "      <td>4991549952</td>\n",
       "      <td>1.0</td>\n",
       "      <td>-20.80</td>\n",
       "      <td>25.08</td>\n",
       "    </tr>\n",
       "    <tr>\n",
       "      <th>5</th>\n",
       "      <td>09-Jan-2009</td>\n",
       "      <td>909.91</td>\n",
       "      <td>890.35</td>\n",
       "      <td>911.93</td>\n",
       "      <td>888.31</td>\n",
       "      <td>4716499968</td>\n",
       "      <td>-1.0</td>\n",
       "      <td>4.00</td>\n",
       "      <td>13.19</td>\n",
       "    </tr>\n",
       "    <tr>\n",
       "      <th>6</th>\n",
       "      <td>12-Jan-2009</td>\n",
       "      <td>890.40</td>\n",
       "      <td>870.26</td>\n",
       "      <td>890.40</td>\n",
       "      <td>864.32</td>\n",
       "      <td>4725049856</td>\n",
       "      <td>-1.0</td>\n",
       "      <td>-19.56</td>\n",
       "      <td>23.62</td>\n",
       "    </tr>\n",
       "    <tr>\n",
       "      <th>7</th>\n",
       "      <td>13-Jan-2009</td>\n",
       "      <td>869.79</td>\n",
       "      <td>871.79</td>\n",
       "      <td>877.02</td>\n",
       "      <td>862.02</td>\n",
       "      <td>5017469952</td>\n",
       "      <td>1.0</td>\n",
       "      <td>-20.14</td>\n",
       "      <td>26.08</td>\n",
       "    </tr>\n",
       "    <tr>\n",
       "      <th>8</th>\n",
       "      <td>14-Jan-2009</td>\n",
       "      <td>867.28</td>\n",
       "      <td>842.62</td>\n",
       "      <td>867.28</td>\n",
       "      <td>836.93</td>\n",
       "      <td>5407880192</td>\n",
       "      <td>-1.0</td>\n",
       "      <td>2.00</td>\n",
       "      <td>15.00</td>\n",
       "    </tr>\n",
       "    <tr>\n",
       "      <th>9</th>\n",
       "      <td>15-Jan-2009</td>\n",
       "      <td>841.99</td>\n",
       "      <td>843.74</td>\n",
       "      <td>851.59</td>\n",
       "      <td>817.04</td>\n",
       "      <td>7807350272</td>\n",
       "      <td>1.0</td>\n",
       "      <td>-24.66</td>\n",
       "      <td>30.35</td>\n",
       "    </tr>\n",
       "    <tr>\n",
       "      <th>10</th>\n",
       "      <td>16-Jan-2009</td>\n",
       "      <td>844.45</td>\n",
       "      <td>850.12</td>\n",
       "      <td>858.13</td>\n",
       "      <td>830.66</td>\n",
       "      <td>6786039808</td>\n",
       "      <td>1.0</td>\n",
       "      <td>1.75</td>\n",
       "      <td>34.55</td>\n",
       "    </tr>\n",
       "  </tbody>\n",
       "</table>\n",
       "</div>"
      ],
      "text/plain": [
       "           Date  Open Price  Close Price  High Price  Low Price      Volume  \\\n",
       "1   05-Jan-2009      929.17       927.45      936.63     919.53  5413910016   \n",
       "2   06-Jan-2009      931.17       934.70      943.85     927.28  5392620032   \n",
       "3   07-Jan-2009      927.45       906.65      927.45     902.37  4704940032   \n",
       "4   08-Jan-2009      905.73       909.73      910.00     896.81  4991549952   \n",
       "5   09-Jan-2009      909.91       890.35      911.93     888.31  4716499968   \n",
       "6   12-Jan-2009      890.40       870.26      890.40     864.32  4725049856   \n",
       "7   13-Jan-2009      869.79       871.79      877.02     862.02  5017469952   \n",
       "8   14-Jan-2009      867.28       842.62      867.28     836.93  5407880192   \n",
       "9   15-Jan-2009      841.99       843.74      851.59     817.04  7807350272   \n",
       "10  16-Jan-2009      844.45       850.12      858.13     830.66  6786039808   \n",
       "\n",
       "    growth   var1   var2  \n",
       "1     -1.0  28.81  35.38  \n",
       "2      1.0  -1.72  17.10  \n",
       "3     -1.0   3.53  16.57  \n",
       "4      1.0 -20.80  25.08  \n",
       "5     -1.0   4.00  13.19  \n",
       "6     -1.0 -19.56  23.62  \n",
       "7      1.0 -20.14  26.08  \n",
       "8     -1.0   2.00  15.00  \n",
       "9      1.0 -24.66  30.35  \n",
       "10     1.0   1.75  34.55  "
      ]
     },
     "execution_count": 178,
     "metadata": {},
     "output_type": "execute_result"
    }
   ],
   "source": [
    "LogRegRule(data)\n",
    "LogRegRule(test_data)\n",
    "data_train_SVM = data.drop(0, axis=0)\n",
    "data_test_SVM = data.drop(0, axis =0)\n",
    "data_test_SVM.head(10)"
   ]
  },
  {
   "cell_type": "markdown",
   "metadata": {},
   "source": [
    "### The first row may be wrong, so I discard it."
   ]
  },
  {
   "cell_type": "markdown",
   "metadata": {},
   "source": []
  },
  {
   "cell_type": "markdown",
   "metadata": {},
   "source": [
    "### Extract var1 and var2 as two variable that may influence stock price"
   ]
  },
  {
   "cell_type": "code",
   "execution_count": 179,
   "metadata": {},
   "outputs": [],
   "source": [
    "X_train = data_train_SVM[['var1', 'var2']]\n",
    "y_train = data_test_SVM['growth']\n",
    "X_test = data_test_SVM[['var1', 'var2']]\n",
    "y_test = data_test_SVM['growth']"
   ]
  },
  {
   "cell_type": "markdown",
   "metadata": {},
   "source": [
    "## Standardization"
   ]
  },
  {
   "cell_type": "code",
   "execution_count": 180,
   "metadata": {},
   "outputs": [],
   "source": [
    "from sklearn.preprocessing import StandardScaler\n",
    "\n",
    "scaler = StandardScaler()\n",
    "scaler.fit(X_train)\n",
    "\n",
    "X_train_std = scaler.transform(X_train)\n",
    "X_test_std = scaler.transform(X_test)"
   ]
  },
  {
   "cell_type": "code",
   "execution_count": 181,
   "metadata": {},
   "outputs": [],
   "source": [
    "from sklearn.svm import SVC"
   ]
  },
  {
   "cell_type": "code",
   "execution_count": 182,
   "metadata": {},
   "outputs": [
    {
     "name": "stdout",
     "output_type": "stream",
     "text": [
      "Penalty = 0.05, Accuracy = 56.89 %\n"
     ]
    }
   ],
   "source": [
    "from sklearn.metrics import accuracy_score\n",
    "\n",
    "# Custom kernel function\n",
    "def my_kernel(X, Y):\n",
    "    return np.dot(X, Y.T)\n",
    "  \n",
    "penalty = 0.05\n",
    "\n",
    "svm = SVC(C=penalty, kernel=\"linear\", probability=True)\n",
    "svm.fit(X_train_std, y_train.values)\n",
    "  \n",
    "acc_rate = accuracy_score(y_test.values, svm.predict(X_test_std)) * 100\n",
    "print(\"Penalty = %.2f, Accuracy = %.2f %%\" % (penalty, acc_rate))\n",
    " "
   ]
  },
  {
   "cell_type": "markdown",
   "metadata": {},
   "source": [
    "### Visualization"
   ]
  },
  {
   "cell_type": "code",
   "execution_count": 183,
   "metadata": {},
   "outputs": [],
   "source": [
    "from matplotlib.colors import ListedColormap\n",
    "\n",
    "def plot_decision_regions(X, y, classifier, test_idx=None, resolution=0.02):\n",
    "\n",
    "    # setup marker generator and color map\n",
    "    markers = ('s', 'x', 'o', '^', 'v')\n",
    "    colors = ('red', 'blue', 'lightgreen', 'gray', 'cyan')\n",
    "    cmap = ListedColormap(colors[:len(np.unique(y))])\n",
    "\n",
    "    # plot the decision surface\n",
    "    x1_min, x1_max = X[:, 0].min() - 1, X[:, 0].max() + 1\n",
    "    x2_min, x2_max = X[:, 1].min() - 1, X[:, 1].max() + 1\n",
    "    xx1, xx2 = np.meshgrid(np.arange(x1_min, x1_max, resolution),\n",
    "                           np.arange(x2_min, x2_max, resolution))\n",
    "    Z = classifier.predict(np.array([xx1.ravel(), xx2.ravel()]).T)\n",
    "    Z = Z.reshape(xx1.shape)\n",
    "    plt.contourf(xx1, xx2, Z, alpha=0.4, cmap=cmap)\n",
    "    plt.xlim(xx1.min(), xx1.max())\n",
    "    plt.ylim(xx2.min(), xx2.max())\n",
    "\n",
    "    for idx, cl in enumerate(np.unique(y)):\n",
    "        plt.scatter(x=X[y == cl, 0], \n",
    "                    y=X[y == cl, 1],\n",
    "                    alpha=0.6, \n",
    "                    c = ['red', 'blue', 'lightgreen'][idx],\n",
    "                    edgecolor='black',\n",
    "                    marker=markers[idx], \n",
    "                    label=cl)\n",
    "\n",
    "    # highlight test samples\n",
    "    if test_idx:\n",
    "        # plot all samples\n",
    "        if not versiontuple(np.__version__) >= versiontuple('1.9.0'):\n",
    "            X_test, y_test = X[list(test_idx), :], y[list(test_idx)]\n",
    "            warnings.warn('Please update to NumPy 1.9.0 or newer')\n",
    "        else:\n",
    "            X_test, y_test = X[test_idx, :], y[test_idx]\n",
    "\n",
    "        plt.scatter(X_test[:, 0],\n",
    "                    X_test[:, 1],\n",
    "                    c='',\n",
    "                    alpha=1.0,\n",
    "                    edgecolor='black',\n",
    "                    linewidths=1,\n",
    "                    marker='o',\n",
    "                    s=55, label='test set')"
   ]
  },
  {
   "cell_type": "code",
   "execution_count": 184,
   "metadata": {},
   "outputs": [],
   "source": [
    "def plot_train_test(location, x, y):\n",
    "  \n",
    "    plt.subplot(1,2,location)\n",
    "\n",
    "    plot_decision_regions(x, y, classifier=svm)\n",
    "    if location == 1:\n",
    "      plt.title(\"Training\")\n",
    "    elif location == 2:\n",
    "      plt.title(\"Testing\")\n",
    "    plt.xlabel('close price - open price')\n",
    "    plt.ylabel('high price - low price')\n",
    "    plt.legend(loc='upper left')\n",
    "    plt.tight_layout()\n",
    "    "
   ]
  },
  {
   "cell_type": "code",
   "execution_count": 185,
   "metadata": {},
   "outputs": [
    {
     "name": "stdout",
     "output_type": "stream",
     "text": [
      "Penalty = 0.05, Train accuracy = 56.89 %, Test accuracy = 56.89 %\n"
     ]
    }
   ],
   "source": [
    "penalty = 0.05\n",
    "\n",
    "svm = SVC(C=penalty, kernel=\"linear\")\n",
    "svm.fit(X_train_std, y_train.values)\n",
    "\n",
    "acc_train = accuracy_score(y_train.values, svm.predict(X_train_std)) * 100\n",
    "acc_test = accuracy_score(y_test.values, svm.predict(X_test_std)) * 100\n",
    "print(\"Penalty = %.2f, Train accuracy = %.2f %%, Test accuracy = %.2f %%\" % (penalty, acc_train, acc_test))"
   ]
  },
  {
   "cell_type": "code",
   "execution_count": 186,
   "metadata": {},
   "outputs": [
    {
     "data": {
      "image/png": "[encoded data removed]",
      "text/plain": [
       "<Figure size 720x360 with 2 Axes>"
      ]
     },
     "metadata": {
      "needs_background": "light"
     },
     "output_type": "display_data"
    },
    {
     "name": "stdout",
     "output_type": "stream",
     "text": [
      "C: 0.05, Train Acc: 56.89 %, Test Acc: 56.89 %\n",
      "Kernel function : linear\n"
     ]
    }
   ],
   "source": [
    "plt.figure(figsize=(10,5))\n",
    "\n",
    "plot_train_test(1, X_train_std, y_train.values)\n",
    "plot_train_test(2, X_test_std, y_test.values)\n",
    "\n",
    "plt.show()\n",
    "\n",
    "print(\"C: %.2f, Train Acc: %.2f %%, Test Acc: %.2f %%\" % (penalty, acc_train, acc_test))\n",
    "print(\"Kernel function : linear\")"
   ]
  },
  {
   "cell_type": "markdown",
   "metadata": {},
   "source": [
    "## Modification "
   ]
  },
  {
   "cell_type": "markdown",
   "metadata": {},
   "source": [
    "### Because the case that the open price was equal to yesturday was too rare, I will alter the training data. Hence, Ignore the decimal number to increase the probability of same price prediction"
   ]
  },
  {
   "cell_type": "markdown",
   "metadata": {},
   "source": [
    "#### Apply data to the new rule"
   ]
  },
  {
   "cell_type": "markdown",
   "metadata": {},
   "source": [
    "### Change the variable to only high price and open price"
   ]
  },
  {
   "cell_type": "code",
   "execution_count": 188,
   "metadata": {},
   "outputs": [],
   "source": [
    "def newrule3(inputdata):\n",
    "    for index, row in inputdata.iterrows():\n",
    "        if index !=0:\n",
    "            if int(inputdata.loc[index - 1, 'Open Price']) > int(row['Open Price'])  :\n",
    "                inputdata.loc[index, 'growth'] = -1\n",
    "            else :\n",
    "                inputdata.loc[index, 'growth'] = 1\n",
    "\n",
    "\n",
    "            inputdata.loc[index, 'var1'] = inputdata.loc[index - 1, 'Open Price']\n",
    "            inputdata.loc[index, 'var2'] = inputdata.loc[index - 1, 'High Price']\n",
    "    return inputdata"
   ]
  },
  {
   "cell_type": "code",
   "execution_count": 189,
   "metadata": {},
   "outputs": [],
   "source": [
    "def trainWith(data, test_data, penalty = 0.05,  kernel=\"linear\"):\n",
    "\n",
    "    data_train_SVM = data.drop(0, axis=0)\n",
    "    data_test_SVM = data.drop(0, axis =0)\n",
    "\n",
    "    X_train = data_train_SVM[['var1', 'var2']]\n",
    "    y_train = data_test_SVM['growth']\n",
    "    X_test = data_test_SVM[['var1', 'var2']]\n",
    "    y_test = data_test_SVM['growth']\n",
    "\n",
    "    from sklearn.preprocessing import StandardScaler\n",
    "    scaler = StandardScaler()\n",
    "    scaler.fit(X_train)\n",
    "\n",
    "    X_train_std = scaler.transform(X_train)\n",
    "    X_test_std = scaler.transform(X_test)\n",
    "\n",
    "\n",
    "    svm = SVC(C=penalty, kernel = kernel)\n",
    "    svm.fit(X_train_std, y_train.values)\n",
    "\n",
    "    acc_train = accuracy_score(y_train.values, svm.predict(X_train_std)) * 100\n",
    "    acc_test = accuracy_score(y_test.values, svm.predict(X_test_std)) * 100\n",
    "    print(\"Penalty = %.2f, Train accuracy = %.2f %%, Test accuracy = %.2f %%\" % (penalty, acc_train, acc_test))\n",
    "\n",
    "    plt.figure(figsize=(10,5))\n",
    "\n",
    "    plot_train_test(1, X_train_std, y_train.values)\n",
    "    plot_train_test(2, X_test_std, y_test.values)\n",
    "\n",
    "    plt.show()\n",
    "\n",
    "    print(\"C: %.2f, Train Acc: %.2f %%, Test Acc: %.2f %%\" % (penalty, acc_train, acc_test))\n",
    "    print(\"Kernel function : \" + kernel)"
   ]
  },
  {
   "cell_type": "code",
   "execution_count": 190,
   "metadata": {},
   "outputs": [
    {
     "name": "stdout",
     "output_type": "stream",
     "text": [
      "Penalty = 0.05, Train accuracy = 73.98 %, Test accuracy = 73.98 %\n"
     ]
    },
    {
     "data": {
      "image/png": "[encoded data removed]",
      "text/plain": [
       "<Figure size 720x360 with 2 Axes>"
      ]
     },
     "metadata": {
      "needs_background": "light"
     },
     "output_type": "display_data"
    },
    {
     "name": "stdout",
     "output_type": "stream",
     "text": [
      "C: 0.05, Train Acc: 73.98 %, Test Acc: 73.98 %\n",
      "Kernel function : linear\n"
     ]
    }
   ],
   "source": [
    "mod1_data = LogRegRule_mod(data)\n",
    "mod1_test_data = LogRegRule_mod(test_data)\n",
    "trainWith(mod1_data, mod1_test_data)"
   ]
  },
  {
   "cell_type": "code",
   "execution_count": 192,
   "metadata": {},
   "outputs": [
    {
     "name": "stdout",
     "output_type": "stream",
     "text": [
      "Penalty = 0.05, Train accuracy = 58.08 %, Test accuracy = 58.08 %\n"
     ]
    },
    {
     "data": {
      "image/png": "[encoded data removed]",
      "text/plain": [
       "<Figure size 720x360 with 2 Axes>"
      ]
     },
     "metadata": {
      "needs_background": "light"
     },
     "output_type": "display_data"
    },
    {
     "name": "stdout",
     "output_type": "stream",
     "text": [
      "C: 0.05, Train Acc: 58.08 %, Test Acc: 58.08 %\n",
      "Kernel function : linear\n"
     ]
    }
   ],
   "source": [
    "mod3_data = newrule3(data)\n",
    "mod3_test_data = newrule3(test_data)\n",
    "trainWith(mod3_data, mod3_test_data)"
   ]
  },
  {
   "cell_type": "markdown",
   "metadata": {},
   "source": [
    "### Now, we realize that second rule is the most reliable model. Moreover, If we try to modify the penalty to 0.01, the accurary will improve a little."
   ]
  },
  {
   "cell_type": "code",
   "execution_count": 193,
   "metadata": {},
   "outputs": [
    {
     "name": "stdout",
     "output_type": "stream",
     "text": [
      "Penalty = 0.01, Train accuracy = 73.98 %, Test accuracy = 73.98 %\n"
     ]
    },
    {
     "data": {
      "image/png": "[encoded data removed]",
      "text/plain": [
       "<Figure size 720x360 with 2 Axes>"
      ]
     },
     "metadata": {
      "needs_background": "light"
     },
     "output_type": "display_data"
    },
    {
     "name": "stdout",
     "output_type": "stream",
     "text": [
      "C: 0.01, Train Acc: 73.98 %, Test Acc: 73.98 %\n",
      "Kernel function : linear\n"
     ]
    }
   ],
   "source": [
    "mod2_data = LogRegRule_mod(data)\n",
    "mod2_test_data = LogRegRule_mod(test_data)\n",
    "trainWith(mod2_data, mod2_test_data,penalty= 0.01)"
   ]
  },
  {
   "cell_type": "markdown",
   "metadata": {},
   "source": [
    "### Or, we could try another function, such as 'poly', or 'sigmoid', but the accuracy will become lower."
   ]
  },
  {
   "cell_type": "code",
   "execution_count": 194,
   "metadata": {},
   "outputs": [
    {
     "name": "stdout",
     "output_type": "stream",
     "text": [
      "Penalty = 0.01, Train accuracy = 73.98 %, Test accuracy = 73.98 %\n"
     ]
    },
    {
     "data": {
      "image/png": "[encoded data removed]",
      "text/plain": [
       "<Figure size 720x360 with 2 Axes>"
      ]
     },
     "metadata": {
      "needs_background": "light"
     },
     "output_type": "display_data"
    },
    {
     "name": "stdout",
     "output_type": "stream",
     "text": [
      "C: 0.01, Train Acc: 73.98 %, Test Acc: 73.98 %\n",
      "Kernel function : poly\n"
     ]
    }
   ],
   "source": [
    "trainWith(mod2_data, mod2_test_data,penalty= 0.01, kernel= 'poly')"
   ]
  },
  {
   "cell_type": "code",
   "execution_count": 195,
   "metadata": {},
   "outputs": [
    {
     "name": "stdout",
     "output_type": "stream",
     "text": [
      "Penalty = 0.01, Train accuracy = 73.98 %, Test accuracy = 73.98 %\n"
     ]
    },
    {
     "data": {
      "image/png": "[encoded data removed]",
      "text/plain": [
       "<Figure size 720x360 with 2 Axes>"
      ]
     },
     "metadata": {
      "needs_background": "light"
     },
     "output_type": "display_data"
    },
    {
     "name": "stdout",
     "output_type": "stream",
     "text": [
      "C: 0.01, Train Acc: 73.98 %, Test Acc: 73.98 %\n",
      "Kernel function : sigmoid\n"
     ]
    }
   ],
   "source": [
    "trainWith(mod2_data, mod2_test_data,penalty= 0.01, kernel= 'sigmoid')"
   ]
  },
  {
   "cell_type": "markdown",
   "metadata": {},
   "source": [
    "### Why the accuracy is so low???\n",
    "### Because this data is much more difficult to analyze than other data. It is obvious that stock market price will not fluctuate just because of the stock price of yesterday. There are other factors that may influence the stock price. For example, the news of the stock, and the comprehensively market environment will change the result significantly. It is smart to avoid the data in 2008 when the depression was happened, but some other events like the recession in Europe around 2012 may influence the results. Hence, it is fair to say that using classification model to predict stock market is not quite a good idea. "
   ]
  },
  {
   "cell_type": "markdown",
   "metadata": {},
   "source": [
    "## Discussion"
   ]
  },
  {
   "cell_type": "markdown",
   "metadata": {},
   "source": [
    "### Although the accuracy will improve after we apply the modified rule, the problem is the model predict stock price tomorrow will drop every day. Hence, the value of the model will vanished because investors cannot buy the stock based on the model."
   ]
  },
  {
   "cell_type": "markdown",
   "metadata": {},
   "source": [
    "# NN"
   ]
  },
  {
   "cell_type": "code",
   "execution_count": 196,
   "metadata": {},
   "outputs": [],
   "source": [
    "import tensorflow as tf #use Tensorflow 2.0"
   ]
  },
  {
   "cell_type": "markdown",
   "metadata": {},
   "source": [
    "### Prepare the data"
   ]
  },
  {
   "cell_type": "code",
   "execution_count": 197,
   "metadata": {},
   "outputs": [],
   "source": [
    "data = pd.read_csv('S&P_stock_data.csv')\n",
    "test_data = pd.read_csv('test_data.csv')"
   ]
  },
  {
   "cell_type": "code",
   "execution_count": 198,
   "metadata": {},
   "outputs": [],
   "source": [
    "def NNRule(inputdata):\n",
    "    for index, row in inputdata.iterrows():\n",
    "        if index !=0:\n",
    "            if int(inputdata.loc[index - 1, 'Open Price']) > int(row['Open Price'])  :\n",
    "                inputdata.loc[index, 'growth'] = 0\n",
    "            else :\n",
    "                inputdata.loc[index, 'growth'] = 1"
   ]
  },
  {
   "cell_type": "code",
   "execution_count": 199,
   "metadata": {},
   "outputs": [],
   "source": [
    "NNRule(data)\n",
    "NNRule(test_data)\n",
    "data.drop(0, axis= 0 , inplace= True)\n",
    "test_data.drop(0, axis= 0 , inplace= True)\n",
    "data.drop(labels='Date', axis=1, inplace = True)\n",
    "test_data.drop(labels='Date', axis=1, inplace = True)\n",
    "\n",
    "X_train = data.loc[:, data.columns != 'growth']\n",
    "y_train = data['growth']\n",
    "X_test = test_data.loc[:, data.columns != 'growth']\n",
    "y_test = test_data['growth']"
   ]
  },
  {
   "cell_type": "markdown",
   "metadata": {},
   "source": [
    "## Feature Scaling"
   ]
  },
  {
   "cell_type": "code",
   "execution_count": 200,
   "metadata": {},
   "outputs": [
    {
     "name": "stderr",
     "output_type": "stream",
     "text": [
      "/anaconda3/lib/python3.7/site-packages/sklearn/preprocessing/data.py:625: DataConversionWarning: Data with input dtype int64, float64 were all converted to float64 by StandardScaler.\n",
      "  return self.partial_fit(X, y)\n",
      "/anaconda3/lib/python3.7/site-packages/sklearn/base.py:462: DataConversionWarning: Data with input dtype int64, float64 were all converted to float64 by StandardScaler.\n",
      "  return self.fit(X, **fit_params).transform(X)\n",
      "/anaconda3/lib/python3.7/site-packages/ipykernel_launcher.py:5: DataConversionWarning: Data with input dtype int64, float64 were all converted to float64 by StandardScaler.\n",
      "  \"\"\"\n"
     ]
    },
    {
     "data": {
      "text/plain": [
       "array([[-1.49927707, -1.50420504, -1.50239268, -1.50027054,  1.82489931],\n",
       "       [-1.49515682, -1.489268  , -1.48750433, -1.48431422,  1.80914502],\n",
       "       [-1.50282049, -1.54705891, -1.52132273, -1.53560093,  1.30027155],\n",
       "       ...,\n",
       "       [ 2.12022338,  2.1220765 ,  2.10840213,  2.12986517, -1.34802694],\n",
       "       [ 2.12650677,  2.09337678,  2.11759908,  2.11117054, -1.19537958],\n",
       "       [ 2.11534088,  2.13911503,  2.12537319,  2.12918574, -0.81496083]])"
      ]
     },
     "execution_count": 200,
     "metadata": {},
     "output_type": "execute_result"
    }
   ],
   "source": [
    "from sklearn.preprocessing import StandardScaler\n",
    "sc = StandardScaler()\n",
    "\n",
    "X_train = sc.fit_transform(X_train)\n",
    "X_test = sc.transform(X_test)\n",
    "X_train"
   ]
  },
  {
   "cell_type": "markdown",
   "metadata": {},
   "source": [
    "### Import Keras"
   ]
  },
  {
   "cell_type": "code",
   "execution_count": 201,
   "metadata": {},
   "outputs": [],
   "source": [
    "from tensorflow.keras.models import Sequential\n",
    "from tensorflow.keras.layers import Dense"
   ]
  },
  {
   "cell_type": "markdown",
   "metadata": {},
   "source": [
    "### Initialising the ANN"
   ]
  },
  {
   "cell_type": "code",
   "execution_count": 202,
   "metadata": {},
   "outputs": [],
   "source": [
    "classifier = Sequential()"
   ]
  },
  {
   "cell_type": "markdown",
   "metadata": {},
   "source": [
    "### Adding the input layer and the first hidden layer"
   ]
  },
  {
   "cell_type": "code",
   "execution_count": 203,
   "metadata": {},
   "outputs": [],
   "source": [
    "hidden_units = 10    # how many neurons in the hidden layer\n",
    "activation = 'relu'  # activation function for hidden layer\n",
    "l2 = 0.001           # regularization - how much we penalize large parameter values\n",
    "learning_rate = 0.1  # how big our steps are in gradient descent\n",
    "epochs = 20          # how many epochs to train for\n",
    "batch_size = 32      # how many samples to use for each gradient descent update"
   ]
  },
  {
   "cell_type": "code",
   "execution_count": 204,
   "metadata": {},
   "outputs": [],
   "source": [
    "classifier.add(Dense(activation = activation, input_dim =5, units = hidden_units ))\n",
    "\n",
    "classifier.add(Dense(input_dim = hidden_units, units =1, activation = 'sigmoid'))\n",
    "\n",
    "classifier.compile(loss='binary_crossentropy',\n",
    "              # Adam is a kind of gradient descent\n",
    "              optimizer= 'adam',\n",
    "              metrics=['accuracy'])"
   ]
  },
  {
   "cell_type": "code",
   "execution_count": 205,
   "metadata": {},
   "outputs": [
    {
     "name": "stdout",
     "output_type": "stream",
     "text": [
      "Epoch 1/20\n",
      "2264/2264 [==============================] - 0s 105us/sample - loss: 0.6836 - accuracy: 0.5654\n",
      "Epoch 2/20\n",
      "2264/2264 [==============================] - 0s 33us/sample - loss: 0.6780 - accuracy: 0.5848\n",
      "Epoch 3/20\n",
      "2264/2264 [==============================] - 0s 31us/sample - loss: 0.6776 - accuracy: 0.5852\n",
      "Epoch 4/20\n",
      "2264/2264 [==============================] - 0s 31us/sample - loss: 0.6773 - accuracy: 0.5835\n",
      "Epoch 5/20\n",
      "2264/2264 [==============================] - 0s 31us/sample - loss: 0.6766 - accuracy: 0.5826\n",
      "Epoch 6/20\n",
      "2264/2264 [==============================] - 0s 31us/sample - loss: 0.6762 - accuracy: 0.5861\n",
      "Epoch 7/20\n",
      "2264/2264 [==============================] - 0s 31us/sample - loss: 0.6761 - accuracy: 0.5848\n",
      "Epoch 8/20\n",
      "2264/2264 [==============================] - 0s 33us/sample - loss: 0.6755 - accuracy: 0.5830\n",
      "Epoch 9/20\n",
      "2264/2264 [==============================] - 0s 31us/sample - loss: 0.6756 - accuracy: 0.5852\n",
      "Epoch 10/20\n",
      "2264/2264 [==============================] - 0s 30us/sample - loss: 0.6756 - accuracy: 0.5839\n",
      "Epoch 11/20\n",
      "2264/2264 [==============================] - 0s 32us/sample - loss: 0.6752 - accuracy: 0.5844\n",
      "Epoch 12/20\n",
      "2264/2264 [==============================] - 0s 31us/sample - loss: 0.6750 - accuracy: 0.5870\n",
      "Epoch 13/20\n",
      "2264/2264 [==============================] - 0s 31us/sample - loss: 0.6749 - accuracy: 0.5857\n",
      "Epoch 14/20\n",
      "2264/2264 [==============================] - 0s 33us/sample - loss: 0.6746 - accuracy: 0.5892\n",
      "Epoch 15/20\n",
      "2264/2264 [==============================] - 0s 30us/sample - loss: 0.6747 - accuracy: 0.5879\n",
      "Epoch 16/20\n",
      "2264/2264 [==============================] - 0s 31us/sample - loss: 0.6751 - accuracy: 0.5919\n",
      "Epoch 17/20\n",
      "2264/2264 [==============================] - 0s 30us/sample - loss: 0.6747 - accuracy: 0.5866\n",
      "Epoch 18/20\n",
      "2264/2264 [==============================] - 0s 31us/sample - loss: 0.6746 - accuracy: 0.5883\n",
      "Epoch 19/20\n",
      "2264/2264 [==============================] - 0s 31us/sample - loss: 0.6746 - accuracy: 0.5923\n",
      "Epoch 20/20\n",
      "2264/2264 [==============================] - 0s 31us/sample - loss: 0.6743 - accuracy: 0.5879\n"
     ]
    },
    {
     "data": {
      "text/plain": [
       "<tensorflow.python.keras.callbacks.History at 0x1a375a5b38>"
      ]
     },
     "execution_count": 205,
     "metadata": {},
     "output_type": "execute_result"
    }
   ],
   "source": [
    "classifier.fit(X_train, y_train, batch_size=batch_size, epochs=epochs)"
   ]
  },
  {
   "cell_type": "code",
   "execution_count": 206,
   "metadata": {},
   "outputs": [
    {
     "name": "stdout",
     "output_type": "stream",
     "text": [
      "251/251 [==============================] - 0s 211us/sample - loss: 0.7107 - accuracy: 0.5339\n",
      "2264/2264 [==============================] - 0s 17us/sample - loss: 0.6736 - accuracy: 0.5901\n",
      "test accuracy: 0.53386456\n",
      "training data accuracy0.590106\n"
     ]
    }
   ],
   "source": [
    "test_acc = classifier.evaluate(X_test, y_test, batch_size=32)[1]\n",
    "train_acc = classifier.evaluate(X_train, y_train, batch_size=32)[1]\n",
    "print(\"test accuracy: \" + str(test_acc))\n",
    "print(\"training data accuracy\"+str(train_acc))"
   ]
  },
  {
   "cell_type": "markdown",
   "metadata": {},
   "source": [
    "### The accuracy of the NN is close to the result of Logistic Regression. "
   ]
  },
  {
   "cell_type": "markdown",
   "metadata": {},
   "source": [
    "### Now we try to alter the cooefficient."
   ]
  },
  {
   "cell_type": "code",
   "execution_count": 207,
   "metadata": {},
   "outputs": [],
   "source": [
    "hidden_units = 20\n",
    "epochs= 150\n",
    "classifier = Sequential()\n",
    "\n",
    "classifier.add(Dense(activation = activation, input_dim =5, units = hidden_units ))\n",
    "\n",
    "classifier.add(Dense(input_dim = hidden_units, units =hidden_units, activation = 'relu'))\n",
    "\n",
    "classifier.add(Dense(input_dim = hidden_units, units =hidden_units, activation = 'relu'))\n",
    "\n",
    "classifier.add(Dense(input_dim = hidden_units, units =hidden_units, activation = 'relu'))\n",
    "\n",
    "classifier.add(Dense(input_dim = hidden_units, units =1, activation = 'sigmoid'))\n",
    "\n",
    "classifier.compile(loss='binary_crossentropy',\n",
    "              # Adam is a kind of gradient descent\n",
    "              optimizer= 'adam',\n",
    "              metrics=['accuracy'])\n"
   ]
  },
  {
   "cell_type": "code",
   "execution_count": 208,
   "metadata": {},
   "outputs": [
    {
     "name": "stdout",
     "output_type": "stream",
     "text": [
      "Epoch 1/150\n",
      "2264/2264 [==============================] - 0s 122us/sample - loss: 0.6842 - accuracy: 0.5671\n",
      "Epoch 2/150\n",
      "2264/2264 [==============================] - 0s 41us/sample - loss: 0.6780 - accuracy: 0.5839\n",
      "Epoch 3/150\n",
      "2264/2264 [==============================] - 0s 37us/sample - loss: 0.6779 - accuracy: 0.5822\n",
      "Epoch 4/150\n",
      "2264/2264 [==============================] - 0s 36us/sample - loss: 0.6767 - accuracy: 0.5844\n",
      "Epoch 5/150\n",
      "2264/2264 [==============================] - 0s 37us/sample - loss: 0.6766 - accuracy: 0.5791\n",
      "Epoch 6/150\n",
      "2264/2264 [==============================] - 0s 37us/sample - loss: 0.6761 - accuracy: 0.5857\n",
      "Epoch 7/150\n",
      "2264/2264 [==============================] - 0s 37us/sample - loss: 0.6754 - accuracy: 0.5879\n",
      "Epoch 8/150\n",
      "2264/2264 [==============================] - 0s 37us/sample - loss: 0.6751 - accuracy: 0.5861\n",
      "Epoch 9/150\n",
      "2264/2264 [==============================] - 0s 37us/sample - loss: 0.6758 - accuracy: 0.5870\n",
      "Epoch 10/150\n",
      "2264/2264 [==============================] - 0s 38us/sample - loss: 0.6749 - accuracy: 0.5870\n",
      "Epoch 11/150\n",
      "2264/2264 [==============================] - 0s 38us/sample - loss: 0.6748 - accuracy: 0.5848\n",
      "Epoch 12/150\n",
      "2264/2264 [==============================] - 0s 39us/sample - loss: 0.6741 - accuracy: 0.5870\n",
      "Epoch 13/150\n",
      "2264/2264 [==============================] - 0s 37us/sample - loss: 0.6742 - accuracy: 0.5875\n",
      "Epoch 14/150\n",
      "2264/2264 [==============================] - 0s 36us/sample - loss: 0.6741 - accuracy: 0.5870\n",
      "Epoch 15/150\n",
      "2264/2264 [==============================] - 0s 36us/sample - loss: 0.6737 - accuracy: 0.5875\n",
      "Epoch 16/150\n",
      "2264/2264 [==============================] - 0s 37us/sample - loss: 0.6744 - accuracy: 0.5861\n",
      "Epoch 17/150\n",
      "2264/2264 [==============================] - 0s 36us/sample - loss: 0.6735 - accuracy: 0.5901\n",
      "Epoch 18/150\n",
      "2264/2264 [==============================] - 0s 36us/sample - loss: 0.6736 - accuracy: 0.5870\n",
      "Epoch 19/150\n",
      "2264/2264 [==============================] - 0s 37us/sample - loss: 0.6734 - accuracy: 0.5905\n",
      "Epoch 20/150\n",
      "2264/2264 [==============================] - 0s 36us/sample - loss: 0.6740 - accuracy: 0.5870\n",
      "Epoch 21/150\n",
      "2264/2264 [==============================] - 0s 37us/sample - loss: 0.6739 - accuracy: 0.5866\n",
      "Epoch 22/150\n",
      "2264/2264 [==============================] - 0s 37us/sample - loss: 0.6722 - accuracy: 0.5936\n",
      "Epoch 23/150\n",
      "2264/2264 [==============================] - 0s 37us/sample - loss: 0.6739 - accuracy: 0.5888\n",
      "Epoch 24/150\n",
      "2264/2264 [==============================] - 0s 38us/sample - loss: 0.6729 - accuracy: 0.5901\n",
      "Epoch 25/150\n",
      "2264/2264 [==============================] - 0s 38us/sample - loss: 0.6724 - accuracy: 0.5901\n",
      "Epoch 26/150\n",
      "2264/2264 [==============================] - 0s 37us/sample - loss: 0.6728 - accuracy: 0.5910\n",
      "Epoch 27/150\n",
      "2264/2264 [==============================] - 0s 38us/sample - loss: 0.6728 - accuracy: 0.5910\n",
      "Epoch 28/150\n",
      "2264/2264 [==============================] - 0s 37us/sample - loss: 0.6718 - accuracy: 0.5910\n",
      "Epoch 29/150\n",
      "2264/2264 [==============================] - 0s 36us/sample - loss: 0.6722 - accuracy: 0.5901\n",
      "Epoch 30/150\n",
      "2264/2264 [==============================] - 0s 38us/sample - loss: 0.6724 - accuracy: 0.5888\n",
      "Epoch 31/150\n",
      "2264/2264 [==============================] - 0s 37us/sample - loss: 0.6724 - accuracy: 0.5901\n",
      "Epoch 32/150\n",
      "2264/2264 [==============================] - 0s 39us/sample - loss: 0.6723 - accuracy: 0.5875\n",
      "Epoch 33/150\n",
      "2264/2264 [==============================] - 0s 37us/sample - loss: 0.6718 - accuracy: 0.5928\n",
      "Epoch 34/150\n",
      "2264/2264 [==============================] - 0s 38us/sample - loss: 0.6725 - accuracy: 0.5923\n",
      "Epoch 35/150\n",
      "2264/2264 [==============================] - 0s 36us/sample - loss: 0.6715 - accuracy: 0.5954\n",
      "Epoch 36/150\n",
      "2264/2264 [==============================] - 0s 36us/sample - loss: 0.6720 - accuracy: 0.5919\n",
      "Epoch 37/150\n",
      "2264/2264 [==============================] - 0s 37us/sample - loss: 0.6714 - accuracy: 0.5892\n",
      "Epoch 38/150\n",
      "2264/2264 [==============================] - 0s 37us/sample - loss: 0.6715 - accuracy: 0.5866\n",
      "Epoch 39/150\n",
      "2264/2264 [==============================] - 0s 37us/sample - loss: 0.6716 - accuracy: 0.5892\n",
      "Epoch 40/150\n",
      "2264/2264 [==============================] - 0s 37us/sample - loss: 0.6718 - accuracy: 0.5875\n",
      "Epoch 41/150\n",
      "2264/2264 [==============================] - 0s 38us/sample - loss: 0.6709 - accuracy: 0.5932\n",
      "Epoch 42/150\n",
      "2264/2264 [==============================] - 0s 37us/sample - loss: 0.6718 - accuracy: 0.5923\n",
      "Epoch 43/150\n",
      "2264/2264 [==============================] - 0s 38us/sample - loss: 0.6706 - accuracy: 0.5941\n",
      "Epoch 44/150\n",
      "2264/2264 [==============================] - 0s 39us/sample - loss: 0.6713 - accuracy: 0.5901\n",
      "Epoch 45/150\n",
      "2264/2264 [==============================] - 0s 41us/sample - loss: 0.6705 - accuracy: 0.5901\n",
      "Epoch 46/150\n",
      "2264/2264 [==============================] - 0s 38us/sample - loss: 0.6704 - accuracy: 0.5892\n",
      "Epoch 47/150\n",
      "2264/2264 [==============================] - 0s 38us/sample - loss: 0.6704 - accuracy: 0.5932\n",
      "Epoch 48/150\n",
      "2264/2264 [==============================] - 0s 38us/sample - loss: 0.6707 - accuracy: 0.5945\n",
      "Epoch 49/150\n",
      "2264/2264 [==============================] - 0s 36us/sample - loss: 0.6701 - accuracy: 0.5963\n",
      "Epoch 50/150\n",
      "2264/2264 [==============================] - 0s 37us/sample - loss: 0.6702 - accuracy: 0.5985\n",
      "Epoch 51/150\n",
      "2264/2264 [==============================] - 0s 37us/sample - loss: 0.6702 - accuracy: 0.5932\n",
      "Epoch 52/150\n",
      "2264/2264 [==============================] - 0s 37us/sample - loss: 0.6700 - accuracy: 0.5936\n",
      "Epoch 53/150\n",
      "2264/2264 [==============================] - 0s 37us/sample - loss: 0.6711 - accuracy: 0.5919\n",
      "Epoch 54/150\n",
      "2264/2264 [==============================] - 0s 37us/sample - loss: 0.6709 - accuracy: 0.5897\n",
      "Epoch 55/150\n",
      "2264/2264 [==============================] - 0s 36us/sample - loss: 0.6700 - accuracy: 0.5928\n",
      "Epoch 56/150\n",
      "2264/2264 [==============================] - 0s 37us/sample - loss: 0.6705 - accuracy: 0.5941\n",
      "Epoch 57/150\n",
      "2264/2264 [==============================] - 0s 36us/sample - loss: 0.6699 - accuracy: 0.5936\n",
      "Epoch 58/150\n",
      "2264/2264 [==============================] - 0s 37us/sample - loss: 0.6706 - accuracy: 0.5914\n",
      "Epoch 59/150\n",
      "2264/2264 [==============================] - 0s 38us/sample - loss: 0.6706 - accuracy: 0.5875\n",
      "Epoch 60/150\n",
      "2264/2264 [==============================] - 0s 38us/sample - loss: 0.6704 - accuracy: 0.5861\n",
      "Epoch 61/150\n",
      "2264/2264 [==============================] - 0s 36us/sample - loss: 0.6703 - accuracy: 0.5910\n",
      "Epoch 62/150\n",
      "2264/2264 [==============================] - 0s 36us/sample - loss: 0.6701 - accuracy: 0.5888\n",
      "Epoch 63/150\n",
      "2264/2264 [==============================] - 0s 37us/sample - loss: 0.6695 - accuracy: 0.5914\n",
      "Epoch 64/150\n",
      "2264/2264 [==============================] - 0s 37us/sample - loss: 0.6702 - accuracy: 0.5861\n",
      "Epoch 65/150\n",
      "2264/2264 [==============================] - 0s 36us/sample - loss: 0.6693 - accuracy: 0.5954\n",
      "Epoch 66/150\n",
      "2264/2264 [==============================] - 0s 37us/sample - loss: 0.6703 - accuracy: 0.5923\n",
      "Epoch 67/150\n",
      "2264/2264 [==============================] - 0s 36us/sample - loss: 0.6697 - accuracy: 0.5919\n",
      "Epoch 68/150\n",
      "2264/2264 [==============================] - 0s 36us/sample - loss: 0.6691 - accuracy: 0.5897\n",
      "Epoch 69/150\n",
      "2264/2264 [==============================] - 0s 38us/sample - loss: 0.6696 - accuracy: 0.5941\n",
      "Epoch 70/150\n",
      "2264/2264 [==============================] - 0s 36us/sample - loss: 0.6699 - accuracy: 0.5928\n",
      "Epoch 71/150\n",
      "2264/2264 [==============================] - 0s 37us/sample - loss: 0.6698 - accuracy: 0.5941\n",
      "Epoch 72/150\n",
      "2264/2264 [==============================] - 0s 38us/sample - loss: 0.6694 - accuracy: 0.5905\n",
      "Epoch 73/150\n",
      "2264/2264 [==============================] - 0s 39us/sample - loss: 0.6696 - accuracy: 0.5879\n",
      "Epoch 74/150\n",
      "2264/2264 [==============================] - 0s 37us/sample - loss: 0.6695 - accuracy: 0.5941\n",
      "Epoch 75/150\n",
      "2264/2264 [==============================] - 0s 36us/sample - loss: 0.6693 - accuracy: 0.5914\n",
      "Epoch 76/150\n",
      "2264/2264 [==============================] - 0s 36us/sample - loss: 0.6689 - accuracy: 0.5901\n",
      "Epoch 77/150\n",
      "2264/2264 [==============================] - 0s 37us/sample - loss: 0.6697 - accuracy: 0.5972\n",
      "Epoch 78/150\n",
      "2264/2264 [==============================] - 0s 38us/sample - loss: 0.6696 - accuracy: 0.5879\n",
      "Epoch 79/150\n",
      "2264/2264 [==============================] - 0s 37us/sample - loss: 0.6703 - accuracy: 0.5928\n",
      "Epoch 80/150\n",
      "2264/2264 [==============================] - 0s 38us/sample - loss: 0.6695 - accuracy: 0.5892\n",
      "Epoch 81/150\n",
      "2264/2264 [==============================] - 0s 37us/sample - loss: 0.6696 - accuracy: 0.5950\n",
      "Epoch 82/150\n",
      "2264/2264 [==============================] - 0s 37us/sample - loss: 0.6693 - accuracy: 0.5936\n",
      "Epoch 83/150\n",
      "2264/2264 [==============================] - 0s 37us/sample - loss: 0.6698 - accuracy: 0.5954\n",
      "Epoch 84/150\n",
      "2264/2264 [==============================] - 0s 40us/sample - loss: 0.6688 - accuracy: 0.5950\n",
      "Epoch 85/150\n",
      "2264/2264 [==============================] - 0s 40us/sample - loss: 0.6688 - accuracy: 0.5883\n",
      "Epoch 86/150\n",
      "2264/2264 [==============================] - 0s 37us/sample - loss: 0.6692 - accuracy: 0.5897\n",
      "Epoch 87/150\n",
      "2264/2264 [==============================] - 0s 36us/sample - loss: 0.6689 - accuracy: 0.5892\n",
      "Epoch 88/150\n",
      "2264/2264 [==============================] - 0s 36us/sample - loss: 0.6686 - accuracy: 0.5919\n",
      "Epoch 89/150\n",
      "2264/2264 [==============================] - 0s 38us/sample - loss: 0.6696 - accuracy: 0.5936\n",
      "Epoch 90/150\n",
      "2264/2264 [==============================] - 0s 38us/sample - loss: 0.6691 - accuracy: 0.5936\n",
      "Epoch 91/150\n",
      "2264/2264 [==============================] - 0s 38us/sample - loss: 0.6689 - accuracy: 0.5928\n",
      "Epoch 92/150\n",
      "2264/2264 [==============================] - 0s 37us/sample - loss: 0.6683 - accuracy: 0.5945\n",
      "Epoch 93/150\n",
      "2264/2264 [==============================] - 0s 37us/sample - loss: 0.6686 - accuracy: 0.5967\n",
      "Epoch 94/150\n",
      "2264/2264 [==============================] - 0s 36us/sample - loss: 0.6680 - accuracy: 0.5950\n",
      "Epoch 95/150\n",
      "2264/2264 [==============================] - 0s 36us/sample - loss: 0.6686 - accuracy: 0.5945\n",
      "Epoch 96/150\n",
      "2264/2264 [==============================] - 0s 37us/sample - loss: 0.6685 - accuracy: 0.5932\n",
      "Epoch 97/150\n",
      "2264/2264 [==============================] - 0s 36us/sample - loss: 0.6682 - accuracy: 0.5883\n",
      "Epoch 98/150\n",
      "2264/2264 [==============================] - 0s 36us/sample - loss: 0.6683 - accuracy: 0.5958\n",
      "Epoch 99/150\n",
      "2264/2264 [==============================] - 0s 37us/sample - loss: 0.6681 - accuracy: 0.5941\n",
      "Epoch 100/150\n",
      "2264/2264 [==============================] - 0s 36us/sample - loss: 0.6680 - accuracy: 0.5905\n",
      "Epoch 101/150\n",
      "2264/2264 [==============================] - 0s 37us/sample - loss: 0.6689 - accuracy: 0.5945\n",
      "Epoch 102/150\n",
      "2264/2264 [==============================] - 0s 36us/sample - loss: 0.6672 - accuracy: 0.5923\n",
      "Epoch 103/150\n",
      "2264/2264 [==============================] - 0s 36us/sample - loss: 0.6686 - accuracy: 0.5954\n",
      "Epoch 104/150\n",
      "2264/2264 [==============================] - 0s 37us/sample - loss: 0.6695 - accuracy: 0.5950\n",
      "Epoch 105/150\n",
      "2264/2264 [==============================] - 0s 37us/sample - loss: 0.6680 - accuracy: 0.5919\n",
      "Epoch 106/150\n",
      "2264/2264 [==============================] - 0s 40us/sample - loss: 0.6684 - accuracy: 0.5901\n",
      "Epoch 107/150\n",
      "2264/2264 [==============================] - 0s 37us/sample - loss: 0.6684 - accuracy: 0.5914\n",
      "Epoch 108/150\n",
      "2264/2264 [==============================] - 0s 37us/sample - loss: 0.6676 - accuracy: 0.5972\n",
      "Epoch 109/150\n",
      "2264/2264 [==============================] - 0s 37us/sample - loss: 0.6676 - accuracy: 0.5967\n",
      "Epoch 110/150\n",
      "2264/2264 [==============================] - 0s 36us/sample - loss: 0.6677 - accuracy: 0.5919\n",
      "Epoch 111/150\n",
      "2264/2264 [==============================] - 0s 37us/sample - loss: 0.6691 - accuracy: 0.5901\n",
      "Epoch 112/150\n",
      "2264/2264 [==============================] - 0s 37us/sample - loss: 0.6678 - accuracy: 0.5950\n",
      "Epoch 113/150\n",
      "2264/2264 [==============================] - 0s 38us/sample - loss: 0.6675 - accuracy: 0.5936\n",
      "Epoch 114/150\n",
      "2264/2264 [==============================] - 0s 38us/sample - loss: 0.6694 - accuracy: 0.5901\n",
      "Epoch 115/150\n",
      "2264/2264 [==============================] - 0s 36us/sample - loss: 0.6688 - accuracy: 0.5928\n",
      "Epoch 116/150\n",
      "2264/2264 [==============================] - 0s 36us/sample - loss: 0.6682 - accuracy: 0.5892\n",
      "Epoch 117/150\n",
      "2264/2264 [==============================] - 0s 36us/sample - loss: 0.6687 - accuracy: 0.5914\n",
      "Epoch 118/150\n",
      "2264/2264 [==============================] - 0s 38us/sample - loss: 0.6687 - accuracy: 0.5963\n",
      "Epoch 119/150\n",
      "2264/2264 [==============================] - 0s 38us/sample - loss: 0.6676 - accuracy: 0.5897\n",
      "Epoch 120/150\n",
      "2264/2264 [==============================] - 0s 37us/sample - loss: 0.6675 - accuracy: 0.5932\n",
      "Epoch 121/150\n",
      "2264/2264 [==============================] - 0s 38us/sample - loss: 0.6673 - accuracy: 0.5950\n",
      "Epoch 122/150\n",
      "2264/2264 [==============================] - 0s 38us/sample - loss: 0.6668 - accuracy: 0.5985\n",
      "Epoch 123/150\n",
      "2264/2264 [==============================] - 0s 36us/sample - loss: 0.6667 - accuracy: 0.5941\n",
      "Epoch 124/150\n",
      "2264/2264 [==============================] - 0s 37us/sample - loss: 0.6681 - accuracy: 0.5950\n",
      "Epoch 125/150\n",
      "2264/2264 [==============================] - 0s 36us/sample - loss: 0.6682 - accuracy: 0.5945\n",
      "Epoch 126/150\n",
      "2264/2264 [==============================] - 0s 36us/sample - loss: 0.6667 - accuracy: 0.5954\n",
      "Epoch 127/150\n",
      "2264/2264 [==============================] - 0s 38us/sample - loss: 0.6676 - accuracy: 0.5932\n",
      "Epoch 128/150\n",
      "2264/2264 [==============================] - 0s 37us/sample - loss: 0.6675 - accuracy: 0.5932\n",
      "Epoch 129/150\n",
      "2264/2264 [==============================] - 0s 37us/sample - loss: 0.6679 - accuracy: 0.5932\n",
      "Epoch 130/150\n",
      "2264/2264 [==============================] - 0s 38us/sample - loss: 0.6674 - accuracy: 0.5910\n",
      "Epoch 131/150\n",
      "2264/2264 [==============================] - 0s 38us/sample - loss: 0.6670 - accuracy: 0.5972\n",
      "Epoch 132/150\n",
      "2264/2264 [==============================] - 0s 36us/sample - loss: 0.6667 - accuracy: 0.5963\n",
      "Epoch 133/150\n",
      "2264/2264 [==============================] - 0s 39us/sample - loss: 0.6666 - accuracy: 0.5954\n",
      "Epoch 134/150\n",
      "2264/2264 [==============================] - 0s 42us/sample - loss: 0.6679 - accuracy: 0.5932\n",
      "Epoch 135/150\n",
      "2264/2264 [==============================] - 0s 39us/sample - loss: 0.6670 - accuracy: 0.5954\n",
      "Epoch 136/150\n",
      "2264/2264 [==============================] - 0s 38us/sample - loss: 0.6683 - accuracy: 0.5914\n",
      "Epoch 137/150\n",
      "2264/2264 [==============================] - 0s 37us/sample - loss: 0.6666 - accuracy: 0.5950\n",
      "Epoch 138/150\n",
      "2264/2264 [==============================] - 0s 37us/sample - loss: 0.6669 - accuracy: 0.5910\n",
      "Epoch 139/150\n",
      "2264/2264 [==============================] - 0s 39us/sample - loss: 0.6674 - accuracy: 0.5954\n",
      "Epoch 140/150\n",
      "2264/2264 [==============================] - 0s 38us/sample - loss: 0.6663 - accuracy: 0.5910\n",
      "Epoch 141/150\n",
      "2264/2264 [==============================] - 0s 40us/sample - loss: 0.6674 - accuracy: 0.5888\n",
      "Epoch 142/150\n",
      "2264/2264 [==============================] - 0s 38us/sample - loss: 0.6662 - accuracy: 0.5998\n",
      "Epoch 143/150\n",
      "2264/2264 [==============================] - 0s 37us/sample - loss: 0.6667 - accuracy: 0.5897\n",
      "Epoch 144/150\n",
      "2264/2264 [==============================] - 0s 38us/sample - loss: 0.6661 - accuracy: 0.5972\n",
      "Epoch 145/150\n",
      "2264/2264 [==============================] - 0s 41us/sample - loss: 0.6665 - accuracy: 0.5936\n",
      "Epoch 146/150\n",
      "2264/2264 [==============================] - 0s 41us/sample - loss: 0.6673 - accuracy: 0.5932\n",
      "Epoch 147/150\n",
      "2264/2264 [==============================] - 0s 42us/sample - loss: 0.6661 - accuracy: 0.5950\n",
      "Epoch 148/150\n",
      "2264/2264 [==============================] - 0s 38us/sample - loss: 0.6675 - accuracy: 0.5923\n",
      "Epoch 149/150\n",
      "2264/2264 [==============================] - 0s 37us/sample - loss: 0.6668 - accuracy: 0.5923\n",
      "Epoch 150/150\n",
      "2264/2264 [==============================] - 0s 37us/sample - loss: 0.6661 - accuracy: 0.5892\n"
     ]
    },
    {
     "data": {
      "text/plain": [
       "<tensorflow.python.keras.callbacks.History at 0x1a36f29128>"
      ]
     },
     "execution_count": 208,
     "metadata": {},
     "output_type": "execute_result"
    }
   ],
   "source": [
    "classifier.fit(X_train, y_train, batch_size=batch_size, epochs=epochs)"
   ]
  },
  {
   "cell_type": "code",
   "execution_count": 209,
   "metadata": {},
   "outputs": [
    {
     "name": "stdout",
     "output_type": "stream",
     "text": [
      "251/251 [==============================] - 0s 260us/sample - loss: 0.7452 - accuracy: 0.5339\n",
      "2264/2264 [==============================] - 0s 21us/sample - loss: 0.6642 - accuracy: 0.6029\n",
      "test accuracy: 0.53386456\n",
      "training data accuracy0.60291517\n"
     ]
    }
   ],
   "source": [
    "test_acc = classifier.evaluate(X_test, y_test, batch_size=32)[1]\n",
    "train_acc = classifier.evaluate(X_train, y_train, batch_size=32)[1]\n",
    "print(\"test accuracy: \" + str(test_acc))\n",
    "print(\"training data accuracy\"+str(train_acc))"
   ]
  },
  {
   "cell_type": "markdown",
   "metadata": {},
   "source": [
    "## Modification"
   ]
  },
  {
   "cell_type": "markdown",
   "metadata": {},
   "source": [
    "## Analysis: Since stock market is a sequential result, if we put the previous days' data into the traing data, we may get a more accurate prediction. To varify it, the following will realize this idea."
   ]
  },
  {
   "cell_type": "markdown",
   "metadata": {},
   "source": [
    "### Now, we change the input data to improve the accuracy."
   ]
  },
  {
   "cell_type": "code",
   "execution_count": 211,
   "metadata": {},
   "outputs": [
    {
     "data": {
      "text/html": [
       "<div>\n",
       "<style scoped>\n",
       "    .dataframe tbody tr th:only-of-type {\n",
       "        vertical-align: middle;\n",
       "    }\n",
       "\n",
       "    .dataframe tbody tr th {\n",
       "        vertical-align: top;\n",
       "    }\n",
       "\n",
       "    .dataframe thead th {\n",
       "        text-align: right;\n",
       "    }\n",
       "</style>\n",
       "<table border=\"1\" class=\"dataframe\">\n",
       "  <thead>\n",
       "    <tr style=\"text-align: right;\">\n",
       "      <th></th>\n",
       "      <th>Date</th>\n",
       "      <th>Open Price</th>\n",
       "      <th>Close Price</th>\n",
       "      <th>High Price</th>\n",
       "      <th>Low Price</th>\n",
       "      <th>Volume</th>\n",
       "    </tr>\n",
       "  </thead>\n",
       "  <tbody>\n",
       "    <tr>\n",
       "      <th>0</th>\n",
       "      <td>02-Jan-2009</td>\n",
       "      <td>902.99</td>\n",
       "      <td>931.80</td>\n",
       "      <td>934.73</td>\n",
       "      <td>899.35</td>\n",
       "      <td>4048270080</td>\n",
       "    </tr>\n",
       "    <tr>\n",
       "      <th>1</th>\n",
       "      <td>05-Jan-2009</td>\n",
       "      <td>929.17</td>\n",
       "      <td>927.45</td>\n",
       "      <td>936.63</td>\n",
       "      <td>919.53</td>\n",
       "      <td>5413910016</td>\n",
       "    </tr>\n",
       "    <tr>\n",
       "      <th>2</th>\n",
       "      <td>06-Jan-2009</td>\n",
       "      <td>931.17</td>\n",
       "      <td>934.70</td>\n",
       "      <td>943.85</td>\n",
       "      <td>927.28</td>\n",
       "      <td>5392620032</td>\n",
       "    </tr>\n",
       "    <tr>\n",
       "      <th>3</th>\n",
       "      <td>07-Jan-2009</td>\n",
       "      <td>927.45</td>\n",
       "      <td>906.65</td>\n",
       "      <td>927.45</td>\n",
       "      <td>902.37</td>\n",
       "      <td>4704940032</td>\n",
       "    </tr>\n",
       "    <tr>\n",
       "      <th>4</th>\n",
       "      <td>08-Jan-2009</td>\n",
       "      <td>905.73</td>\n",
       "      <td>909.73</td>\n",
       "      <td>910.00</td>\n",
       "      <td>896.81</td>\n",
       "      <td>4991549952</td>\n",
       "    </tr>\n",
       "  </tbody>\n",
       "</table>\n",
       "</div>"
      ],
      "text/plain": [
       "          Date  Open Price  Close Price  High Price  Low Price      Volume\n",
       "0  02-Jan-2009      902.99       931.80      934.73     899.35  4048270080\n",
       "1  05-Jan-2009      929.17       927.45      936.63     919.53  5413910016\n",
       "2  06-Jan-2009      931.17       934.70      943.85     927.28  5392620032\n",
       "3  07-Jan-2009      927.45       906.65      927.45     902.37  4704940032\n",
       "4  08-Jan-2009      905.73       909.73      910.00     896.81  4991549952"
      ]
     },
     "execution_count": 211,
     "metadata": {},
     "output_type": "execute_result"
    }
   ],
   "source": [
    "data = pd.read_csv('S&P_stock_data.csv')\n",
    "test_data = pd.read_csv('test_data.csv')\n",
    "data.head()"
   ]
  },
  {
   "cell_type": "code",
   "execution_count": 212,
   "metadata": {},
   "outputs": [],
   "source": [
    "def NNRule(inputdata):\n",
    "    for index, row in inputdata.iterrows():\n",
    "        if index !=0 and index !=1 and index !=2:\n",
    "            if int(inputdata.loc[index - 1, 'Open Price']) > int(row['Open Price'])  :\n",
    "                inputdata.loc[index, 'growth'] = 0\n",
    "            else :\n",
    "                inputdata.loc[index, 'growth'] = 1\n",
    "            inputdata.loc[index, 'yesterday_Open Price']= inputdata.loc[index-1, 'Open Price']\n",
    "            inputdata.loc[index, 'yesterday_Cloe Price']= inputdata.loc[index-1, 'Close Price']\n",
    "            inputdata.loc[index, 'yesterday_High Price']= inputdata.loc[index-1, 'High Price']\n",
    "            inputdata.loc[index, 'yesterday_Low Price']= inputdata.loc[index-1, 'Low Price']\n",
    "            inputdata.loc[index, 'yesterday_Volume Price']= inputdata.loc[index-1, 'Volume']\n",
    "            \n",
    "            inputdata.loc[index, 'yes_yes_Open Price']= inputdata.loc[index-2, 'Open Price']\n",
    "            inputdata.loc[index, 'yes_yes_Cloe Price']= inputdata.loc[index-2, 'Close Price']\n",
    "            inputdata.loc[index, 'yes_yes_High Price']= inputdata.loc[index-2, 'High Price']\n",
    "            inputdata.loc[index, 'yes_yes_Low Price']= inputdata.loc[index-2, 'Low Price']\n",
    "            inputdata.loc[index, 'yes_yes_Volume Price']= inputdata.loc[index-2, 'Volume']"
   ]
  },
  {
   "cell_type": "code",
   "execution_count": 213,
   "metadata": {},
   "outputs": [],
   "source": [
    "NNRule(data)\n",
    "NNRule(test_data)\n",
    "\n",
    "X_train = data.loc[:, data.columns != 'growth']\n",
    "y_train = data['growth']\n",
    "X_test = test_data.loc[:, data.columns != 'growth']\n",
    "y_test = test_data['growth']"
   ]
  },
  {
   "cell_type": "code",
   "execution_count": 214,
   "metadata": {},
   "outputs": [
    {
     "data": {
      "text/html": [
       "<div>\n",
       "<style scoped>\n",
       "    .dataframe tbody tr th:only-of-type {\n",
       "        vertical-align: middle;\n",
       "    }\n",
       "\n",
       "    .dataframe tbody tr th {\n",
       "        vertical-align: top;\n",
       "    }\n",
       "\n",
       "    .dataframe thead th {\n",
       "        text-align: right;\n",
       "    }\n",
       "</style>\n",
       "<table border=\"1\" class=\"dataframe\">\n",
       "  <thead>\n",
       "    <tr style=\"text-align: right;\">\n",
       "      <th></th>\n",
       "      <th>Date</th>\n",
       "      <th>Open Price</th>\n",
       "      <th>Close Price</th>\n",
       "      <th>High Price</th>\n",
       "      <th>Low Price</th>\n",
       "      <th>Volume</th>\n",
       "      <th>yesterday_Open Price</th>\n",
       "      <th>yesterday_Cloe Price</th>\n",
       "      <th>yesterday_High Price</th>\n",
       "      <th>yesterday_Low Price</th>\n",
       "      <th>yesterday_Volume Price</th>\n",
       "      <th>yes_yes_Open Price</th>\n",
       "      <th>yes_yes_Cloe Price</th>\n",
       "      <th>yes_yes_High Price</th>\n",
       "      <th>yes_yes_Low Price</th>\n",
       "      <th>yes_yes_Volume Price</th>\n",
       "    </tr>\n",
       "  </thead>\n",
       "  <tbody>\n",
       "    <tr>\n",
       "      <th>0</th>\n",
       "      <td>02-Jan-2009</td>\n",
       "      <td>902.99</td>\n",
       "      <td>931.80</td>\n",
       "      <td>934.73</td>\n",
       "      <td>899.35</td>\n",
       "      <td>4048270080</td>\n",
       "      <td>NaN</td>\n",
       "      <td>NaN</td>\n",
       "      <td>NaN</td>\n",
       "      <td>NaN</td>\n",
       "      <td>NaN</td>\n",
       "      <td>NaN</td>\n",
       "      <td>NaN</td>\n",
       "      <td>NaN</td>\n",
       "      <td>NaN</td>\n",
       "      <td>NaN</td>\n",
       "    </tr>\n",
       "    <tr>\n",
       "      <th>1</th>\n",
       "      <td>05-Jan-2009</td>\n",
       "      <td>929.17</td>\n",
       "      <td>927.45</td>\n",
       "      <td>936.63</td>\n",
       "      <td>919.53</td>\n",
       "      <td>5413910016</td>\n",
       "      <td>NaN</td>\n",
       "      <td>NaN</td>\n",
       "      <td>NaN</td>\n",
       "      <td>NaN</td>\n",
       "      <td>NaN</td>\n",
       "      <td>NaN</td>\n",
       "      <td>NaN</td>\n",
       "      <td>NaN</td>\n",
       "      <td>NaN</td>\n",
       "      <td>NaN</td>\n",
       "    </tr>\n",
       "    <tr>\n",
       "      <th>2</th>\n",
       "      <td>06-Jan-2009</td>\n",
       "      <td>931.17</td>\n",
       "      <td>934.70</td>\n",
       "      <td>943.85</td>\n",
       "      <td>927.28</td>\n",
       "      <td>5392620032</td>\n",
       "      <td>NaN</td>\n",
       "      <td>NaN</td>\n",
       "      <td>NaN</td>\n",
       "      <td>NaN</td>\n",
       "      <td>NaN</td>\n",
       "      <td>NaN</td>\n",
       "      <td>NaN</td>\n",
       "      <td>NaN</td>\n",
       "      <td>NaN</td>\n",
       "      <td>NaN</td>\n",
       "    </tr>\n",
       "    <tr>\n",
       "      <th>3</th>\n",
       "      <td>07-Jan-2009</td>\n",
       "      <td>927.45</td>\n",
       "      <td>906.65</td>\n",
       "      <td>927.45</td>\n",
       "      <td>902.37</td>\n",
       "      <td>4704940032</td>\n",
       "      <td>931.17</td>\n",
       "      <td>934.70</td>\n",
       "      <td>943.85</td>\n",
       "      <td>927.28</td>\n",
       "      <td>5.392620e+09</td>\n",
       "      <td>929.17</td>\n",
       "      <td>927.45</td>\n",
       "      <td>936.63</td>\n",
       "      <td>919.53</td>\n",
       "      <td>5.413910e+09</td>\n",
       "    </tr>\n",
       "    <tr>\n",
       "      <th>4</th>\n",
       "      <td>08-Jan-2009</td>\n",
       "      <td>905.73</td>\n",
       "      <td>909.73</td>\n",
       "      <td>910.00</td>\n",
       "      <td>896.81</td>\n",
       "      <td>4991549952</td>\n",
       "      <td>927.45</td>\n",
       "      <td>906.65</td>\n",
       "      <td>927.45</td>\n",
       "      <td>902.37</td>\n",
       "      <td>4.704940e+09</td>\n",
       "      <td>931.17</td>\n",
       "      <td>934.70</td>\n",
       "      <td>943.85</td>\n",
       "      <td>927.28</td>\n",
       "      <td>5.392620e+09</td>\n",
       "    </tr>\n",
       "  </tbody>\n",
       "</table>\n",
       "</div>"
      ],
      "text/plain": [
       "          Date  Open Price  Close Price  High Price  Low Price      Volume  \\\n",
       "0  02-Jan-2009      902.99       931.80      934.73     899.35  4048270080   \n",
       "1  05-Jan-2009      929.17       927.45      936.63     919.53  5413910016   \n",
       "2  06-Jan-2009      931.17       934.70      943.85     927.28  5392620032   \n",
       "3  07-Jan-2009      927.45       906.65      927.45     902.37  4704940032   \n",
       "4  08-Jan-2009      905.73       909.73      910.00     896.81  4991549952   \n",
       "\n",
       "   yesterday_Open Price  yesterday_Cloe Price  yesterday_High Price  \\\n",
       "0                   NaN                   NaN                   NaN   \n",
       "1                   NaN                   NaN                   NaN   \n",
       "2                   NaN                   NaN                   NaN   \n",
       "3                931.17                934.70                943.85   \n",
       "4                927.45                906.65                927.45   \n",
       "\n",
       "   yesterday_Low Price  yesterday_Volume Price  yes_yes_Open Price  \\\n",
       "0                  NaN                     NaN                 NaN   \n",
       "1                  NaN                     NaN                 NaN   \n",
       "2                  NaN                     NaN                 NaN   \n",
       "3               927.28            5.392620e+09              929.17   \n",
       "4               902.37            4.704940e+09              931.17   \n",
       "\n",
       "   yes_yes_Cloe Price  yes_yes_High Price  yes_yes_Low Price  \\\n",
       "0                 NaN                 NaN                NaN   \n",
       "1                 NaN                 NaN                NaN   \n",
       "2                 NaN                 NaN                NaN   \n",
       "3              927.45              936.63             919.53   \n",
       "4              934.70              943.85             927.28   \n",
       "\n",
       "   yes_yes_Volume Price  \n",
       "0                   NaN  \n",
       "1                   NaN  \n",
       "2                   NaN  \n",
       "3          5.413910e+09  \n",
       "4          5.392620e+09  "
      ]
     },
     "execution_count": 214,
     "metadata": {},
     "output_type": "execute_result"
    }
   ],
   "source": [
    "X_train.head()"
   ]
  },
  {
   "cell_type": "markdown",
   "metadata": {},
   "source": [
    "### Drop the rows that are incomplete"
   ]
  },
  {
   "cell_type": "code",
   "execution_count": 215,
   "metadata": {},
   "outputs": [
    {
     "name": "stderr",
     "output_type": "stream",
     "text": [
      "/anaconda3/lib/python3.7/site-packages/pandas/core/frame.py:3697: SettingWithCopyWarning: \n",
      "A value is trying to be set on a copy of a slice from a DataFrame\n",
      "\n",
      "See the caveats in the documentation: http://pandas.pydata.org/pandas-docs/stable/indexing.html#indexing-view-versus-copy\n",
      "  errors=errors)\n"
     ]
    }
   ],
   "source": [
    "X_train.drop([0,1,2], axis= 0 , inplace= True)\n",
    "X_test.drop([0,1,2], axis= 0 , inplace= True)\n",
    "X_train.drop(labels='Date', axis=1, inplace = True)\n",
    "X_test.drop(labels='Date', axis=1, inplace = True)\n",
    "y_train.drop([0,1,2], axis= 0 , inplace= True)\n",
    "y_test.drop([0,1,2], axis= 0 , inplace= True)"
   ]
  },
  {
   "cell_type": "code",
   "execution_count": 216,
   "metadata": {},
   "outputs": [
    {
     "data": {
      "text/html": [
       "<div>\n",
       "<style scoped>\n",
       "    .dataframe tbody tr th:only-of-type {\n",
       "        vertical-align: middle;\n",
       "    }\n",
       "\n",
       "    .dataframe tbody tr th {\n",
       "        vertical-align: top;\n",
       "    }\n",
       "\n",
       "    .dataframe thead th {\n",
       "        text-align: right;\n",
       "    }\n",
       "</style>\n",
       "<table border=\"1\" class=\"dataframe\">\n",
       "  <thead>\n",
       "    <tr style=\"text-align: right;\">\n",
       "      <th></th>\n",
       "      <th>Open Price</th>\n",
       "      <th>Close Price</th>\n",
       "      <th>High Price</th>\n",
       "      <th>Low Price</th>\n",
       "      <th>Volume</th>\n",
       "      <th>yesterday_Open Price</th>\n",
       "      <th>yesterday_Cloe Price</th>\n",
       "      <th>yesterday_High Price</th>\n",
       "      <th>yesterday_Low Price</th>\n",
       "      <th>yesterday_Volume Price</th>\n",
       "      <th>yes_yes_Open Price</th>\n",
       "      <th>yes_yes_Cloe Price</th>\n",
       "      <th>yes_yes_High Price</th>\n",
       "      <th>yes_yes_Low Price</th>\n",
       "      <th>yes_yes_Volume Price</th>\n",
       "    </tr>\n",
       "  </thead>\n",
       "  <tbody>\n",
       "    <tr>\n",
       "      <th>3</th>\n",
       "      <td>2731.33</td>\n",
       "      <td>2743.15</td>\n",
       "      <td>2743.45</td>\n",
       "      <td>2727.92</td>\n",
       "      <td>1918869120</td>\n",
       "      <td>2719.31</td>\n",
       "      <td>2723.99</td>\n",
       "      <td>2729.29</td>\n",
       "      <td>2719.07</td>\n",
       "      <td>2.100768e+09</td>\n",
       "      <td>2697.85</td>\n",
       "      <td>2713.06</td>\n",
       "      <td>2714.37</td>\n",
       "      <td>2697.77</td>\n",
       "      <td>2.090595e+09</td>\n",
       "    </tr>\n",
       "    <tr>\n",
       "      <th>4</th>\n",
       "      <td>2742.67</td>\n",
       "      <td>2747.71</td>\n",
       "      <td>2748.51</td>\n",
       "      <td>2737.60</td>\n",
       "      <td>1894823936</td>\n",
       "      <td>2731.33</td>\n",
       "      <td>2743.15</td>\n",
       "      <td>2743.45</td>\n",
       "      <td>2727.92</td>\n",
       "      <td>1.918869e+09</td>\n",
       "      <td>2719.31</td>\n",
       "      <td>2723.99</td>\n",
       "      <td>2729.29</td>\n",
       "      <td>2719.07</td>\n",
       "      <td>2.100768e+09</td>\n",
       "    </tr>\n",
       "    <tr>\n",
       "      <th>5</th>\n",
       "      <td>2751.15</td>\n",
       "      <td>2751.29</td>\n",
       "      <td>2759.14</td>\n",
       "      <td>2747.86</td>\n",
       "      <td>1957263872</td>\n",
       "      <td>2742.67</td>\n",
       "      <td>2747.71</td>\n",
       "      <td>2748.51</td>\n",
       "      <td>2737.60</td>\n",
       "      <td>1.894824e+09</td>\n",
       "      <td>2731.33</td>\n",
       "      <td>2743.15</td>\n",
       "      <td>2743.45</td>\n",
       "      <td>2727.92</td>\n",
       "      <td>1.918869e+09</td>\n",
       "    </tr>\n",
       "    <tr>\n",
       "      <th>6</th>\n",
       "      <td>2745.55</td>\n",
       "      <td>2748.23</td>\n",
       "      <td>2750.80</td>\n",
       "      <td>2736.06</td>\n",
       "      <td>2048867328</td>\n",
       "      <td>2751.15</td>\n",
       "      <td>2751.29</td>\n",
       "      <td>2759.14</td>\n",
       "      <td>2747.86</td>\n",
       "      <td>1.957264e+09</td>\n",
       "      <td>2742.67</td>\n",
       "      <td>2747.71</td>\n",
       "      <td>2748.51</td>\n",
       "      <td>2737.60</td>\n",
       "      <td>1.894824e+09</td>\n",
       "    </tr>\n",
       "    <tr>\n",
       "      <th>7</th>\n",
       "      <td>2752.97</td>\n",
       "      <td>2767.56</td>\n",
       "      <td>2767.56</td>\n",
       "      <td>2752.78</td>\n",
       "      <td>1978592384</td>\n",
       "      <td>2745.55</td>\n",
       "      <td>2748.23</td>\n",
       "      <td>2750.80</td>\n",
       "      <td>2736.06</td>\n",
       "      <td>2.048867e+09</td>\n",
       "      <td>2751.15</td>\n",
       "      <td>2751.29</td>\n",
       "      <td>2759.14</td>\n",
       "      <td>2747.86</td>\n",
       "      <td>1.957264e+09</td>\n",
       "    </tr>\n",
       "  </tbody>\n",
       "</table>\n",
       "</div>"
      ],
      "text/plain": [
       "   Open Price  Close Price  High Price  Low Price      Volume  \\\n",
       "3     2731.33      2743.15     2743.45    2727.92  1918869120   \n",
       "4     2742.67      2747.71     2748.51    2737.60  1894823936   \n",
       "5     2751.15      2751.29     2759.14    2747.86  1957263872   \n",
       "6     2745.55      2748.23     2750.80    2736.06  2048867328   \n",
       "7     2752.97      2767.56     2767.56    2752.78  1978592384   \n",
       "\n",
       "   yesterday_Open Price  yesterday_Cloe Price  yesterday_High Price  \\\n",
       "3               2719.31               2723.99               2729.29   \n",
       "4               2731.33               2743.15               2743.45   \n",
       "5               2742.67               2747.71               2748.51   \n",
       "6               2751.15               2751.29               2759.14   \n",
       "7               2745.55               2748.23               2750.80   \n",
       "\n",
       "   yesterday_Low Price  yesterday_Volume Price  yes_yes_Open Price  \\\n",
       "3              2719.07            2.100768e+09             2697.85   \n",
       "4              2727.92            1.918869e+09             2719.31   \n",
       "5              2737.60            1.894824e+09             2731.33   \n",
       "6              2747.86            1.957264e+09             2742.67   \n",
       "7              2736.06            2.048867e+09             2751.15   \n",
       "\n",
       "   yes_yes_Cloe Price  yes_yes_High Price  yes_yes_Low Price  \\\n",
       "3             2713.06             2714.37            2697.77   \n",
       "4             2723.99             2729.29            2719.07   \n",
       "5             2743.15             2743.45            2727.92   \n",
       "6             2747.71             2748.51            2737.60   \n",
       "7             2751.29             2759.14            2747.86   \n",
       "\n",
       "   yes_yes_Volume Price  \n",
       "3          2.090595e+09  \n",
       "4          2.100768e+09  \n",
       "5          1.918869e+09  \n",
       "6          1.894824e+09  \n",
       "7          1.957264e+09  "
      ]
     },
     "execution_count": 216,
     "metadata": {},
     "output_type": "execute_result"
    }
   ],
   "source": [
    "X_test.head()"
   ]
  },
  {
   "cell_type": "markdown",
   "metadata": {},
   "source": [
    "## Feature Scaling"
   ]
  },
  {
   "cell_type": "code",
   "execution_count": 217,
   "metadata": {},
   "outputs": [
    {
     "name": "stderr",
     "output_type": "stream",
     "text": [
      "/anaconda3/lib/python3.7/site-packages/sklearn/preprocessing/data.py:625: DataConversionWarning: Data with input dtype int64, float64 were all converted to float64 by StandardScaler.\n",
      "  return self.partial_fit(X, y)\n",
      "/anaconda3/lib/python3.7/site-packages/sklearn/base.py:462: DataConversionWarning: Data with input dtype int64, float64 were all converted to float64 by StandardScaler.\n",
      "  return self.fit(X, **fit_params).transform(X)\n",
      "/anaconda3/lib/python3.7/site-packages/ipykernel_launcher.py:5: DataConversionWarning: Data with input dtype int64, float64 were all converted to float64 by StandardScaler.\n",
      "  \"\"\"\n"
     ]
    }
   ],
   "source": [
    "from sklearn.preprocessing import StandardScaler\n",
    "sc = StandardScaler()\n",
    "\n",
    "X_train = sc.fit_transform(X_train)\n",
    "X_test = sc.transform(X_test)"
   ]
  },
  {
   "cell_type": "markdown",
   "metadata": {},
   "source": [
    "### Import Keras"
   ]
  },
  {
   "cell_type": "code",
   "execution_count": 218,
   "metadata": {},
   "outputs": [],
   "source": [
    "from tensorflow.keras.models import Sequential\n",
    "from tensorflow.keras.layers import Dense"
   ]
  },
  {
   "cell_type": "markdown",
   "metadata": {},
   "source": [
    "### Initialising the ANN"
   ]
  },
  {
   "cell_type": "code",
   "execution_count": 219,
   "metadata": {},
   "outputs": [],
   "source": [
    "classifier = Sequential()"
   ]
  },
  {
   "cell_type": "markdown",
   "metadata": {},
   "source": [
    "### Adding the input layer and the first hidden layer"
   ]
  },
  {
   "cell_type": "code",
   "execution_count": 220,
   "metadata": {},
   "outputs": [],
   "source": [
    "hidden_units = 20    # how many neurons in the hidden layer\n",
    "activation = 'relu'  # activation function for hidden layer\n",
    "l2 = 0.001           # regularization - how much we penalize large parameter values\n",
    "learning_rate = 0.1  # how big our steps are in gradient descent\n",
    "epochs = 20          # how many epochs to train for\n",
    "batch_size = 32      # how many samples to use for each gradient descent update"
   ]
  },
  {
   "cell_type": "code",
   "execution_count": 221,
   "metadata": {},
   "outputs": [],
   "source": [
    "classifier.add(Dense(activation = activation, input_dim =15, units = hidden_units ))\n",
    "\n",
    "classifier.add(Dense(input_dim = hidden_units, units = hidden_units, activation = activation))\n",
    "\n",
    "classifier.add(Dense(input_dim = hidden_units, units = hidden_units, activation = activation))\n",
    "\n",
    "classifier.add(Dense(input_dim = hidden_units, units =1, activation = 'sigmoid'))\n",
    "\n",
    "classifier.compile(loss='binary_crossentropy',\n",
    "              # Adam is a kind of gradient descent\n",
    "              optimizer= 'adam',\n",
    "              metrics=['accuracy'])"
   ]
  },
  {
   "cell_type": "code",
   "execution_count": 222,
   "metadata": {},
   "outputs": [
    {
     "name": "stdout",
     "output_type": "stream",
     "text": [
      "Epoch 1/20\n",
      "2262/2262 [==============================] - 0s 111us/sample - loss: 0.6871 - accuracy: 0.5769\n",
      "Epoch 2/20\n",
      "2262/2262 [==============================] - 0s 40us/sample - loss: 0.6797 - accuracy: 0.5805\n",
      "Epoch 3/20\n",
      "2262/2262 [==============================] - 0s 37us/sample - loss: 0.6779 - accuracy: 0.5809\n",
      "Epoch 4/20\n",
      "2262/2262 [==============================] - 0s 35us/sample - loss: 0.6747 - accuracy: 0.5866\n",
      "Epoch 5/20\n",
      "2262/2262 [==============================] - 0s 35us/sample - loss: 0.6741 - accuracy: 0.5942\n",
      "Epoch 6/20\n",
      "2262/2262 [==============================] - 0s 36us/sample - loss: 0.6712 - accuracy: 0.6008\n",
      "Epoch 7/20\n",
      "2262/2262 [==============================] - 0s 36us/sample - loss: 0.6654 - accuracy: 0.6065\n",
      "Epoch 8/20\n",
      "2262/2262 [==============================] - 0s 35us/sample - loss: 0.6649 - accuracy: 0.6012\n",
      "Epoch 9/20\n",
      "2262/2262 [==============================] - 0s 35us/sample - loss: 0.6623 - accuracy: 0.6083\n",
      "Epoch 10/20\n",
      "2262/2262 [==============================] - 0s 35us/sample - loss: 0.6558 - accuracy: 0.6158\n",
      "Epoch 11/20\n",
      "2262/2262 [==============================] - 0s 37us/sample - loss: 0.6527 - accuracy: 0.6229\n",
      "Epoch 12/20\n",
      "2262/2262 [==============================] - 0s 35us/sample - loss: 0.6550 - accuracy: 0.6278\n",
      "Epoch 13/20\n",
      "2262/2262 [==============================] - 0s 35us/sample - loss: 0.6462 - accuracy: 0.6269\n",
      "Epoch 14/20\n",
      "2262/2262 [==============================] - 0s 35us/sample - loss: 0.6449 - accuracy: 0.6309\n",
      "Epoch 15/20\n",
      "2262/2262 [==============================] - 0s 35us/sample - loss: 0.6373 - accuracy: 0.6530\n",
      "Epoch 16/20\n",
      "2262/2262 [==============================] - 0s 38us/sample - loss: 0.6340 - accuracy: 0.6441\n",
      "Epoch 17/20\n",
      "2262/2262 [==============================] - 0s 35us/sample - loss: 0.6304 - accuracy: 0.6503\n",
      "Epoch 18/20\n",
      "2262/2262 [==============================] - 0s 35us/sample - loss: 0.6252 - accuracy: 0.6508\n",
      "Epoch 19/20\n",
      "2262/2262 [==============================] - 0s 36us/sample - loss: 0.6200 - accuracy: 0.6684\n",
      "Epoch 20/20\n",
      "2262/2262 [==============================] - 0s 35us/sample - loss: 0.6122 - accuracy: 0.6702\n"
     ]
    },
    {
     "data": {
      "text/plain": [
       "<tensorflow.python.keras.callbacks.History at 0x1a354d04e0>"
      ]
     },
     "execution_count": 222,
     "metadata": {},
     "output_type": "execute_result"
    }
   ],
   "source": [
    "classifier.fit(X_train, y_train, batch_size=batch_size, epochs=epochs)"
   ]
  },
  {
   "cell_type": "code",
   "execution_count": 223,
   "metadata": {},
   "outputs": [
    {
     "name": "stdout",
     "output_type": "stream",
     "text": [
      "249/249 [==============================] - 0s 230us/sample - loss: 0.9060 - accuracy: 0.5622\n",
      "2262/2262 [==============================] - 0s 19us/sample - loss: 0.6140 - accuracy: 0.6512\n",
      "test accuracy: 0.562249\n",
      "training data accuracy0.6511936\n"
     ]
    }
   ],
   "source": [
    "test_acc = classifier.evaluate(X_test, y_test, batch_size=32)[1]\n",
    "train_acc = classifier.evaluate(X_train, y_train, batch_size=32)[1]\n",
    "print(\"test accuracy: \" + str(test_acc))\n",
    "print(\"training data accuracy\"+str(train_acc))"
   ]
  },
  {
   "cell_type": "markdown",
   "metadata": {},
   "source": [
    "## Excitedly, the accuracy improved significantly!! "
   ]
  },
  {
   "cell_type": "markdown",
   "metadata": {},
   "source": [
    "## Discussion"
   ]
  },
  {
   "cell_type": "markdown",
   "metadata": {},
   "source": [
    "### 1.本次作業採用的preprocess方式，我的想法是股票的漲跌可能和當日的漲幅有關，即也許幅度越大漲越多，但是可以想見結果會很不準確，因為沒有任何理論基礎，和理性的推斷。但是最後一個NN的preprocess, 我認為是最好的，因為根據股票的性質，採取更多天作為參考，可以大幅增加準確度。之所以把數據預測結果簡化成漲跌是因為可以簡化模型，增加準確度，因為如果預測股票會漲，投資者就可以購買，不過如果要預測實際會漲跌多少，難度會增加很多，準確度也許會低於一半，所以我認為意義不大，不想用此方法。"
   ]
  },
  {
   "cell_type": "markdown",
   "metadata": {},
   "source": [
    "###  2.1. 而正是因為資料混亂，才顯示出NN的價值，因為NN可以單純丟數據給他，他自己理解出可能的規則，我想這也是為什麼他的準確度可以最高。"
   ]
  },
  {
   "cell_type": "markdown",
   "metadata": {},
   "source": [
    "### 2.2.當然如果資料太過混亂或者本身矛盾有可能會影響NN的準確度，但是太過difficult的資料使用Logistic 或者SVM也沒有太大幫助，所以我認為反而是NN才可以套用混亂的資料。可想見，這也是為什麼影像辨識中常常會用到NN的理由。 "
   ]
  },
  {
   "cell_type": "markdown",
   "metadata": {},
   "source": [
    "### 3. 如何增加準確度？因為股票本身為連續性的變化，如果要增加準確度，第一個方法是利用多日前的資料，此種方法，我有應用在最後一個NN 的 Modification, 也確實有增加準確度，成為最準確的方法，而我只是多取三天的資料，如果增加天數，想必可以更高，但考慮到效率，我在此練習中沒有這麼做。另外，網路上有一種方法是利用複雜的preprcess流程，例如去除noise，忽略微小漲幅等方式，讓進去的資料更乾淨，也可以增加準確度。\n"
   ]
  },
  {
   "cell_type": "code",
   "execution_count": null,
   "metadata": {},
   "outputs": [],
   "source": []
  }
 ],
 "metadata": {
  "kernelspec": {
   "display_name": "Python 3",
   "language": "python",
   "name": "python3"
  },
  "language_info": {
   "codemirror_mode": {
    "name": "ipython",
    "version": 3
   },
   "file_extension": ".py",
   "mimetype": "text/x-python",
   "name": "python",
   "nbconvert_exporter": "python",
   "pygments_lexer": "ipython3",
   "version": "3.7.1"
  }
 },
 "nbformat": 4,
 "nbformat_minor": 2
}
